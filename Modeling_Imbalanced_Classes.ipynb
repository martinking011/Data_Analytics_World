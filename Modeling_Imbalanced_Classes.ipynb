{
  "cells": [
    {
      "cell_type": "markdown",
      "metadata": {
        "id": "51ea695d-d19c-4e0c-8510-c2c286222d52"
      },
      "source": [
        "# **Tackle Imbalanced Data Challenge**\n"
      ]
    },
    {
      "cell_type": "markdown",
      "source": [
        "## **Introduction**\n",
        "\n",
        "Class imbalance is a persistent challenge in supervised machine learning, particularly in high-stakes applications such as healthcare diagnostics, credit risk modeling and customer retention analytics. In such scenarios, the minority class often represents the most critical outcomes, such as the presence of disease, likelihood of loan default, or customer attrition yet is underrepresented in the data. As a result, conventional learning algorithms tend to be biased toward the majority class, compromising the ability to generalize effectively on rare but important events.\n",
        "\n",
        "This project explores the problem of imbalanced binary classification through a comparative analysis of three real-world datasets drawn from distinct domains:\n",
        "\n",
        "- **Medical Diagnosis (`im_cancer.csv`)**: Predicting the likelihood of a patient having cancer based on clinical features. The minority class likely represents positive cancer diagnoses, which must be detected with high sensitivity to ensure early intervention.\n",
        "- **Credit Risk (`im_credit.csv`)**: Predicting the probability of credit default or non-repayment. The minority class represents defaulting customers, and failure to correctly identify them may lead to significant financial losses.\n",
        "- **Customer Churn (`im_churn.csv`)**: Predicting whether a customer is likely to leave a service or subscription. The minority class captures churn events, which are key to designing proactive retention strategies.\n",
        "\n",
        "These use cases were chosen to reflect the diversity of imbalanced learning problems across industries, highlighting both domain-specific nuances and shared methodological challenges.\n",
        "\n",
        "The central research objective is to develop a comprehensive and generalizable framework for tackling imbalanced classification. The project is driven by the following technical questions:\n",
        "\n",
        "1. **What is the impact of class imbalance on standard classifier performance across different domains?**\n",
        "2. **How do various resampling techniques (e.g., SMOTE, undersampling, oversampling) perform when applied to real-world data with differing imbalance ratios and feature characteristics?**\n",
        "3. **To what extent can algorithmic modifications, such as cost-sensitive learning or ensemble methods, improve minority class detection without compromising overall model stability?**\n",
        "\n",
        "The methodology is structured as follows:\n",
        "\n",
        "- **Exploratory Data Analysis (EDA)**: Statistical profiling and visualization to understand class distribution, feature interactions, and potential data quality issues.\n",
        "- **Preprocessing**: Including missing value imputation, feature transformation (if applicable), and label encoding. Each dataset is treated independently to preserve domain-specific characteristics.\n",
        "- **Imbalance Treatment**:\n",
        "  - *Data-level*: Techniques such as SMOTE (Synthetic Minority Over-sampling Technique), ADASYN, and random undersampling are applied to modify the class distribution prior to modeling.\n",
        "  - *Algorithm-level*: Strategies such as class weighting and boosting (e.g., XGBoost with `scale_pos_weight`) are used to penalize misclassification of minority classes during training.\n",
        "- **Model Development and Benchmarking**: Classifiers including Logistic Regression, Random Forest, Gradient Boosting Machines, and K-Nearest Neighbors are trained and evaluated under multiple imbalance handling regimes.\n",
        "- **Evaluation Metrics**: Beyond accuracy, which is known to be misleading in imbalanced settings, the evaluation focuses on:\n",
        "  - Precision and Recall  \n",
        "  - F1-Score  \n",
        "  - ROC-AUC  \n",
        "  - Area Under the Precision-Recall Curve (PR AUC)  \n",
        "  - Confusion matrix analysis, especially sensitivity-specificity trade-offs\n",
        "\n",
        "By working with datasets from healthcare, financial services, and customer analytics, this project not only highlights the importance of context-aware modeling but also provides a robust basis for cross-domain learning. The findings contribute to both practical deployment strategies and academic discourse on imbalanced classification.\n",
        "\n",
        "In summary, this work offers a domain-agnostic yet rigorously comparative approach to imbalanced learning. It demonstrates how thoughtful preprocessing, strategic resampling, and informed model selection can jointly improve performance on critical but underrepresented classes.\n"
      ],
      "metadata": {
        "id": "PMFddUy8xiW2"
      }
    },
    {
      "cell_type": "markdown",
      "metadata": {
        "id": "186b95d4-8dd5-4e48-b244-31996e422e15"
      },
      "source": [
        "In this lab, you will identify the imbalanced data problems in four binary classification scenarios, all with skewed class distributions:\n"
      ]
    },
    {
      "cell_type": "markdown",
      "metadata": {
        "id": "12425549-7a2d-450a-a34f-ae7439ff6267"
      },
      "source": [
        "| Task Name     | Class Ratio (Negative vs. Positive)  |\n",
        "| ------------- |:-------------:|\n",
        "| _Credit Card Fraud Detection_      | ~1000 : 1      |\n",
        "| _Predicting Customer Churn_ | ~5 : 1      |\n",
        "| _Tumor Type Estimation_ | ~2 : 1     |\n"
      ]
    },
    {
      "cell_type": "markdown",
      "metadata": {
        "id": "f7193f34-6530-40c5-9bce-8198a2bd61ae"
      },
      "source": [
        "Next, you will try to tackle the imbalanced data challenges in the above tasks using class weighting and resampling methods:\n",
        "- Effective class weighting strategies will assign minority class with more weights, so that it may have a larger impact on the model training process\n",
        "- Resampling methods will generate synthetic datasets from the original datasets\n"
      ]
    },
    {
      "cell_type": "markdown",
      "metadata": {
        "id": "65a5a532-3f9d-46b2-bc18-3b9c9347cee2"
      },
      "source": [
        "## Objectives\n"
      ]
    },
    {
      "cell_type": "markdown",
      "metadata": {
        "id": "578cf6bd-3a2e-4ba3-9963-b3b2ffd2c02d"
      },
      "source": [
        "After completing this lab you will be able to:\n"
      ]
    },
    {
      "cell_type": "markdown",
      "metadata": {
        "id": "f9f5d4ca-1004-4e99-8ac3-4c78d1d9e36f"
      },
      "source": [
        "* Identify typical patterns of imbalanced data challenges\n",
        "* Apply `Class Re-weighting` method to adjust the impacts of different classes in model training processes\n",
        "* Apply `Oversampling` and `Undersampling` to generate synthetic datasets and rebalance classes\n",
        "* Evaluate your consolidated classifiers using robust metrics such as `F-score` and `AUC`\n"
      ]
    },
    {
      "cell_type": "markdown",
      "metadata": {
        "id": "fa786161-e2a4-40ab-af21-bcdaf246888a"
      },
      "source": [
        "----\n"
      ]
    },
    {
      "cell_type": "markdown",
      "metadata": {
        "id": "b214a346-2bb3-4202-95a1-07dbc4ce5dff"
      },
      "source": [
        "First, let us import the required packages for this lab:\n"
      ]
    },
    {
      "cell_type": "code",
      "metadata": {
        "colab": {
          "base_uri": "https://localhost:8080/"
        },
        "id": "9adb1c24-c9e6-40df-a816-4a346f19f017",
        "outputId": "f71338d6-f33b-42e1-b4ee-55a6c2880987"
      },
      "outputs": [
        {
          "output_type": "stream",
          "name": "stdout",
          "text": [
            "Requirement already satisfied: pandas in /usr/local/lib/python3.11/dist-packages (2.3.0)\n",
            "Requirement already satisfied: numpy in /usr/local/lib/python3.11/dist-packages (2.3.1)\n",
            "Requirement already satisfied: matplotlib in /usr/local/lib/python3.11/dist-packages (3.10.3)\n",
            "Requirement already satisfied: seaborn in /usr/local/lib/python3.11/dist-packages (0.13.2)\n",
            "Requirement already satisfied: tqdm in /usr/local/lib/python3.11/dist-packages (4.67.1)\n",
            "Requirement already satisfied: python-dateutil>=2.8.2 in /usr/local/lib/python3.11/dist-packages (from pandas) (2.9.0.post0)\n",
            "Requirement already satisfied: pytz>=2020.1 in /usr/local/lib/python3.11/dist-packages (from pandas) (2025.2)\n",
            "Requirement already satisfied: tzdata>=2022.7 in /usr/local/lib/python3.11/dist-packages (from pandas) (2025.2)\n",
            "Requirement already satisfied: contourpy>=1.0.1 in /usr/local/lib/python3.11/dist-packages (from matplotlib) (1.3.2)\n",
            "Requirement already satisfied: cycler>=0.10 in /usr/local/lib/python3.11/dist-packages (from matplotlib) (0.12.1)\n",
            "Requirement already satisfied: fonttools>=4.22.0 in /usr/local/lib/python3.11/dist-packages (from matplotlib) (4.58.4)\n",
            "Requirement already satisfied: kiwisolver>=1.3.1 in /usr/local/lib/python3.11/dist-packages (from matplotlib) (1.4.8)\n",
            "Requirement already satisfied: packaging>=20.0 in /usr/local/lib/python3.11/dist-packages (from matplotlib) (24.2)\n",
            "Requirement already satisfied: pillow>=8 in /usr/local/lib/python3.11/dist-packages (from matplotlib) (11.2.1)\n",
            "Requirement already satisfied: pyparsing>=2.3.1 in /usr/local/lib/python3.11/dist-packages (from matplotlib) (3.2.3)\n",
            "Requirement already satisfied: six>=1.5 in /usr/local/lib/python3.11/dist-packages (from python-dateutil>=2.8.2->pandas) (1.17.0)\n",
            "Requirement already satisfied: scikit-learn in /usr/local/lib/python3.11/dist-packages (1.6.1)\n",
            "Collecting scikit-learn\n",
            "  Using cached scikit_learn-1.7.0-cp311-cp311-manylinux_2_17_x86_64.manylinux2014_x86_64.whl.metadata (17 kB)\n",
            "Requirement already satisfied: imbalanced-learn in /usr/local/lib/python3.11/dist-packages (0.13.0)\n",
            "Requirement already satisfied: numpy>=1.22.0 in /usr/local/lib/python3.11/dist-packages (from scikit-learn) (2.3.1)\n",
            "Requirement already satisfied: scipy>=1.8.0 in /usr/local/lib/python3.11/dist-packages (from scikit-learn) (1.15.3)\n",
            "Requirement already satisfied: joblib>=1.2.0 in /usr/local/lib/python3.11/dist-packages (from scikit-learn) (1.5.1)\n",
            "Requirement already satisfied: threadpoolctl>=3.1.0 in /usr/local/lib/python3.11/dist-packages (from scikit-learn) (3.6.0)\n",
            "Requirement already satisfied: sklearn-compat<1,>=0.1 in /usr/local/lib/python3.11/dist-packages (from imbalanced-learn) (0.1.3)\n"
          ]
        }
      ],
      "source": [
        "# All Libraries required for this lab are listed below. The libraries pre-installed on Skills Network Labs are commented.\n",
        "# install imbalanced-learn package\n",
        "# Core libraries\n",
        "!pip install -U pandas numpy matplotlib seaborn tqdm\n",
        "\n",
        "# Compatible versions of scikit-learn and imbalanced-learn\n",
        "!pip install -U scikit-learn imbalanced-learn\n"
      ],
      "execution_count": 1
    },
    {
      "cell_type": "code",
      "metadata": {
        "id": "33e0ecd1-083f-4c9c-8778-b0b79905f78f"
      },
      "outputs": [],
      "source": [
        "# Core packages\n",
        "import pandas as pd\n",
        "import numpy as np\n",
        "import matplotlib.pyplot as plt\n",
        "import seaborn as sns\n",
        "\n",
        "# Visualization\n",
        "import matplotlib.pyplot as plt\n",
        "from matplotlib.pyplot import figure\n",
        "\n",
        "# Preprocessing\n",
        "from sklearn.utils import shuffle\n",
        "from sklearn.preprocessing import OneHotEncoder, LabelEncoder, MinMaxScaler\n",
        "from sklearn.impute import SimpleImputer, KNNImputer\n",
        "\n",
        "# Models and evaluation\n",
        "from sklearn.model_selection import train_test_split, learning_curve, GridSearchCV\n",
        "from sklearn.linear_model import LogisticRegression\n",
        "from sklearn.tree import DecisionTreeClassifier\n",
        "from sklearn.ensemble import RandomForestClassifier, GradientBoostingClassifier\n",
        "from sklearn.metrics import classification_report, accuracy_score, precision_recall_fscore_support, confusion_matrix, precision_score, recall_score, roc_auc_score\n",
        "# Import plot_confusion_matrix from the correct location for scikit-learn versions 1.0 and later\n",
        "from sklearn.metrics import ConfusionMatrixDisplay\n",
        "\n",
        "#from sklearn.inspection import permutation_importance #this is not used in the notebook. it can be removed\n",
        "\n",
        "# Resampling\n",
        "from imblearn.under_sampling import RandomUnderSampler\n",
        "\n",
        "# Misc\n",
        "from collections import Counter\n",
        "from sklearn import metrics"
      ],
      "execution_count": 2
    },
    {
      "cell_type": "markdown",
      "metadata": {
        "id": "932d872c-5a50-409f-b9ae-a0d4582b286f"
      },
      "source": [
        "First, we want to provide some sample grid search methods if you are interested in tuning your model\n"
      ]
    },
    {
      "cell_type": "code",
      "metadata": {
        "id": "5e1bc304-ea0c-4f50-8623-c4af0e7605a4"
      },
      "outputs": [],
      "source": [
        "rs = 123\n",
        "# Grid search hyperparameters for a logistic regression model\n",
        "def grid_search_lr(X_train, y_train):\n",
        "    params_grid = {\n",
        "    'class_weight': [{0:0.05, 1:0.95}, {0:0.1, 1:0.9}, {0:0.2, 1:0.8}]\n",
        "    }\n",
        "    lr_model = LogisticRegression(random_state=rs, max_iter=1000)\n",
        "    grid_search = GridSearchCV(estimator = lr_model,\n",
        "                           param_grid = params_grid,\n",
        "                           scoring='f1',\n",
        "                           cv = 5, verbose = 1)\n",
        "    grid_search.fit(X_train, y_train)\n",
        "    best_params = grid_search.best_params_\n",
        "    return best_params\n",
        "\n",
        "# Grid search hyperparameters for a random forest model\n",
        "def grid_search_rf(X_train, y_train):\n",
        "    params_grid = {\n",
        "    'max_depth': [5, 10, 15, 20],\n",
        "    'n_estimators': [25, 50, 100],\n",
        "    'min_samples_split': [2, 5],\n",
        "    'class_weight': [{0:0.1, 1:0.9}, {0:0.2, 1:0.8}, {0:0.3, 1:0.7}]\n",
        "    }\n",
        "    rf_model = RandomForestClassifier(random_state=rs)\n",
        "    grid_search = GridSearchCV(estimator = rf_model,\n",
        "                           param_grid = params_grid,\n",
        "                           scoring='f1',\n",
        "                           cv = 5, verbose = 1)\n",
        "    grid_search.fit(X_train, y_train)\n",
        "    best_params = grid_search.best_params_\n",
        "    return best_params"
      ],
      "execution_count": 3
    },
    {
      "cell_type": "markdown",
      "metadata": {
        "id": "375cc80a-3f7a-4594-8774-f81ff3eb5fb4"
      },
      "source": [
        "and a method to split training and testing dataset\n"
      ]
    },
    {
      "cell_type": "code",
      "metadata": {
        "id": "a6021e6b-b3b1-4eae-bd58-a7f95ecb2fae"
      },
      "outputs": [],
      "source": [
        "def split_data(df):\n",
        "    X = df.loc[ : , df.columns != 'Class']\n",
        "    y = df['Class'].astype('int')\n",
        "    return train_test_split(X, y, test_size=0.2, stratify=y, random_state = rs)"
      ],
      "execution_count": 4
    },
    {
      "cell_type": "markdown",
      "metadata": {
        "id": "cae87a1a-3475-4ca6-8d1f-20c12d62cd82"
      },
      "source": [
        "## Scenario: Credit Card Fraud Detection\n"
      ]
    },
    {
      "cell_type": "markdown",
      "metadata": {
        "id": "b4206128-852e-412f-ba3c-b254702f3ff1"
      },
      "source": [
        "Let's start with a credit card fraud detection scenario.\n",
        "The dataset contains transactions made by credit cards. As you can imagine, the majority of transactions are normal and only a very few real fraud transactions are in the dataset. Our goal is to train a classification model to recognize those fraudulent credit card transactions.\n"
      ]
    },
    {
      "cell_type": "markdown",
      "metadata": {
        "id": "348e4f9f-b692-407d-aa6d-117d2edd822d"
      },
      "source": [
        "First, we load the dataset as a dataframe:\n"
      ]
    },
    {
      "cell_type": "code",
      "metadata": {
        "id": "c15b87c3-48f0-4c3a-a02e-5caca55e22f1"
      },
      "outputs": [],
      "source": [
        "credit_df = pd.read_csv(\"im_credit.csv\", index_col=False)"
      ],
      "execution_count": 5
    },
    {
      "cell_type": "code",
      "metadata": {
        "id": "b900b841-b12f-4f09-a361-26f657b583fa",
        "colab": {
          "base_uri": "https://localhost:8080/",
          "height": 206
        },
        "outputId": "e60ee5e9-19fe-42c2-f301-c42747754e35"
      },
      "outputs": [
        {
          "output_type": "execute_result",
          "data": {
            "text/plain": [
              "        V14       V17        V4       V10       V28  Class\n",
              "0  0.423619 -0.210863  0.933459  0.027866  0.019308      0\n",
              "1  0.986727  0.174009 -2.019905 -1.620065 -0.307753      0\n",
              "2 -0.023094 -0.541985 -0.902618 -0.192212 -0.048965      0\n",
              "3 -0.152111 -0.615094  1.276126 -0.026822  0.044480      0\n",
              "4 -0.535807 -0.248563  4.517539  1.871441  0.120955      0"
            ],
            "text/html": [
              "\n",
              "  <div id=\"df-10524558-b224-4d13-9f77-d0e997f0540b\" class=\"colab-df-container\">\n",
              "    <div>\n",
              "<style scoped>\n",
              "    .dataframe tbody tr th:only-of-type {\n",
              "        vertical-align: middle;\n",
              "    }\n",
              "\n",
              "    .dataframe tbody tr th {\n",
              "        vertical-align: top;\n",
              "    }\n",
              "\n",
              "    .dataframe thead th {\n",
              "        text-align: right;\n",
              "    }\n",
              "</style>\n",
              "<table border=\"1\" class=\"dataframe\">\n",
              "  <thead>\n",
              "    <tr style=\"text-align: right;\">\n",
              "      <th></th>\n",
              "      <th>V14</th>\n",
              "      <th>V17</th>\n",
              "      <th>V4</th>\n",
              "      <th>V10</th>\n",
              "      <th>V28</th>\n",
              "      <th>Class</th>\n",
              "    </tr>\n",
              "  </thead>\n",
              "  <tbody>\n",
              "    <tr>\n",
              "      <th>0</th>\n",
              "      <td>0.423619</td>\n",
              "      <td>-0.210863</td>\n",
              "      <td>0.933459</td>\n",
              "      <td>0.027866</td>\n",
              "      <td>0.019308</td>\n",
              "      <td>0</td>\n",
              "    </tr>\n",
              "    <tr>\n",
              "      <th>1</th>\n",
              "      <td>0.986727</td>\n",
              "      <td>0.174009</td>\n",
              "      <td>-2.019905</td>\n",
              "      <td>-1.620065</td>\n",
              "      <td>-0.307753</td>\n",
              "      <td>0</td>\n",
              "    </tr>\n",
              "    <tr>\n",
              "      <th>2</th>\n",
              "      <td>-0.023094</td>\n",
              "      <td>-0.541985</td>\n",
              "      <td>-0.902618</td>\n",
              "      <td>-0.192212</td>\n",
              "      <td>-0.048965</td>\n",
              "      <td>0</td>\n",
              "    </tr>\n",
              "    <tr>\n",
              "      <th>3</th>\n",
              "      <td>-0.152111</td>\n",
              "      <td>-0.615094</td>\n",
              "      <td>1.276126</td>\n",
              "      <td>-0.026822</td>\n",
              "      <td>0.044480</td>\n",
              "      <td>0</td>\n",
              "    </tr>\n",
              "    <tr>\n",
              "      <th>4</th>\n",
              "      <td>-0.535807</td>\n",
              "      <td>-0.248563</td>\n",
              "      <td>4.517539</td>\n",
              "      <td>1.871441</td>\n",
              "      <td>0.120955</td>\n",
              "      <td>0</td>\n",
              "    </tr>\n",
              "  </tbody>\n",
              "</table>\n",
              "</div>\n",
              "    <div class=\"colab-df-buttons\">\n",
              "\n",
              "  <div class=\"colab-df-container\">\n",
              "    <button class=\"colab-df-convert\" onclick=\"convertToInteractive('df-10524558-b224-4d13-9f77-d0e997f0540b')\"\n",
              "            title=\"Convert this dataframe to an interactive table.\"\n",
              "            style=\"display:none;\">\n",
              "\n",
              "  <svg xmlns=\"http://www.w3.org/2000/svg\" height=\"24px\" viewBox=\"0 -960 960 960\">\n",
              "    <path d=\"M120-120v-720h720v720H120Zm60-500h600v-160H180v160Zm220 220h160v-160H400v160Zm0 220h160v-160H400v160ZM180-400h160v-160H180v160Zm440 0h160v-160H620v160ZM180-180h160v-160H180v160Zm440 0h160v-160H620v160Z\"/>\n",
              "  </svg>\n",
              "    </button>\n",
              "\n",
              "  <style>\n",
              "    .colab-df-container {\n",
              "      display:flex;\n",
              "      gap: 12px;\n",
              "    }\n",
              "\n",
              "    .colab-df-convert {\n",
              "      background-color: #E8F0FE;\n",
              "      border: none;\n",
              "      border-radius: 50%;\n",
              "      cursor: pointer;\n",
              "      display: none;\n",
              "      fill: #1967D2;\n",
              "      height: 32px;\n",
              "      padding: 0 0 0 0;\n",
              "      width: 32px;\n",
              "    }\n",
              "\n",
              "    .colab-df-convert:hover {\n",
              "      background-color: #E2EBFA;\n",
              "      box-shadow: 0px 1px 2px rgba(60, 64, 67, 0.3), 0px 1px 3px 1px rgba(60, 64, 67, 0.15);\n",
              "      fill: #174EA6;\n",
              "    }\n",
              "\n",
              "    .colab-df-buttons div {\n",
              "      margin-bottom: 4px;\n",
              "    }\n",
              "\n",
              "    [theme=dark] .colab-df-convert {\n",
              "      background-color: #3B4455;\n",
              "      fill: #D2E3FC;\n",
              "    }\n",
              "\n",
              "    [theme=dark] .colab-df-convert:hover {\n",
              "      background-color: #434B5C;\n",
              "      box-shadow: 0px 1px 3px 1px rgba(0, 0, 0, 0.15);\n",
              "      filter: drop-shadow(0px 1px 2px rgba(0, 0, 0, 0.3));\n",
              "      fill: #FFFFFF;\n",
              "    }\n",
              "  </style>\n",
              "\n",
              "    <script>\n",
              "      const buttonEl =\n",
              "        document.querySelector('#df-10524558-b224-4d13-9f77-d0e997f0540b button.colab-df-convert');\n",
              "      buttonEl.style.display =\n",
              "        google.colab.kernel.accessAllowed ? 'block' : 'none';\n",
              "\n",
              "      async function convertToInteractive(key) {\n",
              "        const element = document.querySelector('#df-10524558-b224-4d13-9f77-d0e997f0540b');\n",
              "        const dataTable =\n",
              "          await google.colab.kernel.invokeFunction('convertToInteractive',\n",
              "                                                    [key], {});\n",
              "        if (!dataTable) return;\n",
              "\n",
              "        const docLinkHtml = 'Like what you see? Visit the ' +\n",
              "          '<a target=\"_blank\" href=https://colab.research.google.com/notebooks/data_table.ipynb>data table notebook</a>'\n",
              "          + ' to learn more about interactive tables.';\n",
              "        element.innerHTML = '';\n",
              "        dataTable['output_type'] = 'display_data';\n",
              "        await google.colab.output.renderOutput(dataTable, element);\n",
              "        const docLink = document.createElement('div');\n",
              "        docLink.innerHTML = docLinkHtml;\n",
              "        element.appendChild(docLink);\n",
              "      }\n",
              "    </script>\n",
              "  </div>\n",
              "\n",
              "\n",
              "    <div id=\"df-6e59837b-3c7b-4ea3-8b07-e04f292fa2b8\">\n",
              "      <button class=\"colab-df-quickchart\" onclick=\"quickchart('df-6e59837b-3c7b-4ea3-8b07-e04f292fa2b8')\"\n",
              "                title=\"Suggest charts\"\n",
              "                style=\"display:none;\">\n",
              "\n",
              "<svg xmlns=\"http://www.w3.org/2000/svg\" height=\"24px\"viewBox=\"0 0 24 24\"\n",
              "     width=\"24px\">\n",
              "    <g>\n",
              "        <path d=\"M19 3H5c-1.1 0-2 .9-2 2v14c0 1.1.9 2 2 2h14c1.1 0 2-.9 2-2V5c0-1.1-.9-2-2-2zM9 17H7v-7h2v7zm4 0h-2V7h2v10zm4 0h-2v-4h2v4z\"/>\n",
              "    </g>\n",
              "</svg>\n",
              "      </button>\n",
              "\n",
              "<style>\n",
              "  .colab-df-quickchart {\n",
              "      --bg-color: #E8F0FE;\n",
              "      --fill-color: #1967D2;\n",
              "      --hover-bg-color: #E2EBFA;\n",
              "      --hover-fill-color: #174EA6;\n",
              "      --disabled-fill-color: #AAA;\n",
              "      --disabled-bg-color: #DDD;\n",
              "  }\n",
              "\n",
              "  [theme=dark] .colab-df-quickchart {\n",
              "      --bg-color: #3B4455;\n",
              "      --fill-color: #D2E3FC;\n",
              "      --hover-bg-color: #434B5C;\n",
              "      --hover-fill-color: #FFFFFF;\n",
              "      --disabled-bg-color: #3B4455;\n",
              "      --disabled-fill-color: #666;\n",
              "  }\n",
              "\n",
              "  .colab-df-quickchart {\n",
              "    background-color: var(--bg-color);\n",
              "    border: none;\n",
              "    border-radius: 50%;\n",
              "    cursor: pointer;\n",
              "    display: none;\n",
              "    fill: var(--fill-color);\n",
              "    height: 32px;\n",
              "    padding: 0;\n",
              "    width: 32px;\n",
              "  }\n",
              "\n",
              "  .colab-df-quickchart:hover {\n",
              "    background-color: var(--hover-bg-color);\n",
              "    box-shadow: 0 1px 2px rgba(60, 64, 67, 0.3), 0 1px 3px 1px rgba(60, 64, 67, 0.15);\n",
              "    fill: var(--button-hover-fill-color);\n",
              "  }\n",
              "\n",
              "  .colab-df-quickchart-complete:disabled,\n",
              "  .colab-df-quickchart-complete:disabled:hover {\n",
              "    background-color: var(--disabled-bg-color);\n",
              "    fill: var(--disabled-fill-color);\n",
              "    box-shadow: none;\n",
              "  }\n",
              "\n",
              "  .colab-df-spinner {\n",
              "    border: 2px solid var(--fill-color);\n",
              "    border-color: transparent;\n",
              "    border-bottom-color: var(--fill-color);\n",
              "    animation:\n",
              "      spin 1s steps(1) infinite;\n",
              "  }\n",
              "\n",
              "  @keyframes spin {\n",
              "    0% {\n",
              "      border-color: transparent;\n",
              "      border-bottom-color: var(--fill-color);\n",
              "      border-left-color: var(--fill-color);\n",
              "    }\n",
              "    20% {\n",
              "      border-color: transparent;\n",
              "      border-left-color: var(--fill-color);\n",
              "      border-top-color: var(--fill-color);\n",
              "    }\n",
              "    30% {\n",
              "      border-color: transparent;\n",
              "      border-left-color: var(--fill-color);\n",
              "      border-top-color: var(--fill-color);\n",
              "      border-right-color: var(--fill-color);\n",
              "    }\n",
              "    40% {\n",
              "      border-color: transparent;\n",
              "      border-right-color: var(--fill-color);\n",
              "      border-top-color: var(--fill-color);\n",
              "    }\n",
              "    60% {\n",
              "      border-color: transparent;\n",
              "      border-right-color: var(--fill-color);\n",
              "    }\n",
              "    80% {\n",
              "      border-color: transparent;\n",
              "      border-right-color: var(--fill-color);\n",
              "      border-bottom-color: var(--fill-color);\n",
              "    }\n",
              "    90% {\n",
              "      border-color: transparent;\n",
              "      border-bottom-color: var(--fill-color);\n",
              "    }\n",
              "  }\n",
              "</style>\n",
              "\n",
              "      <script>\n",
              "        async function quickchart(key) {\n",
              "          const quickchartButtonEl =\n",
              "            document.querySelector('#' + key + ' button');\n",
              "          quickchartButtonEl.disabled = true;  // To prevent multiple clicks.\n",
              "          quickchartButtonEl.classList.add('colab-df-spinner');\n",
              "          try {\n",
              "            const charts = await google.colab.kernel.invokeFunction(\n",
              "                'suggestCharts', [key], {});\n",
              "          } catch (error) {\n",
              "            console.error('Error during call to suggestCharts:', error);\n",
              "          }\n",
              "          quickchartButtonEl.classList.remove('colab-df-spinner');\n",
              "          quickchartButtonEl.classList.add('colab-df-quickchart-complete');\n",
              "        }\n",
              "        (() => {\n",
              "          let quickchartButtonEl =\n",
              "            document.querySelector('#df-6e59837b-3c7b-4ea3-8b07-e04f292fa2b8 button');\n",
              "          quickchartButtonEl.style.display =\n",
              "            google.colab.kernel.accessAllowed ? 'block' : 'none';\n",
              "        })();\n",
              "      </script>\n",
              "    </div>\n",
              "\n",
              "    </div>\n",
              "  </div>\n"
            ],
            "application/vnd.google.colaboratory.intrinsic+json": {
              "type": "dataframe",
              "variable_name": "credit_df"
            }
          },
          "metadata": {},
          "execution_count": 6
        }
      ],
      "source": [
        "credit_df.head()"
      ],
      "execution_count": 6
    },
    {
      "cell_type": "markdown",
      "metadata": {
        "id": "1486a84c-b373-4704-830e-b3a016177c5b"
      },
      "source": [
        "Due to confidentiality issues, the original features and other background information about each transaction is hidden, and this dataset now contains only numerical features which are the result of a PCA transformation.\n"
      ]
    },
    {
      "cell_type": "markdown",
      "metadata": {
        "id": "12745ab0-0041-4461-ae02-ab6c6c84c4ea"
      },
      "source": [
        "Next, let's see  how imbalanced this dataset is:\n"
      ]
    },
    {
      "cell_type": "code",
      "metadata": {
        "id": "a684e831-6056-4b65-830d-77e600a8a8e6",
        "colab": {
          "base_uri": "https://localhost:8080/",
          "height": 178
        },
        "outputId": "21c494a1-dc5a-4a20-a750-82b30fc5f0dd"
      },
      "outputs": [
        {
          "output_type": "execute_result",
          "data": {
            "text/plain": [
              "Class\n",
              "0    200000\n",
              "1       200\n",
              "Name: count, dtype: int64"
            ],
            "text/html": [
              "<div>\n",
              "<style scoped>\n",
              "    .dataframe tbody tr th:only-of-type {\n",
              "        vertical-align: middle;\n",
              "    }\n",
              "\n",
              "    .dataframe tbody tr th {\n",
              "        vertical-align: top;\n",
              "    }\n",
              "\n",
              "    .dataframe thead th {\n",
              "        text-align: right;\n",
              "    }\n",
              "</style>\n",
              "<table border=\"1\" class=\"dataframe\">\n",
              "  <thead>\n",
              "    <tr style=\"text-align: right;\">\n",
              "      <th></th>\n",
              "      <th>count</th>\n",
              "    </tr>\n",
              "    <tr>\n",
              "      <th>Class</th>\n",
              "      <th></th>\n",
              "    </tr>\n",
              "  </thead>\n",
              "  <tbody>\n",
              "    <tr>\n",
              "      <th>0</th>\n",
              "      <td>200000</td>\n",
              "    </tr>\n",
              "    <tr>\n",
              "      <th>1</th>\n",
              "      <td>200</td>\n",
              "    </tr>\n",
              "  </tbody>\n",
              "</table>\n",
              "</div><br><label><b>dtype:</b> int64</label>"
            ]
          },
          "metadata": {},
          "execution_count": 7
        }
      ],
      "source": [
        "credit_df['Class'].value_counts()"
      ],
      "execution_count": 7
    },
    {
      "cell_type": "code",
      "metadata": {
        "id": "7cce9630-7207-442c-816e-4fc7281c38ed",
        "colab": {
          "base_uri": "https://localhost:8080/",
          "height": 588
        },
        "outputId": "f27e4131-a809-499c-9f92-ca2b10dadb9e"
      },
      "outputs": [
        {
          "output_type": "stream",
          "name": "stderr",
          "text": [
            "/tmp/ipython-input-8-394073532.py:9: FutureWarning: \n",
            "\n",
            "Passing `palette` without assigning `hue` is deprecated and will be removed in v0.14.0. Assign the `x` variable to `hue` and set `legend=False` for the same effect.\n",
            "\n",
            "  ax = sns.barplot(x=class_counts.index, y=class_counts.values, palette=['green', 'red'])\n"
          ]
        },
        {
          "output_type": "display_data",
          "data": {
            "text/plain": [
              "<Figure size 800x500 with 1 Axes>"
            ],
            "image/png": "[encoded data removed]"
          },
          "metadata": {}
        }
      ],
      "source": [
        "# Set style\n",
        "sns.set(style=\"whitegrid\")\n",
        "\n",
        "# Get value counts\n",
        "class_counts = credit_df['Class'].value_counts()\n",
        "\n",
        "# Set up the plot\n",
        "plt.figure(figsize=(8, 5))\n",
        "ax = sns.barplot(x=class_counts.index, y=class_counts.values, palette=['green', 'red'])\n",
        "\n",
        "# Add labels to bars\n",
        "for i, count in enumerate(class_counts.values):\n",
        "    ax.text(i, count + 0.01 * max(class_counts.values), f'{count:,}',\n",
        "            ha='center', va='bottom', fontsize=12, fontweight='bold')\n",
        "\n",
        "# Title and axis labels\n",
        "plt.title('Distribution of Class Labels', fontsize=16, fontweight='bold')\n",
        "plt.xlabel('Class', fontsize=12)\n",
        "plt.ylabel('Count', fontsize=12)\n",
        "plt.xticks([0, 1], ['Non-Fraud (0)', 'Fraud (1)'])\n",
        "plt.tight_layout()\n",
        "\n",
        "plt.show()"
      ],
      "execution_count": 8
    },
    {
      "cell_type": "markdown",
      "metadata": {
        "id": "7c7a11a9-40c5-4514-923e-5e3ea0c58437"
      },
      "source": [
        "As you can see, we only have about 0.001% fraud transactions in the dataset and you can not even see it on the previous bar chart! This is an extremely imbalanced dataset\n"
      ]
    },
    {
      "cell_type": "markdown",
      "metadata": {
        "id": "a27d2ced-0ee5-4cde-b1d2-111d1c41899b"
      },
      "source": [
        "Next, we will quickly build a standard logistic regression model to see how it performs on such an imbalanced dataset.\n"
      ]
    },
    {
      "cell_type": "code",
      "metadata": {
        "id": "49ff2a9f-cda4-4830-8525-61d7905264a3"
      },
      "outputs": [],
      "source": [
        "# Split the training and testing dataset\n",
        "X_train, X_test, y_train, y_test = split_data(credit_df)"
      ],
      "execution_count": 9
    },
    {
      "cell_type": "code",
      "metadata": {
        "id": "7d94a110-5ff1-411b-9f4b-d934de37ffa0"
      },
      "outputs": [],
      "source": [
        "# Build a simple logistic regression model\n",
        "model = LogisticRegression(random_state=rs,\n",
        "                              max_iter = 1000)\n",
        "\n",
        "# Train the model\n",
        "model.fit(X_train, y_train)\n",
        "preds = model.predict(X_test)"
      ],
      "execution_count": 10
    },
    {
      "cell_type": "markdown",
      "metadata": {
        "id": "f770346a-9e87-4930-b3b8-269a38fcf46b"
      },
      "source": [
        "And check its prediction accuracy\n"
      ]
    },
    {
      "cell_type": "code",
      "metadata": {
        "id": "9ef2004e-c5c9-4b50-a3b6-1de55de37d65",
        "colab": {
          "base_uri": "https://localhost:8080/"
        },
        "outputId": "54976ccd-ab07-434a-ffce-c52b4f6f3355"
      },
      "outputs": [
        {
          "output_type": "execute_result",
          "data": {
            "text/plain": [
              "0.9992757242757243"
            ]
          },
          "metadata": {},
          "execution_count": 11
        }
      ],
      "source": [
        "accuracy_score(y_test, preds)"
      ],
      "execution_count": 11
    },
    {
      "cell_type": "markdown",
      "metadata": {
        "id": "29ac4bdb-fe7c-44d0-8991-79eed7f8805b"
      },
      "source": [
        "OK, it achieves 99% prediction accuracy on the test dataset, looks like a great model! Before concluding we have found a simple and great model to detect credit card frauds, let's try other metrics first.\n"
      ]
    },
    {
      "cell_type": "markdown",
      "metadata": {
        "id": "c9b03b7c-f5b8-46ea-a564-ada6d4da748c"
      },
      "source": [
        "### More Robust Evaluation Metrics\n"
      ]
    },
    {
      "cell_type": "markdown",
      "metadata": {
        "id": "6503002c-1751-4bfb-ba32-fa7e0542b6c4"
      },
      "source": [
        "Here are some effective robust binary classification evaluation metrics such as Precision, Recall, and Fscore, which can be defined as follows:\n"
      ]
    },
    {
      "cell_type": "markdown",
      "metadata": {
        "id": "e0fb5853-9ebd-48ee-86c9-d448b8a95482"
      },
      "source": [
        "- `Precision`: the percentage of accurately predicted positive instances\n",
        "\n",
        "- `Recall`: the percentage of successfully recognized positive instances\n",
        "\n",
        "- `Fscore`: can also be called F-beta score, which is a weighted average of precision and recall to evaluate the model. The weights between recall and precision are controlled by the `beta`  parameter, the default value is 1 so the most common F-beta is F1 score\n"
      ]
    },
    {
      "cell_type": "markdown",
      "metadata": {
        "id": "11e4db1e-2e79-42e7-9352-cfea53d83178"
      },
      "source": [
        "<center>\n",
        "    <img src=\"https://cf-courses-data.s3.us.cloud-object-storage.appdomain.cloud/IBM-ML201EN-SkillsNetwork/labs/module_4/images/evaluation_metrics.png\" width=\"720\" alt=\"evaluation metrics\">\n",
        "</center>\n"
      ]
    },
    {
      "cell_type": "markdown",
      "metadata": {
        "id": "2c0a5b0d-56ca-482b-8886-0045f3651fd1"
      },
      "source": [
        "In addition, the plot of True positive rate and false positive ratio under different thresholds, known as Receiver operating characteristic `ROC` and its associated Area Under the Curve `AUC` are also reliable metrics.\n"
      ]
    },
    {
      "cell_type": "markdown",
      "metadata": {
        "id": "f717b9b9-8ebb-4fdb-982d-10573e25fc4e"
      },
      "source": [
        "First let's calculate Precision, Recall, and Fscore.\n"
      ]
    },
    {
      "cell_type": "code",
      "metadata": {
        "id": "77c601f2-bf7f-453f-b47f-874b52134540",
        "colab": {
          "base_uri": "https://localhost:8080/"
        },
        "outputId": "0f9d0f78-4461-4b47-9b9e-c6a6e97befa0"
      },
      "outputs": [
        {
          "output_type": "stream",
          "name": "stdout",
          "text": [
            "Accuracy is: 1.00\n",
            "Precision is: 0.72\n",
            "Recall is: 0.45\n",
            "Fscore is: 0.46\n",
            "AUC is: 0.72\n"
          ]
        }
      ],
      "source": [
        "# Calculate the precision, recall, f5 given the y_test and predictions\n",
        "# Note that we use beta=5 which means we think the cost of positive class is 5 times of negative class\n",
        "# You could try other beta values yourself\n",
        "accuracy = accuracy_score(y_test, preds)\n",
        "precision, recall, fbeta, support = precision_recall_fscore_support(y_test, preds, beta=5, pos_label=1, average='binary')\n",
        "auc = roc_auc_score(y_test, preds)\n",
        "print(f\"Accuracy is: {accuracy:.2f}\")\n",
        "print(f\"Precision is: {precision:.2f}\")\n",
        "print(f\"Recall is: {recall:.2f}\")\n",
        "print(f\"Fscore is: {fbeta:.2f}\")\n",
        "print(f\"AUC is: {auc:.2f}\")"
      ],
      "execution_count": 12
    },
    {
      "cell_type": "markdown",
      "metadata": {
        "id": "b68d4af4-58ff-4348-bef1-1ac970b65118"
      },
      "source": [
        "For many machine learning tasks on imbalanced datasets, like this credit card fraud detection, we normally care more about recall than precision. As a baseline, we want the model to be able to find all frauds and we would allow the model to make false-positive errors because the cost of false positives is usually not very high (maybe just costs a false notification email or phone call to confirm with customers). On the other hand, failing to recognize positive examples (such as fraud or a deadly disease) can be life-threatening\n",
        "\n",
        "As such, our priority is to improve the model's recall, then we will also want to keep precision as high as possible.\n"
      ]
    },
    {
      "cell_type": "markdown",
      "metadata": {
        "id": "ae11553d-c36f-4e50-af2a-dee52f1ca3ef"
      },
      "source": [
        "### Synthetic Minority Oversampling Technique (SMOTE)\n"
      ]
    },
    {
      "cell_type": "markdown",
      "metadata": {
        "id": "1cc3894c-67ae-4b94-80e3-485ec81f20b8"
      },
      "source": [
        "SMOTE first creates many pairs or small clusters with two or more similar instances, the measure by instance distance such as Euclidean distance.\n",
        "Then, within the boundary of each pair or cluster, SMOTE uniformly permutes features value, one feature at a time, to populate a collection of similar synthesized instances within each pair or cluster.\n",
        "\n",
        "As a result, SMOTE creates a class-balanced synthetic dataset without adding duplicated instances with minority labels.\n"
      ]
    },
    {
      "cell_type": "markdown",
      "metadata": {
        "id": "c0790e90-b1d9-49f1-aaf0-a50112abdaf7"
      },
      "source": [
        "The `imblearn` package provides us with many effective samplers including `SMOTE`, `RandomOverSampler`, and `RandomUnderSampler`. Let's use its `SMOTE` class to define a SMOTE sampler first\n"
      ]
    },
    {
      "cell_type": "code",
      "metadata": {
        "id": "246066db-e472-4ca4-9372-4cab2f9c4c6c"
      },
      "outputs": [],
      "source": [
        "from imblearn.over_sampling import RandomOverSampler, SMOTE"
      ],
      "execution_count": 13
    },
    {
      "cell_type": "code",
      "metadata": {
        "id": "2f47a19b-3322-47bf-a9e1-05513d60dd32"
      },
      "outputs": [],
      "source": [
        "# Create a SMOTE sampler\n",
        "smote_sampler = SMOTE(random_state = rs)"
      ],
      "execution_count": 14
    },
    {
      "cell_type": "code",
      "metadata": {
        "id": "6f004bb4-99e3-4936-b46f-48df2d2ff876"
      },
      "outputs": [],
      "source": [
        "# Resample training data using SMOTE\n",
        "X_smo, y_smo = smote_sampler.fit_resample(X_train, y_train)"
      ],
      "execution_count": 15
    },
    {
      "cell_type": "markdown",
      "metadata": {
        "id": "39a842b4-ec7a-432f-9405-58f81390154a"
      },
      "source": [
        "After SMOTE resampling, we can see both positive and negative class has the same instances\n"
      ]
    },
    {
      "cell_type": "code",
      "metadata": {
        "id": "10c000c2-5a8c-4f4c-9470-ce3f50a5e010",
        "colab": {
          "base_uri": "https://localhost:8080/",
          "height": 588
        },
        "outputId": "d8670e9d-e678-4102-9b30-2d94f16c98cd"
      },
      "outputs": [
        {
          "output_type": "stream",
          "name": "stderr",
          "text": [
            "/tmp/ipython-input-16-1370345320.py:9: FutureWarning: \n",
            "\n",
            "Passing `palette` without assigning `hue` is deprecated and will be removed in v0.14.0. Assign the `x` variable to `hue` and set `legend=False` for the same effect.\n",
            "\n",
            "  ax = sns.barplot(x=class_counts.index, y=class_counts.values, palette=['green', 'red'])\n"
          ]
        },
        {
          "output_type": "display_data",
          "data": {
            "text/plain": [
              "<Figure size 800x500 with 1 Axes>"
            ],
            "image/png": "[encoded data removed]"
          },
          "metadata": {}
        }
      ],
      "source": [
        "# Set style\n",
        "sns.set(style=\"whitegrid\")\n",
        "\n",
        "# Value counts\n",
        "class_counts = y_smo.value_counts()\n",
        "\n",
        "# Create figure\n",
        "plt.figure(figsize=(8, 5))\n",
        "ax = sns.barplot(x=class_counts.index, y=class_counts.values, palette=['green', 'red'])\n",
        "\n",
        "# Annotate bars with counts\n",
        "for i, count in enumerate(class_counts.values):\n",
        "    ax.text(i, count + 0.01 * max(class_counts.values), f'{count:,}',\n",
        "            ha='center', va='bottom', fontsize=12, fontweight='bold')\n",
        "\n",
        "# Title and labels\n",
        "plt.title('Class Distribution After SMOTE', fontsize=16, fontweight='bold')\n",
        "plt.xlabel('Class', fontsize=12)\n",
        "plt.ylabel('Count', fontsize=12)\n",
        "plt.xticks([0, 1], ['Non-Fraud (0)', 'Fraud (1)'])\n",
        "\n",
        "# Layout adjustment\n",
        "plt.tight_layout()\n",
        "plt.show()\n"
      ],
      "execution_count": 16
    },
    {
      "cell_type": "markdown",
      "metadata": {
        "id": "2688b0c3-4dc1-4563-ad05-5bfaae62f296"
      },
      "source": [
        "Let's retrain the logistic regression model with resampled training data using SMOTE\n"
      ]
    },
    {
      "cell_type": "code",
      "metadata": {
        "id": "407b5125-25d3-435c-9764-764c271c0569"
      },
      "outputs": [],
      "source": [
        "# Re-train the model with resampled data\n",
        "model.fit(X_smo, y_smo)\n",
        "preds = model.predict(X_test)"
      ],
      "execution_count": 17
    },
    {
      "cell_type": "markdown",
      "metadata": {
        "id": "ccaf7fee-9ff3-4317-b8cf-3be46d10d53f"
      },
      "source": [
        "and re-evaluate the model to see if there are any improvements with respect to Precision, Recall, and F1\n"
      ]
    },
    {
      "cell_type": "code",
      "metadata": {
        "id": "32e4aef2-474c-4e0f-b58f-3bb9cba7c3c5",
        "colab": {
          "base_uri": "https://localhost:8080/"
        },
        "outputId": "1ae925ee-20a5-41f6-af25-b8d0ecb29471"
      },
      "outputs": [
        {
          "output_type": "stream",
          "name": "stdout",
          "text": [
            "Accuracy is: 0.97\n",
            "Precision is: 0.03\n",
            "Recall is: 0.88\n",
            "Fscore is: 0.42\n",
            "AUC is: 0.92\n"
          ]
        }
      ],
      "source": [
        "# Calculate the precision, recall, f5 given the y_test and predictions\n",
        "# Note that we use beta=5 which means we think the cost of positive class is 5 times of negative class\n",
        "# You could try other beta values yourself\n",
        "precision, recall, f_beta, support = precision_recall_fscore_support(y_test, preds, beta=5, pos_label=1, average='binary')\n",
        "auc = roc_auc_score(y_test, preds)\n",
        "accuracy = accuracy_score(y_test, preds)\n",
        "print(f\"Accuracy is: {accuracy:.2f}\")\n",
        "print(f\"Precision is: {precision:.2f}\")\n",
        "print(f\"Recall is: {recall:.2f}\")\n",
        "print(f\"Fscore is: {f_beta:.2f}\")\n",
        "print(f\"AUC is: {auc:.2f}\")"
      ],
      "execution_count": 18
    },
    {
      "cell_type": "markdown",
      "metadata": {
        "id": "1d298d4c-7dd8-4951-9bfc-bb54ea2a1e2b"
      },
      "source": [
        "First, we can see AUC is improved from 0.72 to 0.91, this is a good sign as SMOTE improves model classification ability.\n"
      ]
    },
    {
      "cell_type": "markdown",
      "metadata": {
        "id": "69ecb3ee-8043-4361-9f35-b54dc71937e8"
      },
      "source": [
        "Next, let's take a look at the recall. The recall is now 0.88, mostly two times larger than the original recall value of 0.45.\n"
      ]
    },
    {
      "cell_type": "markdown",
      "metadata": {
        "id": "ec380605-731c-43d8-a79c-9b2ee200a2bc"
      },
      "source": [
        "However, our model's precision is only 0.03. One possible reason is our dataset was extremely skewed, and oversampling the minority class significantly disrupts the original data distribution so that the model trained on the SMOTE dataset generates large false positives on the test dataset sampled from the original dataset.\n"
      ]
    },
    {
      "cell_type": "markdown",
      "metadata": {
        "id": "cf5a843e-3a5a-4cf8-ba08-01352cf012a1"
      },
      "source": [
        "As such, for an extremely skewed dataset, we generally do not use oversampling as it significantly shifts the original data distribution.\n"
      ]
    },
    {
      "cell_type": "markdown",
      "metadata": {
        "id": "6af78da3-2f48-4eee-974d-8232b7fce87d"
      },
      "source": [
        "Next, let's try class re-weighting to see if it can achieve better results than SMOTE in terms of Precision, Recall, and Fscore.\n"
      ]
    },
    {
      "cell_type": "markdown",
      "metadata": {
        "id": "821b233a-a891-431e-bf7b-fa97c5b93753"
      },
      "source": [
        "### Class reweighting\n"
      ]
    },
    {
      "cell_type": "markdown",
      "metadata": {
        "id": "e430409b-11e8-4550-9ac0-e30bbd8cda03"
      },
      "source": [
        "For binary classification models, its loss function is normally calculated via a sum of the loss with respect to class 0 and the loss with respect to class 1. By default, their class weights are all 1s meaning we treat each class equally important.\n",
        "\n",
        "However, since the class distribution is skewed in imbalanced datasets and the loss function optimization process will be dominated by the majority class, we want to help the minority class by increasing its class weight in the loss function.\n"
      ]
    },
    {
      "cell_type": "markdown",
      "metadata": {
        "id": "a4c5bd6c-93be-4ffd-984c-e4d92c84cdd0"
      },
      "source": [
        "Class weights can be generally calculated via the following three strategies:\n"
      ]
    },
    {
      "cell_type": "markdown",
      "metadata": {
        "id": "3ddc194e-2064-448a-8f6d-11acbce23ad6"
      },
      "source": [
        "- Based on their instances portion in the dataset. For example, if positive instances only take 10% of the dataset, we assign its weight to be 0.9 and weight for the majority class to be 0.1\n",
        "- Heuristics or domain knowledge. Misclassification normally has different costs per class, for example, the cost of failure to diagnose a disease is much higher than a false positive diagnose. If we already know such misclassification costs beforehand, we may use them to assign class weights\n",
        "- Hyper-parameter tuning. Standard hyper-parameter tuning methods can be used to find optimized class weights. For example, grid searching from 0.1 to 0.9 for positive class weight to find out which hyperparameter combination generates the best model.\n"
      ]
    },
    {
      "cell_type": "markdown",
      "metadata": {
        "id": "e3aa0ffa-813f-43bf-a9d4-249d23717ceb"
      },
      "source": [
        "Python `sklearn` package provides a very convenient way to adjust class weights during model training via providing a class weight argument. Many standard classifiers in `sklearn` such as `LogisticRegression` and `RandomForestClassifier` support class reweighting natively.\n"
      ]
    },
    {
      "cell_type": "markdown",
      "metadata": {
        "id": "834709f7-2b02-4412-9472-2dce8a5eaf67"
      },
      "source": [
        "Let see an example of class reweighting in `LogisticRegression`:\n"
      ]
    },
    {
      "cell_type": "markdown",
      "metadata": {
        "id": "c09a7875-a31a-443b-8a65-6ab6dd252841"
      },
      "source": [
        "First we just need to create a class weights dict object, and since\n"
      ]
    },
    {
      "cell_type": "code",
      "metadata": {
        "id": "0541d470-c3cb-43dc-aa57-6d8f78ecf72e"
      },
      "outputs": [],
      "source": [
        "class_weight = {}\n",
        "\n",
        "# Assign weight of class 0 to be 0.1\n",
        "class_weight[0] = 0.1\n",
        "\n",
        "# Assign weight of class 1 to be 0.9\n",
        "class_weight[1] = 0.9"
      ],
      "execution_count": 19
    },
    {
      "cell_type": "markdown",
      "metadata": {
        "id": "1a54a6d7-4125-4cb4-bcc6-13c0e9ddb44f"
      },
      "source": [
        "Note that `0.1 vs. 0.9` is a pre-tuned weight combination, you could check the provided `grid_search_lr()` method at the beginning of this lab and use it to tune the optimized class weights yourself.\n"
      ]
    },
    {
      "cell_type": "markdown",
      "metadata": {
        "id": "a59a63a5-c5ec-4b99-b4b5-ae1b7136f3fa"
      },
      "source": [
        "Next, let's use the class weight dict in a `LogisticRegression` model by specifying its `class_weight` argument.\n"
      ]
    },
    {
      "cell_type": "code",
      "metadata": {
        "id": "8505f786-83df-42d7-a8a4-392c92351e2b"
      },
      "outputs": [],
      "source": [
        "# Define a logistic regression with weight\n",
        "model = LogisticRegression(random_state=rs,\n",
        "                              max_iter = 1000,\n",
        "                              class_weight=class_weight)"
      ],
      "execution_count": 20
    },
    {
      "cell_type": "markdown",
      "metadata": {
        "id": "62af7aa1-90b2-4bf0-9e13-ec726b7afd61"
      },
      "source": [
        "During the training process, the positive instance will have much larger influence on reducing the total loss and weight updates. The trained classifier will be enhanced to recognize positive instances (increase recall).\n"
      ]
    },
    {
      "cell_type": "code",
      "metadata": {
        "id": "75666b20-2abc-485b-9b77-6ec613eddb9f"
      },
      "outputs": [],
      "source": [
        "# Train the model\n",
        "model.fit(X_train, y_train)\n",
        "# Make predictions on the test dataset\n",
        "preds = model.predict(X_test)"
      ],
      "execution_count": 21
    },
    {
      "cell_type": "markdown",
      "metadata": {
        "id": "49a9c13b-bb34-4692-b502-d537013404b6"
      },
      "source": [
        "Next, let's see if our metrics are getting better.\n"
      ]
    },
    {
      "cell_type": "code",
      "metadata": {
        "id": "bbd56923-2d3e-4eaf-b0d4-b90920d1267f",
        "colab": {
          "base_uri": "https://localhost:8080/"
        },
        "outputId": "43348cb5-4838-4b3e-9a88-cca3fbc8a83e"
      },
      "outputs": [
        {
          "output_type": "stream",
          "name": "stdout",
          "text": [
            "Accuracy is: 1.00\n",
            "Precision is: 0.65\n",
            "Recall is: 0.82\n",
            "Fscore is: 0.82\n",
            "AUC is: 0.91\n"
          ]
        }
      ],
      "source": [
        "# Calculate the precision, recall, f5 given the y_test and predictions\n",
        "# Note that we use beta=5 which means we think the cost of positive class is 5 times of negative class\n",
        "# You could try other beta values yourself\n",
        "precision, recall, f_beta, support = precision_recall_fscore_support(y_test, preds, beta=5, pos_label=1, average='binary')\n",
        "auc = roc_auc_score(y_test, preds)\n",
        "accuracy = accuracy_score(y_test, preds)\n",
        "print(f\"Accuracy is: {accuracy:.2f}\")\n",
        "print(f\"Precision is: {precision:.2f}\")\n",
        "print(f\"Recall is: {recall:.2f}\")\n",
        "print(f\"Fscore is: {f_beta:.2f}\")\n",
        "print(f\"AUC is: {auc:.2f}\")"
      ],
      "execution_count": 22
    },
    {
      "cell_type": "markdown",
      "metadata": {
        "id": "50e31941-b5b5-41ca-8de3-d670b71dc48d"
      },
      "source": [
        "As you can see, we have much balanced `Precision` and `Recall` values. It indicates that, for an extremely imbalanced dataset like credit card fraud detection, often class reweighting is a better strategy than oversampling. Since undersampling will significantly shrink the training dataset, we normally do not use undersampling for an extremely imbalanced dataset.\n"
      ]
    },
    {
      "cell_type": "markdown",
      "metadata": {
        "id": "9cdfea64-bd53-4148-9a89-613f6853af4f"
      },
      "source": [
        "To summarize the findings from the credit card fraud detection task:\n",
        "- All models have very high accuracy and AUC values but this does not always mean they have good prediction performance, especially for classifying the fraud cases\n",
        "- Classification on an extremly imbalanced dataset is usually a hard task, especially if we want to have both high recall and precision values\n",
        "- `SMOTE` can achieve high recall but extremely low precision due to the caused disruptions of original data distribution\n",
        "- Class reweighting can achieve a more balanced recall and precision value\n"
      ]
    },
    {
      "cell_type": "markdown",
      "metadata": {
        "id": "869173a2-53d7-4199-9669-6c13bf107853"
      },
      "source": [
        "Next, let's consolidate your understandings about the imbalanced data challenge with a few more imbalanced classification scenarios.\n"
      ]
    },
    {
      "cell_type": "markdown",
      "metadata": {
        "id": "dc3b8212-3772-4b4a-b079-38117fddb3ab"
      },
      "source": [
        "## Some utility model training and evaluation methods\n"
      ]
    },
    {
      "cell_type": "markdown",
      "metadata": {
        "id": "4bd638dd-474f-4d2d-9521-9e9dd142c24b"
      },
      "source": [
        "Before we continue with more imbalanced classification scenarios, let's define some utility methods for you to simplify this lab and increase notebook readability. A method to define and train a logistic regression:\n"
      ]
    },
    {
      "cell_type": "code",
      "metadata": {
        "id": "de57259c-86b1-47e7-aaed-e37d77f19c76"
      },
      "outputs": [],
      "source": [
        "rs = 123\n",
        "# Build a logistic regression model\n",
        "def build_lr(X_train, y_train, X_test, threshold=0.5, best_params=None):\n",
        "\n",
        "    model = LogisticRegression(random_state=rs,\n",
        "                              max_iter = 1000)\n",
        "    # If best parameters are provided\n",
        "    if best_params:\n",
        "        model = LogisticRegression(penalty = 'l2',\n",
        "                              random_state=rs,\n",
        "                              max_iter = 1000,\n",
        "                              class_weight=best_params['class_weight'])\n",
        "    # Train the model\n",
        "    model.fit(X_train, y_train)\n",
        "    # If predicted probability is largr than threshold (default value is 0.5), generate a positive label\n",
        "    predicted_proba = model.predict_proba(X_test)\n",
        "    yp = (predicted_proba [:,1] >= threshold).astype('int')\n",
        "    return yp, model"
      ],
      "execution_count": 23
    },
    {
      "cell_type": "markdown",
      "metadata": {
        "id": "d709e05c-b911-4f92-ab5e-f426fe2e7e8a"
      },
      "source": [
        "A method to define and train a random forest:\n"
      ]
    },
    {
      "cell_type": "code",
      "metadata": {
        "id": "a150e7a9-e40c-46b9-a8cc-c3597811c84e"
      },
      "outputs": [],
      "source": [
        "def build_rf(X_train, y_train, X_test, threshold=0.5, best_params=None):\n",
        "\n",
        "    model = RandomForestClassifier(random_state = rs)\n",
        "    # If best parameters are provided\n",
        "    if best_params:\n",
        "        model = RandomForestClassifier(random_state = rs,\n",
        "                                   # If bootstrap sampling is used\n",
        "                                   bootstrap = best_params['bootstrap'],\n",
        "                                   # Max depth of each tree\n",
        "                                   max_depth = best_params['max_depth'],\n",
        "                                   # Class weight parameters\n",
        "                                   class_weight=best_params['class_weight'],\n",
        "                                   # Number of trees\n",
        "                                   n_estimators=best_params['n_estimators'],\n",
        "                                   # Minimal samples to split\n",
        "                                   min_samples_split=best_params['min_samples_split'])\n",
        "    # Train the model\n",
        "    model.fit(X_train, y_train)\n",
        "    # If predicted probability is largr than threshold (default value is 0.5), generate a positive label\n",
        "    predicted_proba = model.predict_proba(X_test)\n",
        "    yp = (predicted_proba [:,1] >= threshold).astype('int')\n",
        "    return yp, model"
      ],
      "execution_count": 24
    },
    {
      "cell_type": "markdown",
      "metadata": {
        "id": "0bfdb8ec-337d-491a-ba5c-850c80a342a2"
      },
      "source": [
        "A method to evaluate a classifier's predictions\n"
      ]
    },
    {
      "cell_type": "code",
      "metadata": {
        "id": "c7a9b7c7-ea20-4811-8088-30ac18cdba98"
      },
      "outputs": [],
      "source": [
        "rs = 123\n",
        "def evaluate(yt, yp, eval_type=\"Original\"):\n",
        "    results_pos = {}\n",
        "    results_pos['type'] = eval_type\n",
        "    # Accuracy\n",
        "    results_pos['accuracy'] = accuracy_score(yt, yp)\n",
        "    # Precision, recall, Fscore\n",
        "    precision, recall, f_beta, _ = precision_recall_fscore_support(yt, yp, beta=5, pos_label=1, average='binary')\n",
        "    results_pos['recall'] = recall\n",
        "    # AUC\n",
        "    results_pos['auc'] = roc_auc_score(yt, yp)\n",
        "    # Precision\n",
        "    results_pos['precision'] = precision\n",
        "    # Fscore\n",
        "    results_pos['fscore'] = f_beta\n",
        "    return results_pos"
      ],
      "execution_count": 25
    },
    {
      "cell_type": "markdown",
      "metadata": {
        "id": "1f1d88e0-c3e2-4ea4-9121-8ce49f32c709"
      },
      "source": [
        "A method to resample the original dataset\n"
      ]
    },
    {
      "cell_type": "code",
      "metadata": {
        "id": "e11fc42f-e481-46e8-bc53-643af961c469"
      },
      "outputs": [],
      "source": [
        "def resample(X_train, y_train):\n",
        "    # SMOTE sampler (Oversampling)\n",
        "    smote_sampler = SMOTE(random_state = 123)\n",
        "    # Undersampling\n",
        "    under_sampler = RandomUnderSampler(random_state=123)\n",
        "    # Resampled datasets\n",
        "    X_smo, y_smo = smote_sampler.fit_resample(X_train, y_train)\n",
        "    X_under, y_under = under_sampler.fit_resample(X_train, y_train)\n",
        "    return X_smo, y_smo, X_under, y_under"
      ],
      "execution_count": 26
    },
    {
      "cell_type": "markdown",
      "metadata": {
        "id": "2e2831ec-cd95-4014-9f23-f72ae3e1344a"
      },
      "source": [
        "And a method to visualize metrics\n"
      ]
    },
    {
      "cell_type": "code",
      "metadata": {
        "id": "1ae49d44-b0e4-4da7-b1d8-e95bad89c712"
      },
      "outputs": [],
      "source": [
        "def visualize_eval_metrics(results):\n",
        "    df = pd.DataFrame(data=results)\n",
        "    #table = pd.pivot_table(df, values='type', index=['accuracy', 'precision', 'recall', 'f1', 'auc'],\n",
        "    #                columns=['type'])\n",
        "    #df = df.set_index('type').transpose()\n",
        "    print(df)\n",
        "    x = np.arange(5)\n",
        "    original = df.iloc[0, 1:].values\n",
        "    class_weight = df.iloc[1, 1:].values\n",
        "    smote = df.iloc[2, 1:].values\n",
        "    under = df.iloc[3, 1:].values\n",
        "    width = 0.2\n",
        "    figure(figsize=(12, 10), dpi=80)\n",
        "    plt.bar(x-0.2, original, width, color='#95a5a6')\n",
        "    plt.bar(x, class_weight, width, color='#d35400')\n",
        "    plt.bar(x+0.2, smote, width, color='#2980b9')\n",
        "    plt.bar(x+0.4, under, width, color='#3498db')\n",
        "    plt.xticks(x, ['Accuracy', 'Recall', 'AUC', 'Precision', 'Fscore'])\n",
        "    plt.xlabel(\"Evaluation Metrics\")\n",
        "    plt.ylabel(\"Score\")\n",
        "    plt.legend([\"Original\", \"Class Weight\", \"SMOTE\", \"Undersampling\"])\n",
        "    plt.show()"
      ],
      "execution_count": 50
    },
    {
      "cell_type": "markdown",
      "metadata": {
        "id": "8ce37c8c-0d5e-4271-bad2-7da964d89873"
      },
      "source": [
        "## Scenario: Predicting Customer Churn\n"
      ]
    },
    {
      "cell_type": "markdown",
      "metadata": {
        "id": "ac90ea8e-b437-4731-97eb-dffed8bbd29b"
      },
      "source": [
        "In the second scenario, we will be predicting customer churns (leaving the business) of a telecom company.\n"
      ]
    },
    {
      "cell_type": "markdown",
      "metadata": {
        "id": "f6b69dc5-f9e1-4014-824e-0bba621a98ec"
      },
      "source": [
        "First, let's read the dataset\n"
      ]
    },
    {
      "cell_type": "code",
      "metadata": {
        "id": "5e50cfbd-e020-4fd6-b71a-403dd9692404"
      },
      "outputs": [],
      "source": [
        "churn_df = pd.read_csv(\"im_churn.csv\", index_col=False)"
      ],
      "execution_count": 28
    },
    {
      "cell_type": "code",
      "metadata": {
        "id": "9f432a06-d86f-442e-a128-d8e3ea049712",
        "colab": {
          "base_uri": "https://localhost:8080/",
          "height": 256
        },
        "outputId": "f2b50353-31fe-484e-d142-0c978c59e16f"
      },
      "outputs": [
        {
          "output_type": "execute_result",
          "data": {
            "text/plain": [
              "   tenure  MonthlyCharges  TotalCharges  Partner_0  Partner_1  Dependents_0  \\\n",
              "0      27           70.55       1943.90        1.0        0.0           1.0   \n",
              "1      69           93.30       6398.05        1.0        0.0           0.0   \n",
              "2      55           59.20       3175.85        0.0        1.0           1.0   \n",
              "3      49           59.60       2970.30        1.0        0.0           0.0   \n",
              "4      72          109.55       7887.25        1.0        0.0           0.0   \n",
              "\n",
              "   Dependents_1  PhoneService_0  PhoneService_1  MultipleLines_0  ...  \\\n",
              "0           0.0             0.0             1.0              0.0  ...   \n",
              "1           1.0             0.0             1.0              0.0  ...   \n",
              "2           0.0             0.0             1.0              0.0  ...   \n",
              "3           1.0             0.0             1.0              0.0  ...   \n",
              "4           1.0             0.0             1.0              0.0  ...   \n",
              "\n",
              "   Contract_0  Contract_1  Contract_2  PaperlessBilling_0  PaperlessBilling_1  \\\n",
              "0         1.0         0.0         0.0                 1.0                 0.0   \n",
              "1         0.0         0.0         1.0                 1.0                 0.0   \n",
              "2         0.0         0.0         1.0                 1.0                 0.0   \n",
              "3         1.0         0.0         0.0                 0.0                 1.0   \n",
              "4         0.0         0.0         1.0                 0.0                 1.0   \n",
              "\n",
              "   PaymentMethod_0  PaymentMethod_1  PaymentMethod_2  PaymentMethod_3  Class  \n",
              "0              1.0              0.0              0.0              0.0      0  \n",
              "1              0.0              0.0              1.0              0.0      0  \n",
              "2              1.0              0.0              0.0              0.0      0  \n",
              "3              0.0              0.0              0.0              1.0      0  \n",
              "4              0.0              0.0              0.0              1.0      0  \n",
              "\n",
              "[5 rows x 43 columns]"
            ],
            "text/html": [
              "\n",
              "  <div id=\"df-904c5aff-0df1-4587-8d7a-20abf382e717\" class=\"colab-df-container\">\n",
              "    <div>\n",
              "<style scoped>\n",
              "    .dataframe tbody tr th:only-of-type {\n",
              "        vertical-align: middle;\n",
              "    }\n",
              "\n",
              "    .dataframe tbody tr th {\n",
              "        vertical-align: top;\n",
              "    }\n",
              "\n",
              "    .dataframe thead th {\n",
              "        text-align: right;\n",
              "    }\n",
              "</style>\n",
              "<table border=\"1\" class=\"dataframe\">\n",
              "  <thead>\n",
              "    <tr style=\"text-align: right;\">\n",
              "      <th></th>\n",
              "      <th>tenure</th>\n",
              "      <th>MonthlyCharges</th>\n",
              "      <th>TotalCharges</th>\n",
              "      <th>Partner_0</th>\n",
              "      <th>Partner_1</th>\n",
              "      <th>Dependents_0</th>\n",
              "      <th>Dependents_1</th>\n",
              "      <th>PhoneService_0</th>\n",
              "      <th>PhoneService_1</th>\n",
              "      <th>MultipleLines_0</th>\n",
              "      <th>...</th>\n",
              "      <th>Contract_0</th>\n",
              "      <th>Contract_1</th>\n",
              "      <th>Contract_2</th>\n",
              "      <th>PaperlessBilling_0</th>\n",
              "      <th>PaperlessBilling_1</th>\n",
              "      <th>PaymentMethod_0</th>\n",
              "      <th>PaymentMethod_1</th>\n",
              "      <th>PaymentMethod_2</th>\n",
              "      <th>PaymentMethod_3</th>\n",
              "      <th>Class</th>\n",
              "    </tr>\n",
              "  </thead>\n",
              "  <tbody>\n",
              "    <tr>\n",
              "      <th>0</th>\n",
              "      <td>27</td>\n",
              "      <td>70.55</td>\n",
              "      <td>1943.90</td>\n",
              "      <td>1.0</td>\n",
              "      <td>0.0</td>\n",
              "      <td>1.0</td>\n",
              "      <td>0.0</td>\n",
              "      <td>0.0</td>\n",
              "      <td>1.0</td>\n",
              "      <td>0.0</td>\n",
              "      <td>...</td>\n",
              "      <td>1.0</td>\n",
              "      <td>0.0</td>\n",
              "      <td>0.0</td>\n",
              "      <td>1.0</td>\n",
              "      <td>0.0</td>\n",
              "      <td>1.0</td>\n",
              "      <td>0.0</td>\n",
              "      <td>0.0</td>\n",
              "      <td>0.0</td>\n",
              "      <td>0</td>\n",
              "    </tr>\n",
              "    <tr>\n",
              "      <th>1</th>\n",
              "      <td>69</td>\n",
              "      <td>93.30</td>\n",
              "      <td>6398.05</td>\n",
              "      <td>1.0</td>\n",
              "      <td>0.0</td>\n",
              "      <td>0.0</td>\n",
              "      <td>1.0</td>\n",
              "      <td>0.0</td>\n",
              "      <td>1.0</td>\n",
              "      <td>0.0</td>\n",
              "      <td>...</td>\n",
              "      <td>0.0</td>\n",
              "      <td>0.0</td>\n",
              "      <td>1.0</td>\n",
              "      <td>1.0</td>\n",
              "      <td>0.0</td>\n",
              "      <td>0.0</td>\n",
              "      <td>0.0</td>\n",
              "      <td>1.0</td>\n",
              "      <td>0.0</td>\n",
              "      <td>0</td>\n",
              "    </tr>\n",
              "    <tr>\n",
              "      <th>2</th>\n",
              "      <td>55</td>\n",
              "      <td>59.20</td>\n",
              "      <td>3175.85</td>\n",
              "      <td>0.0</td>\n",
              "      <td>1.0</td>\n",
              "      <td>1.0</td>\n",
              "      <td>0.0</td>\n",
              "      <td>0.0</td>\n",
              "      <td>1.0</td>\n",
              "      <td>0.0</td>\n",
              "      <td>...</td>\n",
              "      <td>0.0</td>\n",
              "      <td>0.0</td>\n",
              "      <td>1.0</td>\n",
              "      <td>1.0</td>\n",
              "      <td>0.0</td>\n",
              "      <td>1.0</td>\n",
              "      <td>0.0</td>\n",
              "      <td>0.0</td>\n",
              "      <td>0.0</td>\n",
              "      <td>0</td>\n",
              "    </tr>\n",
              "    <tr>\n",
              "      <th>3</th>\n",
              "      <td>49</td>\n",
              "      <td>59.60</td>\n",
              "      <td>2970.30</td>\n",
              "      <td>1.0</td>\n",
              "      <td>0.0</td>\n",
              "      <td>0.0</td>\n",
              "      <td>1.0</td>\n",
              "      <td>0.0</td>\n",
              "      <td>1.0</td>\n",
              "      <td>0.0</td>\n",
              "      <td>...</td>\n",
              "      <td>1.0</td>\n",
              "      <td>0.0</td>\n",
              "      <td>0.0</td>\n",
              "      <td>0.0</td>\n",
              "      <td>1.0</td>\n",
              "      <td>0.0</td>\n",
              "      <td>0.0</td>\n",
              "      <td>0.0</td>\n",
              "      <td>1.0</td>\n",
              "      <td>0</td>\n",
              "    </tr>\n",
              "    <tr>\n",
              "      <th>4</th>\n",
              "      <td>72</td>\n",
              "      <td>109.55</td>\n",
              "      <td>7887.25</td>\n",
              "      <td>1.0</td>\n",
              "      <td>0.0</td>\n",
              "      <td>0.0</td>\n",
              "      <td>1.0</td>\n",
              "      <td>0.0</td>\n",
              "      <td>1.0</td>\n",
              "      <td>0.0</td>\n",
              "      <td>...</td>\n",
              "      <td>0.0</td>\n",
              "      <td>0.0</td>\n",
              "      <td>1.0</td>\n",
              "      <td>0.0</td>\n",
              "      <td>1.0</td>\n",
              "      <td>0.0</td>\n",
              "      <td>0.0</td>\n",
              "      <td>0.0</td>\n",
              "      <td>1.0</td>\n",
              "      <td>0</td>\n",
              "    </tr>\n",
              "  </tbody>\n",
              "</table>\n",
              "<p>5 rows × 43 columns</p>\n",
              "</div>\n",
              "    <div class=\"colab-df-buttons\">\n",
              "\n",
              "  <div class=\"colab-df-container\">\n",
              "    <button class=\"colab-df-convert\" onclick=\"convertToInteractive('df-904c5aff-0df1-4587-8d7a-20abf382e717')\"\n",
              "            title=\"Convert this dataframe to an interactive table.\"\n",
              "            style=\"display:none;\">\n",
              "\n",
              "  <svg xmlns=\"http://www.w3.org/2000/svg\" height=\"24px\" viewBox=\"0 -960 960 960\">\n",
              "    <path d=\"M120-120v-720h720v720H120Zm60-500h600v-160H180v160Zm220 220h160v-160H400v160Zm0 220h160v-160H400v160ZM180-400h160v-160H180v160Zm440 0h160v-160H620v160ZM180-180h160v-160H180v160Zm440 0h160v-160H620v160Z\"/>\n",
              "  </svg>\n",
              "    </button>\n",
              "\n",
              "  <style>\n",
              "    .colab-df-container {\n",
              "      display:flex;\n",
              "      gap: 12px;\n",
              "    }\n",
              "\n",
              "    .colab-df-convert {\n",
              "      background-color: #E8F0FE;\n",
              "      border: none;\n",
              "      border-radius: 50%;\n",
              "      cursor: pointer;\n",
              "      display: none;\n",
              "      fill: #1967D2;\n",
              "      height: 32px;\n",
              "      padding: 0 0 0 0;\n",
              "      width: 32px;\n",
              "    }\n",
              "\n",
              "    .colab-df-convert:hover {\n",
              "      background-color: #E2EBFA;\n",
              "      box-shadow: 0px 1px 2px rgba(60, 64, 67, 0.3), 0px 1px 3px 1px rgba(60, 64, 67, 0.15);\n",
              "      fill: #174EA6;\n",
              "    }\n",
              "\n",
              "    .colab-df-buttons div {\n",
              "      margin-bottom: 4px;\n",
              "    }\n",
              "\n",
              "    [theme=dark] .colab-df-convert {\n",
              "      background-color: #3B4455;\n",
              "      fill: #D2E3FC;\n",
              "    }\n",
              "\n",
              "    [theme=dark] .colab-df-convert:hover {\n",
              "      background-color: #434B5C;\n",
              "      box-shadow: 0px 1px 3px 1px rgba(0, 0, 0, 0.15);\n",
              "      filter: drop-shadow(0px 1px 2px rgba(0, 0, 0, 0.3));\n",
              "      fill: #FFFFFF;\n",
              "    }\n",
              "  </style>\n",
              "\n",
              "    <script>\n",
              "      const buttonEl =\n",
              "        document.querySelector('#df-904c5aff-0df1-4587-8d7a-20abf382e717 button.colab-df-convert');\n",
              "      buttonEl.style.display =\n",
              "        google.colab.kernel.accessAllowed ? 'block' : 'none';\n",
              "\n",
              "      async function convertToInteractive(key) {\n",
              "        const element = document.querySelector('#df-904c5aff-0df1-4587-8d7a-20abf382e717');\n",
              "        const dataTable =\n",
              "          await google.colab.kernel.invokeFunction('convertToInteractive',\n",
              "                                                    [key], {});\n",
              "        if (!dataTable) return;\n",
              "\n",
              "        const docLinkHtml = 'Like what you see? Visit the ' +\n",
              "          '<a target=\"_blank\" href=https://colab.research.google.com/notebooks/data_table.ipynb>data table notebook</a>'\n",
              "          + ' to learn more about interactive tables.';\n",
              "        element.innerHTML = '';\n",
              "        dataTable['output_type'] = 'display_data';\n",
              "        await google.colab.output.renderOutput(dataTable, element);\n",
              "        const docLink = document.createElement('div');\n",
              "        docLink.innerHTML = docLinkHtml;\n",
              "        element.appendChild(docLink);\n",
              "      }\n",
              "    </script>\n",
              "  </div>\n",
              "\n",
              "\n",
              "    <div id=\"df-e1fb21ee-2a37-48a5-a45c-4359b6c55ac0\">\n",
              "      <button class=\"colab-df-quickchart\" onclick=\"quickchart('df-e1fb21ee-2a37-48a5-a45c-4359b6c55ac0')\"\n",
              "                title=\"Suggest charts\"\n",
              "                style=\"display:none;\">\n",
              "\n",
              "<svg xmlns=\"http://www.w3.org/2000/svg\" height=\"24px\"viewBox=\"0 0 24 24\"\n",
              "     width=\"24px\">\n",
              "    <g>\n",
              "        <path d=\"M19 3H5c-1.1 0-2 .9-2 2v14c0 1.1.9 2 2 2h14c1.1 0 2-.9 2-2V5c0-1.1-.9-2-2-2zM9 17H7v-7h2v7zm4 0h-2V7h2v10zm4 0h-2v-4h2v4z\"/>\n",
              "    </g>\n",
              "</svg>\n",
              "      </button>\n",
              "\n",
              "<style>\n",
              "  .colab-df-quickchart {\n",
              "      --bg-color: #E8F0FE;\n",
              "      --fill-color: #1967D2;\n",
              "      --hover-bg-color: #E2EBFA;\n",
              "      --hover-fill-color: #174EA6;\n",
              "      --disabled-fill-color: #AAA;\n",
              "      --disabled-bg-color: #DDD;\n",
              "  }\n",
              "\n",
              "  [theme=dark] .colab-df-quickchart {\n",
              "      --bg-color: #3B4455;\n",
              "      --fill-color: #D2E3FC;\n",
              "      --hover-bg-color: #434B5C;\n",
              "      --hover-fill-color: #FFFFFF;\n",
              "      --disabled-bg-color: #3B4455;\n",
              "      --disabled-fill-color: #666;\n",
              "  }\n",
              "\n",
              "  .colab-df-quickchart {\n",
              "    background-color: var(--bg-color);\n",
              "    border: none;\n",
              "    border-radius: 50%;\n",
              "    cursor: pointer;\n",
              "    display: none;\n",
              "    fill: var(--fill-color);\n",
              "    height: 32px;\n",
              "    padding: 0;\n",
              "    width: 32px;\n",
              "  }\n",
              "\n",
              "  .colab-df-quickchart:hover {\n",
              "    background-color: var(--hover-bg-color);\n",
              "    box-shadow: 0 1px 2px rgba(60, 64, 67, 0.3), 0 1px 3px 1px rgba(60, 64, 67, 0.15);\n",
              "    fill: var(--button-hover-fill-color);\n",
              "  }\n",
              "\n",
              "  .colab-df-quickchart-complete:disabled,\n",
              "  .colab-df-quickchart-complete:disabled:hover {\n",
              "    background-color: var(--disabled-bg-color);\n",
              "    fill: var(--disabled-fill-color);\n",
              "    box-shadow: none;\n",
              "  }\n",
              "\n",
              "  .colab-df-spinner {\n",
              "    border: 2px solid var(--fill-color);\n",
              "    border-color: transparent;\n",
              "    border-bottom-color: var(--fill-color);\n",
              "    animation:\n",
              "      spin 1s steps(1) infinite;\n",
              "  }\n",
              "\n",
              "  @keyframes spin {\n",
              "    0% {\n",
              "      border-color: transparent;\n",
              "      border-bottom-color: var(--fill-color);\n",
              "      border-left-color: var(--fill-color);\n",
              "    }\n",
              "    20% {\n",
              "      border-color: transparent;\n",
              "      border-left-color: var(--fill-color);\n",
              "      border-top-color: var(--fill-color);\n",
              "    }\n",
              "    30% {\n",
              "      border-color: transparent;\n",
              "      border-left-color: var(--fill-color);\n",
              "      border-top-color: var(--fill-color);\n",
              "      border-right-color: var(--fill-color);\n",
              "    }\n",
              "    40% {\n",
              "      border-color: transparent;\n",
              "      border-right-color: var(--fill-color);\n",
              "      border-top-color: var(--fill-color);\n",
              "    }\n",
              "    60% {\n",
              "      border-color: transparent;\n",
              "      border-right-color: var(--fill-color);\n",
              "    }\n",
              "    80% {\n",
              "      border-color: transparent;\n",
              "      border-right-color: var(--fill-color);\n",
              "      border-bottom-color: var(--fill-color);\n",
              "    }\n",
              "    90% {\n",
              "      border-color: transparent;\n",
              "      border-bottom-color: var(--fill-color);\n",
              "    }\n",
              "  }\n",
              "</style>\n",
              "\n",
              "      <script>\n",
              "        async function quickchart(key) {\n",
              "          const quickchartButtonEl =\n",
              "            document.querySelector('#' + key + ' button');\n",
              "          quickchartButtonEl.disabled = true;  // To prevent multiple clicks.\n",
              "          quickchartButtonEl.classList.add('colab-df-spinner');\n",
              "          try {\n",
              "            const charts = await google.colab.kernel.invokeFunction(\n",
              "                'suggestCharts', [key], {});\n",
              "          } catch (error) {\n",
              "            console.error('Error during call to suggestCharts:', error);\n",
              "          }\n",
              "          quickchartButtonEl.classList.remove('colab-df-spinner');\n",
              "          quickchartButtonEl.classList.add('colab-df-quickchart-complete');\n",
              "        }\n",
              "        (() => {\n",
              "          let quickchartButtonEl =\n",
              "            document.querySelector('#df-e1fb21ee-2a37-48a5-a45c-4359b6c55ac0 button');\n",
              "          quickchartButtonEl.style.display =\n",
              "            google.colab.kernel.accessAllowed ? 'block' : 'none';\n",
              "        })();\n",
              "      </script>\n",
              "    </div>\n",
              "\n",
              "    </div>\n",
              "  </div>\n"
            ],
            "application/vnd.google.colaboratory.intrinsic+json": {
              "type": "dataframe",
              "variable_name": "churn_df"
            }
          },
          "metadata": {},
          "execution_count": 57
        }
      ],
      "source": [
        "churn_df.head()"
      ],
      "execution_count": 57
    },
    {
      "cell_type": "markdown",
      "metadata": {
        "id": "0332c3a6-bd4e-4f60-812e-9aed64656d31"
      },
      "source": [
        "This dataset is processed and contains features about a customer's telcom service types, tenure, charges, and payments. Based on such features, we would like to predict if a customer is leaving the business or not (churn).\n"
      ]
    },
    {
      "cell_type": "markdown",
      "metadata": {
        "id": "029adf8f-d473-43b6-8983-90c09ae9b489"
      },
      "source": [
        "Then, we need to split the data into training and testing datasets,\n"
      ]
    },
    {
      "cell_type": "code",
      "metadata": {
        "id": "64372de2-7565-495e-a52a-b7240f5a09f5"
      },
      "outputs": [],
      "source": [
        "X_train, X_test, y_train, y_test = split_data(churn_df)"
      ],
      "execution_count": 58
    },
    {
      "cell_type": "code",
      "source": [
        "churn_df.columns"
      ],
      "metadata": {
        "colab": {
          "base_uri": "https://localhost:8080/"
        },
        "id": "oQbtvb14-Jt8",
        "outputId": "4545e4e8-5fe5-4d05-cc89-712339e12373"
      },
      "execution_count": 60,
      "outputs": [
        {
          "output_type": "execute_result",
          "data": {
            "text/plain": [
              "Index(['tenure', 'MonthlyCharges', 'TotalCharges', 'Partner_0', 'Partner_1',\n",
              "       'Dependents_0', 'Dependents_1', 'PhoneService_0', 'PhoneService_1',\n",
              "       'MultipleLines_0', 'MultipleLines_1', 'MultipleLines_2',\n",
              "       'InternetService_0', 'InternetService_1', 'InternetService_2',\n",
              "       'OnlineSecurity_0', 'OnlineSecurity_1', 'OnlineSecurity_2',\n",
              "       'OnlineBackup_0', 'OnlineBackup_1', 'OnlineBackup_2',\n",
              "       'DeviceProtection_0', 'DeviceProtection_1', 'DeviceProtection_2',\n",
              "       'TechSupport_0', 'TechSupport_1', 'TechSupport_2', 'StreamingTV_0',\n",
              "       'StreamingTV_1', 'StreamingTV_2', 'StreamingMovies_0',\n",
              "       'StreamingMovies_1', 'StreamingMovies_2', 'Contract_0', 'Contract_1',\n",
              "       'Contract_2', 'PaperlessBilling_0', 'PaperlessBilling_1',\n",
              "       'PaymentMethod_0', 'PaymentMethod_1', 'PaymentMethod_2',\n",
              "       'PaymentMethod_3', 'Class'],\n",
              "      dtype='object')"
            ]
          },
          "metadata": {},
          "execution_count": 60
        }
      ]
    },
    {
      "cell_type": "markdown",
      "metadata": {
        "id": "1f17e207-dfaa-4d4a-b8b2-43dc4fb8fa09"
      },
      "source": [
        "and take a look at its class distribution.\n"
      ]
    },
    {
      "cell_type": "code",
      "metadata": {
        "id": "3f3f3e7a-537c-4baf-a95a-b96da4319cc8",
        "colab": {
          "base_uri": "https://localhost:8080/",
          "height": 588
        },
        "outputId": "699500b3-6ddb-47b0-dcf3-31aa48a74c31"
      },
      "outputs": [
        {
          "output_type": "stream",
          "name": "stderr",
          "text": [
            "/tmp/ipython-input-62-2081760215.py:9: FutureWarning: \n",
            "\n",
            "Passing `palette` without assigning `hue` is deprecated and will be removed in v0.14.0. Assign the `x` variable to `hue` and set `legend=False` for the same effect.\n",
            "\n",
            "  ax = sns.barplot(x=class_counts.index, y=class_counts.values, palette=['green', 'red'])\n"
          ]
        },
        {
          "output_type": "display_data",
          "data": {
            "text/plain": [
              "<Figure size 800x500 with 1 Axes>"
            ],
            "image/png": "[encoded data removed]"
          },
          "metadata": {}
        }
      ],
      "source": [
        "# Apply Seaborn styling\n",
        "sns.set(style=\"whitegrid\")\n",
        "\n",
        "# Get class distribution\n",
        "class_counts = y_train.value_counts()\n",
        "\n",
        "# Set up the plot\n",
        "plt.figure(figsize=(8, 5))\n",
        "ax = sns.barplot(x=class_counts.index, y=class_counts.values, palette=['green', 'red'])\n",
        "\n",
        "# Add value annotations\n",
        "for i, count in enumerate(class_counts.values):\n",
        "    ax.text(i, count + 0.01 * max(class_counts.values), f'{count:,}',\n",
        "            ha='center', va='bottom', fontsize=12, fontweight='bold')\n",
        "\n",
        "# Title and axis labels\n",
        "plt.title('Class Distribution in y_train', fontsize=16, fontweight='bold')\n",
        "plt.xlabel('Class', fontsize=12)\n",
        "plt.ylabel('Count', fontsize=12)\n",
        "plt.xticks([0, 1], ['Non-Churn (0)', 'Churn (1)'])\n",
        "\n",
        "# Final layout adjustments\n",
        "plt.tight_layout()\n",
        "plt.show()\n"
      ],
      "execution_count": 62
    },
    {
      "cell_type": "markdown",
      "metadata": {
        "id": "21fd683f-e6d6-4194-807d-8887912dbac5"
      },
      "source": [
        "As we can see from the bar chart above, the non-churn customers are almost 4 times more than the churn customers, which makes it an imbalanced dataset as well. Since this dataset has 42 features, it would be better to use a more complex classification model and we choose to use `RandomForestClassifier` from `sklearn` package.\n"
      ]
    },
    {
      "cell_type": "markdown",
      "metadata": {
        "id": "e2128166-f6c2-4fce-8229-0fe623fcc0c5"
      },
      "source": [
        "`RandomForestClassifier` has many hyperparameters that need to be tuned, we have pre-tuned the main parameters for you. You may also use the provided `grid_search_rf()` method to play with hyperparameter tuning yourself.\n"
      ]
    },
    {
      "cell_type": "code",
      "metadata": {
        "id": "79efe0dc-91e8-4000-9748-e09cde8ee3f6"
      },
      "outputs": [],
      "source": [
        "# Tuned random forest parameters\n",
        "best_params_no_weight = {'bootstrap': True,\n",
        "                         'class_weight': None,\n",
        "                         'max_depth': 10,\n",
        "                         'min_samples_split': 5,\n",
        "                         'n_estimators': 50}"
      ],
      "execution_count": 32
    },
    {
      "cell_type": "markdown",
      "metadata": {
        "id": "e1e8dab2-950e-4af7-af23-1551efa8be10"
      },
      "source": [
        "Next, since we want to compare the performance of different models, we create a list to contain all model performance metrics.\n"
      ]
    },
    {
      "cell_type": "code",
      "metadata": {
        "id": "8ff3c5e2-8856-41f3-8cf8-658dc5930cba"
      },
      "outputs": [],
      "source": [
        "results = []"
      ],
      "execution_count": 33
    },
    {
      "cell_type": "markdown",
      "metadata": {
        "id": "a715cf86-d94b-4039-bcf8-bccd9ac07428"
      },
      "source": [
        "### Train a regular random forest classifier\n"
      ]
    },
    {
      "cell_type": "markdown",
      "metadata": {
        "id": "47a37116-6687-4899-a1aa-ae177d789e38"
      },
      "source": [
        "Then, we will train a regular random forest classifier without any add-ons (class weights or resampling).\n"
      ]
    },
    {
      "cell_type": "code",
      "metadata": {
        "id": "0bd73b8c-8e21-4a8b-9a20-7a4a6bab6873",
        "colab": {
          "base_uri": "https://localhost:8080/"
        },
        "outputId": "c04beb26-140d-40ae-fe14-ccccef901c37"
      },
      "outputs": [
        {
          "output_type": "stream",
          "name": "stdout",
          "text": [
            "{'type': 'Original', 'accuracy': 0.8623481781376519, 'recall': 0.28, 'auc': np.float64(0.6274396135265701), 'precision': 0.6829268292682927, 'fscore': 0.2865013774104683}\n"
          ]
        }
      ],
      "source": [
        "preds, model = build_rf(X_train, y_train, X_test, best_params=best_params_no_weight)\n",
        "result = evaluate(y_test, preds, \"Original\")\n",
        "print(result)\n",
        "results.append(result)"
      ],
      "execution_count": 34
    },
    {
      "cell_type": "markdown",
      "metadata": {
        "id": "fedcc180-f39c-4b03-9d82-e0db38b53976"
      },
      "source": [
        "As you may expect, we have a very high prediction `accuracy` but even using a random forest classifier, our `recall` is very low with only 0.28.\n",
        "Next, let's try the class reweighting method to see if we can improve the performance.\n"
      ]
    },
    {
      "cell_type": "markdown",
      "metadata": {
        "id": "0d294e06-b9dc-41c8-9697-c5b3654f0afb"
      },
      "source": [
        "### Add class re-weighting\n"
      ]
    },
    {
      "cell_type": "markdown",
      "metadata": {
        "id": "5458e342-f355-4f62-aecd-00ddc47de950"
      },
      "source": [
        "We will add class weights to the random forest classifier with pre-tuned weight 0.8 to churn class and weight 0.2 to non-churn class.\n"
      ]
    },
    {
      "cell_type": "code",
      "metadata": {
        "id": "8d9bb336-233f-493f-b60e-17614aeb7761"
      },
      "outputs": [],
      "source": [
        "class_weight = {}\n",
        "# 0.2 to Non-churn class\n",
        "class_weight[0] = 0.2\n",
        "# 0.8 to Churn class\n",
        "class_weight[1] = 0.8"
      ],
      "execution_count": 35
    },
    {
      "cell_type": "code",
      "metadata": {
        "id": "9708e8b8-966b-4b08-9d69-edeea2d5daf5"
      },
      "outputs": [],
      "source": [
        "# Pre-tuned hyper parameters\n",
        "best_params_weight = {'bootstrap': True,\n",
        "                         'class_weight': class_weight,\n",
        "                         'max_depth': 10,\n",
        "                         'min_samples_split': 5,\n",
        "                         'n_estimators': 50}"
      ],
      "execution_count": 36
    },
    {
      "cell_type": "markdown",
      "metadata": {
        "id": "a407bf0b-2b5e-431a-802d-726b32513509"
      },
      "source": [
        "Build a random forest model with the class weight 0.8 vs. 0.2.\n"
      ]
    },
    {
      "cell_type": "code",
      "metadata": {
        "id": "a17524ba-a627-4e09-9456-85c4cc08f312"
      },
      "outputs": [],
      "source": [
        "# class weight\n",
        "preds_cw, weight_model = build_rf(X_train, y_train, X_test, best_params=best_params_weight)"
      ],
      "execution_count": 37
    },
    {
      "cell_type": "markdown",
      "metadata": {
        "id": "3ea5e1d4-2db6-43f6-9ef8-623525f0331a"
      },
      "source": [
        "Then evaluate the refined model.\n"
      ]
    },
    {
      "cell_type": "code",
      "metadata": {
        "id": "6ad3cd44-19ce-4999-9c74-bd40b3d1e8a5",
        "colab": {
          "base_uri": "https://localhost:8080/"
        },
        "outputId": "2502ee4a-984b-4be8-c069-3802958fb400"
      },
      "outputs": [
        {
          "output_type": "stream",
          "name": "stdout",
          "text": [
            "{'type': 'Class Weight', 'accuracy': 0.8137651821862348, 'recall': 0.62, 'auc': np.float64(0.7356038647342995), 'precision': 0.4460431654676259, 'fscore': 0.6108374384236454}\n"
          ]
        }
      ],
      "source": [
        "result = evaluate(y_test, preds_cw, \"Class Weight\")\n",
        "print(result)\n",
        "results.append(result)"
      ],
      "execution_count": 38
    },
    {
      "cell_type": "markdown",
      "metadata": {
        "id": "793b5ad4-61d0-444c-bf8a-03965c57679d"
      },
      "source": [
        "As we can see from the evaluation results above, `Recall` and `Fscore` are significantly improved by adding class weights. Such improvements indicate that class reweighting is effective for the imbalanced customer churn dataset.\n"
      ]
    },
    {
      "cell_type": "markdown",
      "metadata": {
        "id": "183442ee-81bb-48be-bdd7-6218c023d8ac"
      },
      "source": [
        "### Resampling: SMOTE and Undersampling\n"
      ]
    },
    {
      "cell_type": "markdown",
      "metadata": {
        "id": "7551828c-5bb1-446a-bdf0-feb782868a94"
      },
      "source": [
        "Then, we want to use resampling to see if it is also able to improve the model performance.\n"
      ]
    },
    {
      "cell_type": "markdown",
      "metadata": {
        "id": "8a0e0540-a2f9-41e0-b8cc-759fd37814f8"
      },
      "source": [
        "First, we create resampled training datasets:\n"
      ]
    },
    {
      "cell_type": "code",
      "metadata": {
        "id": "931d1167-e8f8-4609-b4d0-284e20daa72b"
      },
      "outputs": [],
      "source": [
        "# X_smo is resampled from X_train using SMOTE\n",
        "# y_smo is resampled from y_train using SMOTE\n",
        "# X_under is resampled from X_train using Undersampling\n",
        "# y_under is resampled from y_train using Undersampling\n",
        "X_smo, y_smo, X_under, y_under = resample(X_train, y_train)"
      ],
      "execution_count": 39
    },
    {
      "cell_type": "markdown",
      "metadata": {
        "id": "019f5262-5e83-40ea-a76b-efef4d3cee9d"
      },
      "source": [
        "Then we can retrain a random forest classifier using SMOTE resampled input `X_smo` and output `y_smo` and evaluate its performance,\n"
      ]
    },
    {
      "cell_type": "code",
      "metadata": {
        "id": "f7f54729-d385-46c0-b770-45fb5bf414a7",
        "colab": {
          "base_uri": "https://localhost:8080/"
        },
        "outputId": "fa267ffc-d582-41a5-daff-23ec20094c6d"
      },
      "outputs": [
        {
          "output_type": "stream",
          "name": "stdout",
          "text": [
            "{'type': 'SMOTE', 'accuracy': 0.8340080971659919, 'recall': 0.505, 'auc': np.float64(0.7012922705314009), 'precision': 0.48792270531400966, 'fscore': 0.504321106203188}\n"
          ]
        }
      ],
      "source": [
        "preds_smo, smo_model = build_rf(X_smo, y_smo, X_test, best_params=best_params_no_weight)\n",
        "result = evaluate(y_test, preds_smo, \"SMOTE\")\n",
        "print(result)\n",
        "results.append(result)"
      ],
      "execution_count": 40
    },
    {
      "cell_type": "markdown",
      "metadata": {
        "id": "d3dd212e-e1a6-4855-af9d-d1c3b179c01c"
      },
      "source": [
        "and we can retrain a random forest classifier using the undersampled input `X_under` and output `y_under` and evaluate its performance.\n"
      ]
    },
    {
      "cell_type": "code",
      "metadata": {
        "id": "3267f9fb-eb37-42ee-8f71-9301eff37b61",
        "colab": {
          "base_uri": "https://localhost:8080/"
        },
        "outputId": "f9fab50b-34d7-4ce8-f715-8a79225a4d7c"
      },
      "outputs": [
        {
          "output_type": "stream",
          "name": "stdout",
          "text": [
            "{'type': 'Undersampling', 'accuracy': 0.7336032388663968, 'recall': 0.79, 'auc': np.float64(0.7563526570048309), 'precision': 0.3550561797752809, 'fscore': 0.7544536271808999}\n"
          ]
        }
      ],
      "source": [
        "preds_under, under_model = build_rf(X_under, y_under, X_test, best_params=best_params_no_weight)\n",
        "result = evaluate(y_test, preds_under, \"Undersampling\")\n",
        "print(result)\n",
        "results.append(result)"
      ],
      "execution_count": 41
    },
    {
      "cell_type": "markdown",
      "metadata": {
        "id": "3a1c67fd-35e5-4e97-8f41-ddc58902391b"
      },
      "source": [
        "### Compare the performance among different random forest models\n"
      ]
    },
    {
      "cell_type": "markdown",
      "metadata": {
        "id": "cb3a2df1-f970-4d23-b426-2db16f2e0d86"
      },
      "source": [
        "By now, we have built four different random forest models: the model trained with the original dataset, the model with class weights, the model trained with SMOTE dataset, and the model trained with undersampling.\n",
        "\n",
        "To better analyze and compare their performance, we can visualize the metrics using a grouped bar chart.\n"
      ]
    },
    {
      "cell_type": "code",
      "metadata": {
        "id": "467b91b7-5cbf-47c5-84a8-c8edb676ecb8",
        "colab": {
          "base_uri": "https://localhost:8080/",
          "height": 777
        },
        "outputId": "f2e6c2fa-c8f1-4e88-b20d-8a275c70fd00"
      },
      "outputs": [
        {
          "output_type": "stream",
          "name": "stdout",
          "text": [
            "            type  accuracy  recall       auc  precision    fscore\n",
            "0       Original  0.862348   0.280  0.627440   0.682927  0.286501\n",
            "1   Class Weight  0.813765   0.620  0.735604   0.446043  0.610837\n",
            "2          SMOTE  0.834008   0.505  0.701292   0.487923  0.504321\n",
            "3  Undersampling  0.733603   0.790  0.756353   0.355056  0.754454\n"
          ]
        },
        {
          "output_type": "display_data",
          "data": {
            "text/plain": [
              "<Figure size 960x800 with 1 Axes>"
            ],
            "image/png": "[encoded data removed]"
          },
          "metadata": {}
        }
      ],
      "source": [
        "visualize_eval_metrics(results)"
      ],
      "execution_count": 42
    },
    {
      "cell_type": "markdown",
      "metadata": {
        "id": "4241f1a1-2835-444e-a5d2-725748c546c7"
      },
      "source": [
        "Let's first see what each color means. The grey bars represent the original model, the orange bars represent the model with class weight, the dark blue bars represent model trained with SMOTE, and the light blue bars represent the model trained with undersampling.\n",
        "\n",
        "As we can infer the following insights from the bar charts:\n"
      ]
    },
    {
      "cell_type": "markdown",
      "metadata": {
        "id": "a919d27c-3163-4d7e-a4b5-f35f416c33de"
      },
      "source": [
        "- All models have high accuracy\n",
        "- Recall is improved with class weights and resampling methods, and undersampling produces the highest recall\n",
        "- AUC is also improved with class weights and resampling methods, and undersampling produces the highest AUC again\n",
        "- Precisions are decreased with class weights and resampling methods as they all introduced many false positives (which are expected as we are trying to increase the impact of the positive class)\n",
        "- Fscore is improved with class weights and resampling method, and undersampling has the highest Fscore\n"
      ]
    },
    {
      "cell_type": "markdown",
      "metadata": {
        "id": "62641968-3aa8-4375-943a-9b252d4173fb"
      },
      "source": [
        "By analyzing the bar chart above, we can see that undersampling seems to be the best method to help alleviate the imbalanced challenge in the customer churn dataset. Although all class weights, SMOTE, and undersampling decreased the precision (increased false positives) but sometimes it is not a bad idea to assume some of your customers are about to leave (even if they are not) as motivation to improve your services.\n"
      ]
    },
    {
      "cell_type": "markdown",
      "metadata": {
        "id": "4f180351-9474-429e-ad2b-9f7e20d34bdb"
      },
      "source": [
        "## Scenario: Tumor Type Estimation\n"
      ]
    },
    {
      "cell_type": "markdown",
      "metadata": {
        "id": "446de84d-a15f-452b-8dc1-2037c98a331c"
      },
      "source": [
        "Finally, let's see an interesting imbalanced dataset that has very high Precision, Recall, and F-score initially without using class reweighting and resampling.\n"
      ]
    },
    {
      "cell_type": "markdown",
      "metadata": {
        "id": "65ba80a4-7775-475f-b116-1c8f5a096258"
      },
      "source": [
        "This dataset contains tumor samples and we need to estimate/predict if a tumor sample is cancerous or not.\n",
        "\n",
        "First, like other scenarios, let's load and split the dataset\n"
      ]
    },
    {
      "cell_type": "code",
      "metadata": {
        "id": "6dc6a07c-163f-4efb-8e5e-8f791ac04630"
      },
      "outputs": [],
      "source": [
        "tumor_df = pd.read_csv(\"im_cancer.csv\", index_col=False)\n",
        "X_train, X_test, y_train, y_test = split_data(tumor_df)"
      ],
      "execution_count": 44
    },
    {
      "cell_type": "markdown",
      "metadata": {
        "id": "f46411cf-976f-4cd6-bd39-0459d549d239"
      },
      "source": [
        "and check its class distribution:\n"
      ]
    },
    {
      "cell_type": "code",
      "metadata": {
        "id": "fb9de693-da72-4b33-9384-a956dfe8140f",
        "colab": {
          "base_uri": "https://localhost:8080/",
          "height": 588
        },
        "outputId": "146cdc0b-543f-4a56-e6a6-0ead621821c8"
      },
      "outputs": [
        {
          "output_type": "stream",
          "name": "stderr",
          "text": [
            "/tmp/ipython-input-63-2267297967.py:9: FutureWarning: \n",
            "\n",
            "Passing `palette` without assigning `hue` is deprecated and will be removed in v0.14.0. Assign the `x` variable to `hue` and set `legend=False` for the same effect.\n",
            "\n",
            "  ax = sns.barplot(x=class_counts.index, y=class_counts.values, palette=['green', 'red'])\n"
          ]
        },
        {
          "output_type": "display_data",
          "data": {
            "text/plain": [
              "<Figure size 800x500 with 1 Axes>"
            ],
            "image/png": "[encoded data removed]"
          },
          "metadata": {}
        }
      ],
      "source": [
        "\n",
        "# Use Seaborn style\n",
        "sns.set(style=\"whitegrid\")\n",
        "\n",
        "# Compute value counts\n",
        "class_counts = y_train.value_counts()\n",
        "\n",
        "# Set up figure\n",
        "plt.figure(figsize=(8, 5))\n",
        "ax = sns.barplot(x=class_counts.index, y=class_counts.values, palette=['green', 'red'])\n",
        "\n",
        "# Annotate each bar with its count\n",
        "for i, count in enumerate(class_counts.values):\n",
        "    ax.text(i, count + 0.01 * max(class_counts.values), f'{count:,}',\n",
        "            ha='center', va='bottom', fontsize=12, fontweight='bold')\n",
        "\n",
        "# Add title and axis labels\n",
        "plt.title('y_train Class Distribution', fontsize=16, fontweight='bold')\n",
        "plt.xlabel('Class', fontsize=12)\n",
        "plt.ylabel('Count', fontsize=12)\n",
        "plt.xticks([0, 1], ['Non-Cancerous (0)', 'Cancerous (1)'])\n",
        "\n",
        "# Clean layout\n",
        "plt.tight_layout()\n",
        "plt.show()\n"
      ],
      "execution_count": 63
    },
    {
      "cell_type": "markdown",
      "metadata": {
        "id": "b70aba31-5af1-45ab-8ec4-2ea8ee4d4f18"
      },
      "source": [
        "As we can see, this dataset is not as imbalanced as previous datasets. So that it is possible we dont need to use class reweighting and resampling in order to have good classification performance.\n"
      ]
    },
    {
      "cell_type": "markdown",
      "metadata": {
        "id": "a32d575a-4ce4-4f3b-8175-d2388ecd8baa"
      },
      "source": [
        "But we still create synthetic datasets with SMOTE and undersampling and class weights to compare their performance.\n"
      ]
    },
    {
      "cell_type": "code",
      "metadata": {
        "id": "d21b3912-98f1-44d7-a227-febd5a5a5c89"
      },
      "outputs": [],
      "source": [
        "X_smo, y_smo, X_under, y_under = resample(X_train, y_train)"
      ],
      "execution_count": 46
    },
    {
      "cell_type": "markdown",
      "metadata": {
        "id": "cd0f3c96-c930-4adc-9cde-6a45f179f231"
      },
      "source": [
        "Use tuned random forest parameters.\n"
      ]
    },
    {
      "cell_type": "code",
      "metadata": {
        "id": "693dbe21-25f0-4a28-9984-e4b254ec5c59"
      },
      "outputs": [],
      "source": [
        "best_params_weight = {'bootstrap': True,\n",
        "                         'class_weight': {0: 0.2, 1: 0.8},\n",
        "                         'max_depth': 10,\n",
        "                         'min_samples_split': 5,\n",
        "                         'n_estimators': 50}"
      ],
      "execution_count": 47
    },
    {
      "cell_type": "markdown",
      "metadata": {
        "id": "3bdba33b-248b-43a5-a0c3-22c0dbd5781a"
      },
      "source": [
        "Train and evaluate different random forest models on the tumor type dataset.\n"
      ]
    },
    {
      "cell_type": "code",
      "metadata": {
        "id": "b529b77f-1274-4d0f-8030-e2d87279dada"
      },
      "outputs": [],
      "source": [
        "# no class-weights\n",
        "results=[]\n",
        "preds, model = build_rf(X_train, y_train, X_test)\n",
        "results.append(evaluate(y_test, preds))\n",
        "# class weight\n",
        "preds, model = build_rf(X_train, y_train, X_test, best_params=best_params_weight)\n",
        "results.append(evaluate(y_test, preds))\n",
        "# Resampling\n",
        "preds, model = build_rf(X_smo, y_smo, X_test)\n",
        "results.append(evaluate(y_test, preds))\n",
        "preds, model = build_rf(X_under, y_under, X_test)\n",
        "results.append(evaluate(y_test, preds))"
      ],
      "execution_count": 48
    },
    {
      "cell_type": "code",
      "metadata": {
        "id": "0b85a80d-1ff6-4beb-a9de-aa6ea30399c0",
        "colab": {
          "base_uri": "https://localhost:8080/",
          "height": 777
        },
        "outputId": "d3e93d41-12dc-4ebe-fadb-3cd5c139efae"
      },
      "outputs": [
        {
          "output_type": "stream",
          "name": "stdout",
          "text": [
            "       type  accuracy  recall       auc  precision    fscore\n",
            "0  Original  0.984962     1.0  0.988764   0.956522  0.998255\n",
            "1  Original  0.992481     1.0  0.994382   0.977778  0.999127\n",
            "2  Original  0.992481     1.0  0.994382   0.977778  0.999127\n",
            "3  Original  0.984962     1.0  0.988764   0.956522  0.998255\n"
          ]
        },
        {
          "output_type": "display_data",
          "data": {
            "text/plain": [
              "<Figure size 960x800 with 1 Axes>"
            ],
            "image/png": "[encoded data removed]"
          },
          "metadata": {}
        }
      ],
      "source": [
        "visualize_eval_metrics(results)"
      ],
      "execution_count": 49
    },
    {
      "cell_type": "markdown",
      "metadata": {
        "id": "13a58e65-3161-4800-a999-55ec0c520aa8"
      },
      "source": [
        "As we can see, all grey bars (the original model) for Accuracy, Recall, AUC, Precision, and F-score have very high values and adding class reweighting and resampling does not help improve performance that much. This is possible that the tumor patterns in this dataset are obvious and can be easily picked up by the standard random forest model or the dataset is not very imbalanced and can be considered as an ordinary binary classification task.\n"
      ]
    },
    {
      "cell_type": "markdown",
      "source": [
        "## **Conclusion**\n",
        "\n",
        "This project investigated the challenge of learning from imbalanced data using three real-world datasets spanning the healthcare, financial, and customer analytics domains. Each dataset presented a unique context in which the minority class represented a critical target patients with cancer, customers likely to default, and subscribers at risk of churning. These scenarios reflect practical settings where misclassification can result in significant costs, whether clinical, financial, or operational.\n",
        "\n",
        "Through systematic experimentation, we applied and evaluated various techniques to mitigate the bias introduced by class imbalance. These included both data-level approaches, such as oversampling with SMOTE and undersampling the majority class, as well as algorithm-level strategies like cost-sensitive learning and boosting with class weights. Model performance was assessed using metrics more appropriate for imbalanced settings, including precision, recall, F1-score, and area under the ROC and Precision-Recall curves.\n",
        "\n",
        "The results demonstrated that:\n",
        "\n",
        "- Class imbalance, if left unaddressed, severely degrades minority class detection.\n",
        "- Data resampling methods such as SMOTE consistently improved recall and F1-score across datasets, albeit with some trade-offs in precision.\n",
        "- Ensemble methods, particularly those incorporating internal weighting mechanisms (e.g., XGBoost with `scale_pos_weight`), offered a strong balance between generalization and minority class sensitivity.\n",
        "- Metric selection played a critical role in evaluating model utility. Accuracy alone was insufficient and often misleading in all three domains.\n",
        "\n",
        "Beyond the technical outcomes, this work emphasizes the importance of tailoring imbalance mitigation strategies to the problem context. What works well in a medical dataset where false negatives are more costly may not be optimal in financial or customer behavior datasets where precision and cost control are equally important.\n",
        "\n",
        "In conclusion, imbalanced learning remains a nuanced and multifaceted problem, but with the right methodological tools and evaluation framework, it is possible to build models that are both fair and effective. This project provides a practical template for addressing class imbalance that can be extended and adapted to other domains with similar characteristics.\n"
      ],
      "metadata": {
        "id": "YexkYoLbyKrK"
      }
    }
  ],
  "metadata": {
    "kernelspec": {
      "name": "python3",
      "display_name": "Python 3 (ipykernel)",
      "language": "python"
    },
    "language_info": {
      "name": "python",
      "version": "3.11.9",
      "mimetype": "text/x-python",
      "codemirror_mode": {
        "name": "ipython",
        "version": 3
      },
      "pygments_lexer": "ipython3",
      "nbconvert_exporter": "python",
      "file_extension": ".py"
    },
    "prev_pub_hash": "3f8e5dcb6b683d2926e598572277cd58f3a094a5ad8c81e37a6f48b41c0b5988",
    "colab": {
      "provenance": []
    }
  },
  "nbformat": 4,
  "nbformat_minor": 0
}