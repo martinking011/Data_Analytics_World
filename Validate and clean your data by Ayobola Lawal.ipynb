{
 "cells": [
  {
   "cell_type": "markdown",
   "id": "0e59c8ca",
   "metadata": {
    "id": "1WD1hC5MTRMS"
   },
   "source": [
    "# Validate and clean your data"
   ]
  },
  {
   "cell_type": "markdown",
   "id": "28d8ae3f",
   "metadata": {
    "id": "ee31943b-274e-4c28-bce6-155cb6f4c334"
   },
   "source": [
    "## Introduction\n",
    "\n",
    "In this activity, we will use input validation and label encoding to prepare a dataset for analysis. These are fundamental techniques used in all types of data analysis, from simple linear regression to complex neural networks. \n",
    "\n",
    "In this activity scenario, where I am a data professional an investment firm that is attempting to invest in private companies with a valuation of at least $1 billion. These are often known as \"unicorns.\" My client wants to develop a better understanding of unicorns, with the hope they can be early investors in future highly successful companies. They are particularly interested in the investment strategies of the three top unicorn investors: Sequoia Capital, Tiger Global Management, and Accel. "
   ]
  },
  {
   "cell_type": "markdown",
   "id": "81354eb2",
   "metadata": {
    "id": "4bb9630e-b940-4835-a389-d39def1fa848"
   },
   "source": [
    "## Step 1: Imports "
   ]
  },
  {
   "cell_type": "markdown",
   "id": "ff0024c8",
   "metadata": {
    "id": "bc180686-4ae2-47ea-a292-3588ac60a820"
   },
   "source": [
    "Import relevant Python libraries and packages: `numpy`, `pandas`, `seaborn`, and `pyplot` from `matplotlib`."
   ]
  },
  {
   "cell_type": "code",
   "execution_count": 1,
   "id": "7ff0e2b0",
   "metadata": {
    "executionInfo": {
     "elapsed": 179,
     "status": "ok",
     "timestamp": 1663034402893,
     "user": {
      "displayName": "Lavanya Vijayan",
      "userId": "01043085078394539645"
     },
     "user_tz": 420
    },
    "id": "8e7f1f2c-bbcc-4f3c-b927-b090ee8334c4"
   },
   "outputs": [],
   "source": [
    "# Import libraries and packages.\n",
    "\n",
    "import matplotlib.pyplot as plt\n",
    "import numpy as np\n",
    "import seaborn as sns\n",
    "import pandas as pd"
   ]
  },
  {
   "cell_type": "markdown",
   "id": "31398fa5",
   "metadata": {
    "id": "7d29c6bd-f194-46bb-b794-56dc20130473"
   },
   "source": [
    "### Load the dataset\n",
    "\n",
    "The data contains details about unicorn companies, such as when they were founded, when they achieved unicorn status, and their current valuation. Load the dataset `Modified_Unicorn_Companies.csv` as `companies` and display the first five rows. The variables in the dataset have been adjusted to suit the objectives of this lab, so they may be different from similar data used in prior labs."
   ]
  },
  {
   "cell_type": "code",
   "execution_count": 2,
   "id": "54a0ad7f",
   "metadata": {
    "colab": {
     "base_uri": "https://localhost:8080/",
     "height": 496
    },
    "executionInfo": {
     "elapsed": 316,
     "status": "ok",
     "timestamp": 1663034403453,
     "user": {
      "displayName": "Lavanya Vijayan",
      "userId": "01043085078394539645"
     },
     "user_tz": 420
    },
    "id": "3bd40d44-080f-4e49-b0c2-160dedc3c4df",
    "outputId": "0f58d4f8-db82-4157-ecec-c6c472ff02cf"
   },
   "outputs": [
    {
     "data": {
      "text/html": [
       "<div>\n",
       "<style scoped>\n",
       "    .dataframe tbody tr th:only-of-type {\n",
       "        vertical-align: middle;\n",
       "    }\n",
       "\n",
       "    .dataframe tbody tr th {\n",
       "        vertical-align: top;\n",
       "    }\n",
       "\n",
       "    .dataframe thead th {\n",
       "        text-align: right;\n",
       "    }\n",
       "</style>\n",
       "<table border=\"1\" class=\"dataframe\">\n",
       "  <thead>\n",
       "    <tr style=\"text-align: right;\">\n",
       "      <th></th>\n",
       "      <th>Company</th>\n",
       "      <th>Valuation</th>\n",
       "      <th>Date Joined</th>\n",
       "      <th>Industry</th>\n",
       "      <th>City</th>\n",
       "      <th>Country/Region</th>\n",
       "      <th>Continent</th>\n",
       "      <th>Year Founded</th>\n",
       "      <th>Funding</th>\n",
       "      <th>Select Investors</th>\n",
       "    </tr>\n",
       "  </thead>\n",
       "  <tbody>\n",
       "    <tr>\n",
       "      <th>0</th>\n",
       "      <td>Bytedance</td>\n",
       "      <td>180</td>\n",
       "      <td>2017-04-07</td>\n",
       "      <td>Artificial intelligence</td>\n",
       "      <td>Beijing</td>\n",
       "      <td>China</td>\n",
       "      <td>Asia</td>\n",
       "      <td>2012</td>\n",
       "      <td>$8B</td>\n",
       "      <td>Sequoia Capital China, SIG Asia Investments, S...</td>\n",
       "    </tr>\n",
       "    <tr>\n",
       "      <th>1</th>\n",
       "      <td>SpaceX</td>\n",
       "      <td>100</td>\n",
       "      <td>2012-12-01</td>\n",
       "      <td>Other</td>\n",
       "      <td>Hawthorne</td>\n",
       "      <td>United States</td>\n",
       "      <td>North America</td>\n",
       "      <td>2002</td>\n",
       "      <td>$7B</td>\n",
       "      <td>Founders Fund, Draper Fisher Jurvetson, Rothen...</td>\n",
       "    </tr>\n",
       "    <tr>\n",
       "      <th>2</th>\n",
       "      <td>SHEIN</td>\n",
       "      <td>100</td>\n",
       "      <td>2018-07-03</td>\n",
       "      <td>E-commerce &amp; direct-to-consumer</td>\n",
       "      <td>Shenzhen</td>\n",
       "      <td>China</td>\n",
       "      <td>Asia</td>\n",
       "      <td>2008</td>\n",
       "      <td>$2B</td>\n",
       "      <td>Tiger Global Management, Sequoia Capital China...</td>\n",
       "    </tr>\n",
       "    <tr>\n",
       "      <th>3</th>\n",
       "      <td>Stripe</td>\n",
       "      <td>95</td>\n",
       "      <td>2014-01-23</td>\n",
       "      <td>FinTech</td>\n",
       "      <td>San Francisco</td>\n",
       "      <td>United States</td>\n",
       "      <td>North America</td>\n",
       "      <td>2010</td>\n",
       "      <td>$2B</td>\n",
       "      <td>Khosla Ventures, LowercaseCapital, capitalG</td>\n",
       "    </tr>\n",
       "    <tr>\n",
       "      <th>4</th>\n",
       "      <td>Klarna</td>\n",
       "      <td>46</td>\n",
       "      <td>2011-12-12</td>\n",
       "      <td>Fintech</td>\n",
       "      <td>Stockholm</td>\n",
       "      <td>Sweden</td>\n",
       "      <td>Europe</td>\n",
       "      <td>2005</td>\n",
       "      <td>$4B</td>\n",
       "      <td>Institutional Venture Partners, Sequoia Capita...</td>\n",
       "    </tr>\n",
       "  </tbody>\n",
       "</table>\n",
       "</div>"
      ],
      "text/plain": [
       "     Company  Valuation Date Joined                         Industry  \\\n",
       "0  Bytedance        180  2017-04-07          Artificial intelligence   \n",
       "1     SpaceX        100  2012-12-01                            Other   \n",
       "2      SHEIN        100  2018-07-03  E-commerce & direct-to-consumer   \n",
       "3     Stripe         95  2014-01-23                          FinTech   \n",
       "4     Klarna         46  2011-12-12                          Fintech   \n",
       "\n",
       "            City Country/Region      Continent  Year Founded Funding  \\\n",
       "0        Beijing          China           Asia          2012     $8B   \n",
       "1      Hawthorne  United States  North America          2002     $7B   \n",
       "2       Shenzhen          China           Asia          2008     $2B   \n",
       "3  San Francisco  United States  North America          2010     $2B   \n",
       "4      Stockholm         Sweden         Europe          2005     $4B   \n",
       "\n",
       "                                    Select Investors  \n",
       "0  Sequoia Capital China, SIG Asia Investments, S...  \n",
       "1  Founders Fund, Draper Fisher Jurvetson, Rothen...  \n",
       "2  Tiger Global Management, Sequoia Capital China...  \n",
       "3        Khosla Ventures, LowercaseCapital, capitalG  \n",
       "4  Institutional Venture Partners, Sequoia Capita...  "
      ]
     },
     "execution_count": 2,
     "metadata": {},
     "output_type": "execute_result"
    }
   ],
   "source": [
    "# Load the data.\n",
    "\n",
    "companies = pd.read_csv('Modified_Unicorn_Companies.csv')\n",
    "\n",
    "# Display the first five rows.\n",
    "\n",
    "companies.head()"
   ]
  },
  {
   "cell_type": "markdown",
   "id": "e2d266cb",
   "metadata": {
    "id": "95bf39c9-d05c-4324-a40b-bc692607b61b"
   },
   "source": [
    "## Step 2: Data cleaning\n"
   ]
  },
  {
   "cell_type": "markdown",
   "id": "46c5eae0",
   "metadata": {
    "id": "ad17d09c-c829-4e88-9089-83060d1adf91"
   },
   "source": [
    "We begin by displaying the data types of the columns in `companies`."
   ]
  },
  {
   "cell_type": "code",
   "execution_count": 3,
   "id": "7c5c183c",
   "metadata": {
    "colab": {
     "base_uri": "https://localhost:8080/"
    },
    "executionInfo": {
     "elapsed": 40,
     "status": "ok",
     "timestamp": 1663034403455,
     "user": {
      "displayName": "Lavanya Vijayan",
      "userId": "01043085078394539645"
     },
     "user_tz": 420
    },
    "id": "5340b9fd-a9e1-4943-b546-eece0049dc3b",
    "outputId": "8dfe05a1-f40f-4634-e339-f64f0b9ac6db"
   },
   "outputs": [
    {
     "data": {
      "text/plain": [
       "Company             object\n",
       "Valuation            int64\n",
       "Date Joined         object\n",
       "Industry            object\n",
       "City                object\n",
       "Country/Region      object\n",
       "Continent           object\n",
       "Year Founded         int64\n",
       "Funding             object\n",
       "Select Investors    object\n",
       "dtype: object"
      ]
     },
     "execution_count": 3,
     "metadata": {},
     "output_type": "execute_result"
    }
   ],
   "source": [
    "# Display the data types of the columns.\n",
    "\n",
    "companies.dtypes"
   ]
  },
  {
   "cell_type": "markdown",
   "id": "4aa9f1af",
   "metadata": {
    "id": "0dbc048f-cd6d-4e52-93a9-21ec30ce055b"
   },
   "source": [
    "### Correct the data types"
   ]
  },
  {
   "cell_type": "markdown",
   "id": "43143e13",
   "metadata": {
    "id": "ad280560-d6db-4fcd-ba70-2c16389e12fd"
   },
   "source": [
    "If any of the data types in `companies` are incorrect, fix them and save them back to `companies`."
   ]
  },
  {
   "cell_type": "code",
   "execution_count": 4,
   "id": "d121d875",
   "metadata": {
    "executionInfo": {
     "elapsed": 35,
     "status": "ok",
     "timestamp": 1663034403456,
     "user": {
      "displayName": "Lavanya Vijayan",
      "userId": "01043085078394539645"
     },
     "user_tz": 420
    },
    "id": "1793ad8d-659a-4fc9-aa8a-570f063ca0d3"
   },
   "outputs": [],
   "source": [
    "# Apply necessary datatype conversions.\n",
    "\n",
    "companies['Date Joined'] = pd.to_datetime(companies['Date Joined'])"
   ]
  },
  {
   "cell_type": "markdown",
   "id": "5fc216ed",
   "metadata": {
    "id": "1ea7364c-a5be-4c3a-ae8d-24a0ac497973"
   },
   "source": [
    "### Create a new column"
   ]
  },
  {
   "cell_type": "markdown",
   "id": "c94f4746",
   "metadata": {
    "id": "6ed05e76-0a66-4ea3-9796-39afb48eeb93"
   },
   "source": [
    "Add a column called `Years To Unicorn`, which is the number of years between when the company was founded and when it became a unicorn."
   ]
  },
  {
   "cell_type": "code",
   "execution_count": 5,
   "id": "1c271d3f",
   "metadata": {
    "executionInfo": {
     "elapsed": 34,
     "status": "ok",
     "timestamp": 1663034403457,
     "user": {
      "displayName": "Lavanya Vijayan",
      "userId": "01043085078394539645"
     },
     "user_tz": 420
    },
    "id": "3d495d71-39af-4d3f-80fd-0d0a22b01532"
   },
   "outputs": [],
   "source": [
    "# Create the column Years To Unicorn.\n",
    "\n",
    "companies['Years To Unicorn'] = companies['Date Joined'].dt.year - companies['Year Founded']"
   ]
  },
  {
   "cell_type": "markdown",
   "id": "53984cac",
   "metadata": {
    "id": "fb06c26b-70b7-4b05-9347-6675b8b329d3"
   },
   "source": [
    "**QUESTION: Why might my client be interested in how quickly a company achieved unicorn status?**\n",
    "\n",
    "Learning how quickly a company achieves unicorn status may reveal certain trends or commonalities. My client could leverage this information to find future companies to invest in."
   ]
  },
  {
   "cell_type": "markdown",
   "id": "2729490b",
   "metadata": {
    "id": "9fc9ddf1-ece0-40fb-9281-0808c193f5da",
    "tags": []
   },
   "source": [
    "### Input validation\n",
    "\n",
    "The data has some issues with bad data, duplicate rows, and inconsistent `Industry` labels.\n",
    "\n",
    "Identify and correct each of these issues."
   ]
  },
  {
   "cell_type": "markdown",
   "id": "99f78b54",
   "metadata": {
    "id": "db0651e7-36ef-4c10-a3ba-97373167da64",
    "tags": []
   },
   "source": [
    "Analyze the `Years To Unicorn` column and fix any issues with the data. Use your best judgement on the best approach to correct errors."
   ]
  },
  {
   "cell_type": "code",
   "execution_count": 6,
   "id": "bf814f9c",
   "metadata": {
    "colab": {
     "base_uri": "https://localhost:8080/"
    },
    "executionInfo": {
     "elapsed": 35,
     "status": "ok",
     "timestamp": 1663034403458,
     "user": {
      "displayName": "Lavanya Vijayan",
      "userId": "01043085078394539645"
     },
     "user_tz": 420
    },
    "id": "8b1b2ad0-a668-4290-9404-5a2541955c0d",
    "outputId": "215b8b2d-6d93-4358-f5a5-7009e3e4b0b5"
   },
   "outputs": [
    {
     "name": "stdout",
     "output_type": "stream",
     "text": [
      "Companies with a negative Years To Unicorn (before cleaning):\n",
      "['InVision']\n",
      "Companies with a negative Years To Unicorn (after cleaning):\n",
      "[]\n"
     ]
    }
   ],
   "source": [
    "# Identify and correct the issue with Years To Unicorn.\n",
    "\n",
    "print('Companies with a negative Years To Unicorn (before cleaning):')\n",
    "\n",
    "# Determine which companies have a negative years to unicorn\n",
    "print(companies[companies['Years To Unicorn'] < 0]['Company'].values)\n",
    "\n",
    "# Replacing the Year Founded for InVision with 2011 (which was determined from an internet search)\n",
    "companies.loc[companies['Company'] == 'InVision', 'Year Founded'] = 2011\n",
    "\n",
    "# Recalculating the Years to Unicorn column (to correct Invision's value)\n",
    "companies['Years To Unicorn'] = companies['Date Joined'].dt.year - companies['Year Founded']\n",
    "\n",
    "# Calculate which companies have a negative years to unicorn to ensure data was properly cleaned\n",
    "print('Companies with a negative Years To Unicorn (after cleaning):')\n",
    "print(companies[companies['Years To Unicorn'] < 0]['Company'].values)"
   ]
  },
  {
   "cell_type": "markdown",
   "id": "b11f56ee",
   "metadata": {
    "id": "8b325a5a-67d2-4f92-8159-a9f4c21b1779"
   },
   "source": [
    "The company provided you with the following list of industry labels to identify in the data for `Industry`. Note: Any industry labels that are in companies but not in industry_list are misspellings."
   ]
  },
  {
   "cell_type": "code",
   "execution_count": 7,
   "id": "a77050b7",
   "metadata": {
    "executionInfo": {
     "elapsed": 31,
     "status": "ok",
     "timestamp": 1663034403459,
     "user": {
      "displayName": "Lavanya Vijayan",
      "userId": "01043085078394539645"
     },
     "user_tz": 420
    },
    "id": "b02348fb-dde8-43e7-9368-4d771bf6e5a7"
   },
   "outputs": [],
   "source": [
    "# List provided by the company of the expected industry labels in the data\n",
    "industry_list = ['Artificial intelligence', 'Other','E-commerce & direct-to-consumer', 'Fintech',\\\n",
    "       'Internet software & services','Supply chain, logistics, & delivery', 'Consumer & retail',\\\n",
    "       'Data management & analytics', 'Edtech', 'Health', 'Hardware','Auto & transportation', \\\n",
    "        'Travel', 'Cybersecurity','Mobile & telecommunications']"
   ]
  },
  {
   "cell_type": "markdown",
   "id": "e91c03ea",
   "metadata": {
    "id": "739430f4-97ce-43d4-a982-3f75f3823702"
   },
   "source": [
    "Verify the industry labels provided by the business are the only possible values in `Industry`. If there are additional labels, correct the data so only the labels above are present in `Industry`."
   ]
  },
  {
   "cell_type": "code",
   "execution_count": 8,
   "id": "4d695803",
   "metadata": {
    "colab": {
     "base_uri": "https://localhost:8080/"
    },
    "executionInfo": {
     "elapsed": 31,
     "status": "ok",
     "timestamp": 1663034403461,
     "user": {
      "displayName": "Lavanya Vijayan",
      "userId": "01043085078394539645"
     },
     "user_tz": 420
    },
    "id": "6b89463a-6426-4797-a62e-b7b26f0b2f3b",
    "outputId": "53122f0a-f4b6-4561-9ab8-d080a9adba38"
   },
   "outputs": [
    {
     "name": "stdout",
     "output_type": "stream",
     "text": [
      "18\n",
      "15\n"
     ]
    }
   ],
   "source": [
    "# Correct misspelled Industry values in companies.\n",
    "\n",
    "# Print the number of unique industries before any corrections\n",
    "print(companies['Industry'].nunique())\n",
    "\n",
    "# Define a dictionary that maps the incorrect industry spellings to their correct industry spelling\n",
    "industry_dct = {'Artificial Intelligence':'Artificial intelligence',\n",
    "                'Data management and analytics':'Data management & analytics',\n",
    "                'FinTech':'Fintech'}\n",
    "\n",
    "# Rename the misspelled industry labels according to the dictionary defined above\n",
    "companies['Industry'] = companies['Industry'].replace(industry_dct)\n",
    "\n",
    "# Print the number of unique industries to validate only 15 are present\n",
    "print(companies['Industry'].nunique())"
   ]
  },
  {
   "cell_type": "markdown",
   "id": "ddd87a22",
   "metadata": {
    "id": "121e1b7c-845f-4cee-a973-aebd41411dd2"
   },
   "source": [
    "The business mentioned that no `Company` should appear in the data more than once. Verify that this is true, and, if not, clean the data so each `Company` appears only once."
   ]
  },
  {
   "cell_type": "code",
   "execution_count": 9,
   "id": "5816285d",
   "metadata": {
    "colab": {
     "base_uri": "https://localhost:8080/"
    },
    "executionInfo": {
     "elapsed": 29,
     "status": "ok",
     "timestamp": 1663034403462,
     "user": {
      "displayName": "Lavanya Vijayan",
      "userId": "01043085078394539645"
     },
     "user_tz": 420
    },
    "id": "0850371d-4cf8-4f06-9e41-b3baa842d86c",
    "outputId": "01cde742-850d-47ba-f0de-925ff1db64f7"
   },
   "outputs": [
    {
     "name": "stdout",
     "output_type": "stream",
     "text": [
      "Number of duplicated companies (before cleaning):\n",
      "3\n",
      "\n",
      "Number of duplicated companies (after cleaning):\n",
      "0\n"
     ]
    }
   ],
   "source": [
    "# Check and remove duplicate Company values in companies.\n",
    "\n",
    "# Calculate the number of duplicated companies before cleaning\n",
    "print('Number of duplicated companies (before cleaning):')\n",
    "print(companies['Company'].duplicated().sum())\n",
    "\n",
    "# Remove duplicate rows in the Company column\n",
    "companies.drop_duplicates(subset=['Company'], inplace = True)\n",
    "\n",
    "# Calculate the number of duplicated companies after cleaning\n",
    "print('')\n",
    "print('Number of duplicated companies (after cleaning):')\n",
    "print(companies['Company'].duplicated().sum())"
   ]
  },
  {
   "cell_type": "markdown",
   "id": "f7ade97a",
   "metadata": {
    "id": "adf88963-afa4-4d4d-a0f6-453eb3542bcb",
    "tags": []
   },
   "source": [
    "**Question: Why is it important to perform input validation?**\n",
    "\n",
    "Input validation is an essential practice for ensuring data is complete, error-free, and high quality. A low-quality dataset may lend itself to an analysis that is incorrect or misleading."
   ]
  },
  {
   "cell_type": "markdown",
   "id": "c8243c9d",
   "metadata": {
    "id": "2414c767-3950-4477-8822-59dfb82d8b1b"
   },
   "source": [
    "**Question: What steps did we take to perform input validation for this dataset?**\n",
    "\n",
    " The input validation steps for this lab included:\n",
    " \n",
    " * Fixing incorrect values\n",
    " * Correcting inconsistencies in the data\n",
    " * Removing duplicate data"
   ]
  },
  {
   "cell_type": "markdown",
   "id": "a8f53100",
   "metadata": {
    "id": "w_HtFyHrXVAc"
   },
   "source": [
    "### Change categorical data to numerical data\n",
    "\n",
    "Two common methods for changing categorical data to numerical are creating dummy variables and label encoding. There is no best method, as the decision on which method to use depends on the context and must be made on a case-to-case basis.\n",
    "\n",
    "Using what we've learned so far, apply the appropriate methods for converting the following variables to numeric: `Valuation`,  `Continent`, `Country/Region`, and `Industry`."
   ]
  },
  {
   "cell_type": "markdown",
   "id": "9cca66da",
   "metadata": {
    "id": "3c03f2b7-8262-4ea5-94dd-53ee5f219cc7"
   },
   "source": [
    "Create a 'simplified' representation of `Valuation` with two categories: one that denotes if the `Valuation` was in the top 50% of valuations in the data and one if it was not."
   ]
  },
  {
   "cell_type": "code",
   "execution_count": 10,
   "id": "f46c2508",
   "metadata": {
    "executionInfo": {
     "elapsed": 26,
     "status": "ok",
     "timestamp": 1663034403463,
     "user": {
      "displayName": "Lavanya Vijayan",
      "userId": "01043085078394539645"
     },
     "user_tz": 420
    },
    "id": "646aaace-82a5-4b73-822a-27475822de4a"
   },
   "outputs": [],
   "source": [
    "# Convert Valuation to numeric.\n",
    "\n",
    "# Use qcut to divide Valuation into 'high' and 'low' Valuation groups\n",
    "companies['High Valuation'] = pd.qcut(companies['Valuation'], 2, labels = ['No','Yes'])\n",
    "\n",
    "# Convert High Valuation to numeric\n",
    "companies['High Valuation'] = companies['High Valuation'].cat.codes"
   ]
  },
  {
   "cell_type": "markdown",
   "id": "1b88b7cd",
   "metadata": {
    "id": "6f5107f1-3694-4296-b857-b1e44ce2b09b"
   },
   "source": [
    "### Convert `Continent` to numeric"
   ]
  },
  {
   "cell_type": "code",
   "execution_count": 11,
   "id": "8b6d7a12",
   "metadata": {
    "executionInfo": {
     "elapsed": 26,
     "status": "ok",
     "timestamp": 1663034403463,
     "user": {
      "displayName": "Lavanya Vijayan",
      "userId": "01043085078394539645"
     },
     "user_tz": 420
    },
    "id": "bbd72ed4-5cac-41f7-a816-3a4d28e34eb4"
   },
   "outputs": [],
   "source": [
    "# Convert Continent to numeric data.\n",
    "\n",
    "# Create dummy variables with Continent values\n",
    "continents_encoded = pd.get_dummies(companies['Continent'], drop_first = True)\n",
    "\n",
    "# Add DataFrame with dummy Continent labels back to companies data.\n",
    "companies = pd.concat([companies, continents_encoded], axis=1)"
   ]
  },
  {
   "cell_type": "markdown",
   "id": "ea79475a",
   "metadata": {
    "id": "2c95b77d-7cda-46ba-975f-8632aaa6158d",
    "tags": []
   },
   "source": [
    "### Convert `Country/Region` to numeric"
   ]
  },
  {
   "cell_type": "code",
   "execution_count": 12,
   "id": "d3f30bfd",
   "metadata": {
    "executionInfo": {
     "elapsed": 26,
     "status": "ok",
     "timestamp": 1663034403465,
     "user": {
      "displayName": "Lavanya Vijayan",
      "userId": "01043085078394539645"
     },
     "user_tz": 420
    },
    "id": "c3bd716a-7845-4c3c-988c-3b227c10e036"
   },
   "outputs": [],
   "source": [
    "# Convert Country/Region to numeric data.\n",
    "\n",
    "# Create numeric categoriews for Country/Region\n",
    "companies['Country/Region'] = companies['Country/Region'].astype('category').cat.codes"
   ]
  },
  {
   "cell_type": "markdown",
   "id": "d541e11a",
   "metadata": {
    "id": "2eeff065-469f-4a43-bf2a-87920c4d7bc0"
   },
   "source": [
    "### Convert `Industry` to numeric"
   ]
  },
  {
   "cell_type": "code",
   "execution_count": 13,
   "id": "5d8e89f6",
   "metadata": {
    "executionInfo": {
     "elapsed": 27,
     "status": "ok",
     "timestamp": 1663034403466,
     "user": {
      "displayName": "Lavanya Vijayan",
      "userId": "01043085078394539645"
     },
     "user_tz": 420
    },
    "id": "4bca4703-9f76-4b59-bc5e-df0097e44b4a"
   },
   "outputs": [],
   "source": [
    "# Convert Industry to numeric data.\n",
    "\n",
    "# Create dummy variables with Industry values\n",
    "industry_encoded = pd.get_dummies(companies['Industry'], drop_first = True)\n",
    "\n",
    "# Add DataFrame with dummy Industry labels back to companies data.\n",
    "companies = pd.concat([companies, industry_encoded], axis=1)"
   ]
  },
  {
   "cell_type": "markdown",
   "id": "5efc3fc6",
   "metadata": {
    "id": "f7edb136-45f0-4ff1-84d7-ff6bcc29dd43"
   },
   "source": [
    "**Question: Which categorical encoding approach did you use for each variable? Why?**\n",
    "\n",
    "* `Valuation` - Label encoding was used because the labels are ordered.\n",
    "* `Continent` - One hot encoding was used because there are few labels and they are not ordered.\n",
    "* `Country/Region` - Label encoding was used because there are many labels, although they are not ordered.\n",
    "* `Industry` - One hot encoding was used because there are few labels and they are not ordered."
   ]
  },
  {
   "cell_type": "markdown",
   "id": "d6e4a62f",
   "metadata": {
    "id": "c38f5e8d-89fa-4eaf-acd3-4841583e427c",
    "tags": []
   },
   "source": [
    "### Convert the top three unicorn investors to numeric"
   ]
  },
  {
   "cell_type": "markdown",
   "id": "0e15fe13",
   "metadata": {
    "id": "adaf651d-dc84-40de-a37c-c819ac578d04"
   },
   "source": [
    "Create three dummy variables (one for each investor) that denotes if the following investors are included as `Select Investors`: Sequoia Capital, Tiger Global Management, and Accel.\n",
    "\n",
    "For the purpose of this lab, these investors are called the 'Big 3' unicorn investment groups."
   ]
  },
  {
   "cell_type": "code",
   "execution_count": 14,
   "id": "bfd1e978",
   "metadata": {
    "executionInfo": {
     "elapsed": 27,
     "status": "ok",
     "timestamp": 1663034403467,
     "user": {
      "displayName": "Lavanya Vijayan",
      "userId": "01043085078394539645"
     },
     "user_tz": 420
    },
    "id": "cf813c00-bc6e-4fb0-85b3-c6aa321872ab"
   },
   "outputs": [],
   "source": [
    "# Create a dummy variable that denotes if Sequoia Capital is a Select Investor.\n",
    "\n",
    "companies['Sequoia Capital'] = companies['Select Investors'].str.contains('Sequoia Capital')\n",
    "companies['Sequoia Capital'] = companies['Sequoia Capital'].astype(int)"
   ]
  },
  {
   "cell_type": "code",
   "execution_count": 15,
   "id": "8f8d4a11",
   "metadata": {
    "executionInfo": {
     "elapsed": 25,
     "status": "ok",
     "timestamp": 1663034403467,
     "user": {
      "displayName": "Lavanya Vijayan",
      "userId": "01043085078394539645"
     },
     "user_tz": 420
    },
    "id": "e9fc1988-e2c7-4622-85b9-551e7fe4e0b5"
   },
   "outputs": [],
   "source": [
    "# Create a dummy variable that denotes if Tiger Global Management is a Select Investor.\n",
    "\n",
    "companies['Tiger Global Management'] = companies['Select Investors'].str.contains('Tiger Global Management')\n",
    "companies['Tiger Global Management'] = companies['Tiger Global Management'].astype(int)"
   ]
  },
  {
   "cell_type": "code",
   "execution_count": 16,
   "id": "104e5668",
   "metadata": {
    "executionInfo": {
     "elapsed": 25,
     "status": "ok",
     "timestamp": 1663034403468,
     "user": {
      "displayName": "Lavanya Vijayan",
      "userId": "01043085078394539645"
     },
     "user_tz": 420
    },
    "id": "833bbf0b-0419-42f0-b49b-5703d43b656b"
   },
   "outputs": [],
   "source": [
    "# Create a dummy variable that denotes if Accel is a Select Investor.\n",
    "\n",
    "companies['Accel'] = companies['Select Investors'].str.contains('Accel')\n",
    "companies['Accel'] = companies['Accel'].astype(int)"
   ]
  },
  {
   "cell_type": "markdown",
   "id": "861756e3",
   "metadata": {
    "id": "134ad302-4b98-4ae4-881f-3938734ccb64"
   },
   "source": [
    "**Question: How does label encoding change the data?**\n",
    "\n",
    "Label encoding changes the data by assigning each category a unique number instead of a qualitative value. "
   ]
  },
  {
   "cell_type": "markdown",
   "id": "f7c09595",
   "metadata": {
    "id": "93504377-6ae2-444c-8bc6-4930784f8714"
   },
   "source": [
    "**Question: What are the benefits of label encoding?**\n",
    "\n",
    "Label encoding is effective when there are a large number of categorical variables and when the variables have a particular order. It is useful in machine learning models, such as decision trees and random forests."
   ]
  },
  {
   "cell_type": "markdown",
   "id": "445cfcb9",
   "metadata": {
    "id": "493fead8-2986-420e-a1ed-ad9b2109ef0a"
   },
   "source": [
    "**Question: What are the disadvantages of label encoding?**\n",
    "\n",
    "Label encoding may make it more difficult to directly interpet what a column value represents. Further, it may introduce an unintended relationship between the categorical data in a dataset."
   ]
  },
  {
   "cell_type": "markdown",
   "id": "53487a21",
   "metadata": {
    "id": "70f7857a-82b7-4f74-b8cb-09aa3f44022d"
   },
   "source": [
    "## Step 3: Model building"
   ]
  },
  {
   "cell_type": "markdown",
   "id": "6760e2d1",
   "metadata": {
    "id": "7402a259-e41c-4892-8660-5cef8e6a5b39"
   },
   "source": [
    "Create three bar plots to visualize the distribution of investments by industry for the following unicorn investors: Sequoia Capital, Tiger Global Management, and Accel."
   ]
  },
  {
   "cell_type": "code",
   "execution_count": 17,
   "id": "f4fc7a96",
   "metadata": {
    "colab": {
     "base_uri": "https://localhost:8080/",
     "height": 357
    },
    "executionInfo": {
     "elapsed": 627,
     "status": "ok",
     "timestamp": 1663034404070,
     "user": {
      "displayName": "Lavanya Vijayan",
      "userId": "01043085078394539645"
     },
     "user_tz": 420
    },
    "id": "2aa9954e-ae9a-4922-a047-af96b0c6becc",
    "outputId": "a5355ae8-30ad-422e-fca1-9a7d2e418cc4"
   },
   "outputs": [
    {
     "data": {
      "image/png": "[encoded data removed]",
      "text/plain": [
       "<Figure size 1152x360 with 3 Axes>"
      ]
     },
     "metadata": {
      "needs_background": "light"
     },
     "output_type": "display_data"
    }
   ],
   "source": [
    "# Create 3 bar plots for the distribution of investments by industry for each top unicorn investors.\n",
    "\n",
    "# Create a 1x3 plot figure\n",
    "fig, axes = plt.subplots(1, 3, figsize = (16,5))\n",
    "\n",
    "# Setting a variable to count which axis the plot should go on\n",
    "idx = 0\n",
    "\n",
    "# Loop through a list of the three top unicorn investors\n",
    "for c in ['Sequoia Capital', 'Tiger Global Management','Accel']:\n",
    "    \n",
    "    # Compute the number of companies invested in in each industry by c\n",
    "    companies_sample = companies[companies[c] == 1]\n",
    "    \n",
    "    # Calculate the distribution of Industry\n",
    "    companies_sample = companies_sample['Industry'].value_counts()\n",
    "\n",
    "    # Create a bar plot\n",
    "    sns.barplot(\n",
    "        x=companies_sample.index, \n",
    "        y=companies_sample.values, \n",
    "        ax=axes[idx])\n",
    "\n",
    "    # Set title\n",
    "    axes[idx].set_title(c)\n",
    "\n",
    "    # Set x-axis label\n",
    "    axes[idx].set_xlabel(\"Industry\")\n",
    "\n",
    "    # Set y-axis label\n",
    "    axes[idx].set_ylabel(\"Number of invested companies\")\n",
    "\n",
    "    # Rotate labels on the x-axis\n",
    "    axes[idx].set_xticklabels(companies_sample.index, rotation=90);\n",
    "\n",
    "    # Add 1 to idx so on the next loop it changes to the next plot\n",
    "    idx +=1\n",
    "\n",
    "# Set the title of the whole plot\n",
    "plt.suptitle('Distribution of Investments by Largest Unicorn Investors', fontsize = 14);"
   ]
  },
  {
   "cell_type": "markdown",
   "id": "6c36ea81",
   "metadata": {
    "id": "b5df84d1-7c1e-4e74-8bce-ddda54889a94"
   },
   "source": [
    "**Question: What do we notice about the industries invested in by each top unicorn investor?**\n",
    "\n",
    "The three industries most commonly invested in by the top unicorn investors are: internet software and services, fintech, and e-commerce and direct-to-consumer.\n",
    "\n",
    "Other insights include:\n",
    "* Sequoia Capital is the only top unicorn investor to invest in travel unicorns.\n",
    "* Tiger Global Management is the only top unicorn investor to not invest in supply chain and logistics.\n",
    "* Accel has invested in more cybersecurity unicorns than Sequoia Capital and Tiger Global Management."
   ]
  },
  {
   "cell_type": "markdown",
   "id": "7b9e99fd",
   "metadata": {
    "id": "65c0c8cb-2d2e-4353-bd55-b7193fb02b5c"
   },
   "source": [
    "### Continents \n",
    "\n",
    "Create a visualization that shows the continents of the unicorns invested in by the top three unicorn investors."
   ]
  },
  {
   "cell_type": "code",
   "execution_count": 18,
   "id": "4a7b3f25",
   "metadata": {
    "colab": {
     "base_uri": "https://localhost:8080/",
     "height": 286
    },
    "executionInfo": {
     "elapsed": 638,
     "status": "ok",
     "timestamp": 1663034404702,
     "user": {
      "displayName": "Lavanya Vijayan",
      "userId": "01043085078394539645"
     },
     "user_tz": 420
    },
    "id": "ea264ea5-4ad5-4790-84a7-2eade806e3e2",
    "outputId": "89309a27-69ae-4315-9ad7-12ae54632b9b"
   },
   "outputs": [
    {
     "data": {
      "image/png": "[encoded data removed]",
      "text/plain": [
       "<Figure size 1152x360 with 3 Axes>"
      ]
     },
     "metadata": {
      "needs_background": "light"
     },
     "output_type": "display_data"
    }
   ],
   "source": [
    "# Visualize the continents invested in by the top three unicorn investors.\n",
    "\n",
    "# Create a 1x3 plot figure\n",
    "fig, axes = plt.subplots(1, 3, figsize = (16,5))\n",
    "\n",
    "# Setting a variable to count which axis the plot should go on\n",
    "idx = 0\n",
    "\n",
    "# Loop through a list of the three top unicorn investors\n",
    "for c in ['Sequoia Capital', 'Tiger Global Management', 'Accel']:\n",
    "    \n",
    "    # Compute the number of companies invested in in each industry by c\n",
    "    companies_sample = companies[companies[c] == 1]\n",
    "    \n",
    "    # Calculate the distribution of Continent\n",
    "    companies_sample = companies_sample['Continent'].value_counts()\n",
    "    \n",
    "    # Add Oceania as index with value 0 if not present in companies_sample\n",
    "    if 'Oceania' not in companies_sample.index:\n",
    "        companies_sample['Oceania'] = 0\n",
    "        \n",
    "    # Add Africa as index with value 0 if not present companies_sample\n",
    "    if 'Africa' not in companies_sample.index:\n",
    "        companies_sample['Africa'] = 0\n",
    "        \n",
    "    # Sort the index so the x axis for all plot is in alphabetical order\n",
    "    companies_sample = companies_sample.sort_index()\n",
    "    \n",
    "    # Create a bar plot\n",
    "    sns.barplot(\n",
    "        x=companies_sample.index, \n",
    "        y=companies_sample.values, \n",
    "        ax=axes[idx])\n",
    "\n",
    "    # Set title\n",
    "    axes[idx].set_title(c)\n",
    "\n",
    "    # Set y range so all plots have same range\n",
    "    axes[idx].set(ylim=(0, 80))\n",
    "\n",
    "    # Set y-axis label\n",
    "    axes[idx].set_ylabel(\"Number of invested companies\")\n",
    "\n",
    "    # Rotate labels on the x-axis\n",
    "    axes[idx].set_xticklabels(companies_sample.index, rotation=90);\n",
    "\n",
    "    # Add 1 to idx so on the next loop it changes ot the next plot\n",
    "    idx +=1\n",
    "\n",
    "# Set the title of the whole plot\n",
    "plt.suptitle('Location of Investments by Largest Unicorn Investors', fontsize = 14);"
   ]
  },
  {
   "cell_type": "markdown",
   "id": "42da6594",
   "metadata": {
    "id": "6847a0fb-13be-4add-a8b6-e317dd57d886"
   },
   "source": [
    "**Question: What do we notice about the continents invested in by each top unicorn investor?**\n",
    "\n",
    "Sequoia Capital has a much stronger focus on unicorn companies in Asia than the other investors. The majority of unicorns invested in by Tiger Global Management and Accel are in North America.\n",
    "\n",
    "Sequoia Capital is the only investor that invested in a unicorn company in Africa. Accel is the only investor to not have any unicorn company investments in Oceania."
   ]
  },
  {
   "cell_type": "markdown",
   "id": "10760197",
   "metadata": {
    "id": "gq9Syq-Cq1zb"
   },
   "source": [
    "## Step 4: Results and evaluation"
   ]
  },
  {
   "cell_type": "markdown",
   "id": "5271f350",
   "metadata": {
    "id": "72d25c77-d9db-4968-9fe2-d9db8804ba53"
   },
   "source": [
    "My client wants to know if there are particular investment strategies for the three large unicorn investors: Sequoia Capital, Tiger Global Management, and Accel. Therefore, consider how we would present the findings and whether the business will find that information insightful."
   ]
  },
  {
   "cell_type": "markdown",
   "id": "06240ab0",
   "metadata": {
    "id": "e62f9055-2005-41fd-a885-b7a5900c50e2"
   },
   "source": [
    "### Calculate the average `Years to Unicorn` "
   ]
  },
  {
   "cell_type": "code",
   "execution_count": 19,
   "id": "fa704d15",
   "metadata": {
    "colab": {
     "base_uri": "https://localhost:8080/"
    },
    "executionInfo": {
     "elapsed": 22,
     "status": "ok",
     "timestamp": 1663034404703,
     "user": {
      "displayName": "Lavanya Vijayan",
      "userId": "01043085078394539645"
     },
     "user_tz": 420
    },
    "id": "b5e6b9c9-7187-4a50-ae41-788054a4e742",
    "outputId": "19f384f3-7c02-4c09-f9c5-72b2e398a347"
   },
   "outputs": [
    {
     "name": "stdout",
     "output_type": "stream",
     "text": [
      "Mean Years to Unicorn for Sequoia Capital:\n",
      "6.570247933884297\n",
      "Mean Years to Unicorn for Tiger Global Management:\n",
      "7.264150943396227\n",
      "Mean Years to Unicorn for Accel:\n",
      "6.895522388059701\n"
     ]
    }
   ],
   "source": [
    "# Compute the mean Years to Unicorn for unicorn companies invested in by Sequoia Capital.\n",
    "\n",
    "print('Mean Years to Unicorn for Sequoia Capital:')\n",
    "print(companies[companies['Sequoia Capital']==1]['Years To Unicorn'].mean())\n",
    "\n",
    "\n",
    "# Compute the mean Years to Unicorn for unicorn companies invested in by Tiger Global Management.\n",
    "\n",
    "print('Mean Years to Unicorn for Tiger Global Management:')\n",
    "print(companies[companies['Tiger Global Management']==1]['Years To Unicorn'].mean())\n",
    "\n",
    "\n",
    "# Compute the mean Years to Unicorn for unicorn companies invested in by Accel.\n",
    "\n",
    "print('Mean Years to Unicorn for Accel:')\n",
    "print(companies[companies['Accel']==1]['Years To Unicorn'].mean())"
   ]
  },
  {
   "cell_type": "markdown",
   "id": "f205890d",
   "metadata": {
    "id": "K_JsHyxnYlpq"
   },
   "source": [
    "**Question: Of the three top unicorn investors, which has the shortest average `Years to Unicorn`?**\n",
    "\n",
    "On average, the companies invested in by Sequoia Capital reached unicorn status faster than those invested in by Tiger Global Management and Accel. They average 6.6 years between founding and reaching unicorn status."
   ]
  },
  {
   "cell_type": "markdown",
   "id": "c59ed1a0",
   "metadata": {
    "id": "96b5ed0b-c40f-48e2-aedc-520b513f9202"
   },
   "source": [
    "### Find the three companies with the highest `Valuation` "
   ]
  },
  {
   "cell_type": "code",
   "execution_count": 20,
   "id": "0873151e",
   "metadata": {
    "colab": {
     "base_uri": "https://localhost:8080/"
    },
    "executionInfo": {
     "elapsed": 20,
     "status": "ok",
     "timestamp": 1663034404703,
     "user": {
      "displayName": "Lavanya Vijayan",
      "userId": "01043085078394539645"
     },
     "user_tz": 420
    },
    "id": "a129cab1-8f14-4ab2-b2ee-0e452a3d22ed",
    "outputId": "417dd061-6c41-4559-a9b5-76f8a2da66cf"
   },
   "outputs": [
    {
     "name": "stdout",
     "output_type": "stream",
     "text": [
      "Highest valued unicorns invested in by Sequoia Capital:\n",
      "['Bytedance' 'SHEIN' 'Klarna']\n",
      "Highest valued unicorns invested in by Tiger Global Management:\n",
      "['SHEIN' 'Checkout.com' 'JUUL Labs']\n",
      "Highest valued unicorns invested in by Accel:\n",
      "['Miro' 'goPuff' 'Celonis']\n"
     ]
    }
   ],
   "source": [
    "# Sort companies by Valuation in descending order\n",
    "\n",
    "companies = companies.sort_values(by = 'Valuation', ascending=False)\n",
    "\n",
    "\n",
    "# Calculate the 3 companies with the highest valuation invested in by Sequoia Capital.\n",
    "\n",
    "print('Highest valued unicorns invested in by Sequoia Capital:')\n",
    "\n",
    "print(companies[companies['Sequoia Capital']==1]['Company'].values[:3])\n",
    "\n",
    "\n",
    "# Calculate the 3 companies with the highest valuation invested in by Tiger Global Management. \n",
    "\n",
    "print('Highest valued unicorns invested in by Tiger Global Management:')\n",
    "\n",
    "print(companies[companies['Tiger Global Management']==1]['Company'].values[:3])\n",
    "\n",
    "\n",
    "# Calculate the 3 companies with the highest valuation invested in by Accel. \n",
    "\n",
    "print('Highest valued unicorns invested in by Accel:')\n",
    "\n",
    "print(companies[companies['Accel']==1]['Company'].values[:3])"
   ]
  },
  {
   "cell_type": "markdown",
   "id": "f6ecf3e0",
   "metadata": {
    "id": "XadS_M07ajfF"
   },
   "source": [
    "**Question: What are the three companies with the highest `Valuation` invested in by each of the top three unicorn investors?**\n",
    "\n",
    "The investments with the highest valuation by Sequoia Capital are Bytedance, SHEIN, and Klarna. The investments with the highest valuation by Tiger Global Management are SHEIN, Checkout.com, and JUUL Labs. The investments with the highest valuation by Accel are Miro, goPuff, and Celonis."
   ]
  },
  {
   "cell_type": "markdown",
   "id": "054e048c",
   "metadata": {
    "id": "407f9e5e-77ae-4d10-b3f7-e12e4758b785"
   },
   "source": [
    "**Question: Why might it be helpful to provide the business with examples of the unicorns invested in by the top three unicorn investors?**\n",
    "\n",
    "It will help them gain context for the types of companies the top unicorn investment firms invest in."
   ]
  },
  {
   "cell_type": "markdown",
   "id": "a7bf6e17",
   "metadata": {
    "id": "4209cfdb-fa51-473c-bbc3-0e425c3644f9"
   },
   "source": [
    "### Determine if the three companies invest simultaneously"
   ]
  },
  {
   "cell_type": "code",
   "execution_count": 21,
   "id": "ba92d386",
   "metadata": {
    "colab": {
     "base_uri": "https://localhost:8080/"
    },
    "executionInfo": {
     "elapsed": 16,
     "status": "ok",
     "timestamp": 1663034404704,
     "user": {
      "displayName": "Lavanya Vijayan",
      "userId": "01043085078394539645"
     },
     "user_tz": 420
    },
    "id": "90eec42c-9c4f-4215-bbda-e367a619b2be",
    "outputId": "324fae35-a846-4c2a-d5eb-0d6f9c0cdda1"
   },
   "outputs": [
    {
     "name": "stdout",
     "output_type": "stream",
     "text": [
      "Number of unicorns with two or more of the Big 3 Investors: \n",
      "18\n",
      "Companies\n",
      "['SHEIN' 'Getir' 'Razorpay' 'DJI Innovations' 'Ola Cabs' 'CRED'\n",
      " 'ChargeBee Technologies' 'Ironclad' 'Groww' 'Infra.Market' 'Ethos'\n",
      " 'Zetwerk' 'CoinSwitch Kuber' 'Veriff' 'Zenoti' 'Vedantu'\n",
      " 'Five Star Business Finance' 'CaptivateIQ']\n"
     ]
    }
   ],
   "source": [
    "# Find companies invested in by two or more top unicorn investors.\n",
    "# Create a new column that counts the number of investments by the top three unicorn investors\n",
    "companies['Big 3 Investors'] = companies['Sequoia Capital'] + companies['Tiger Global Management'] + companies['Accel']\n",
    "\n",
    "# Create a new DataFrame that only includes companies with 2 or more investments by the top three unicorn investors\n",
    "top_companies = companies[companies['Big 3 Investors'] >= 2]\n",
    "\n",
    "# Create a list of the companies in top_companies\n",
    "top_companies_list = companies[companies['Big 3 Investors'] >= 2]['Company'].values\n",
    "\n",
    "# Display the results\n",
    "print('Number of unicorns with two or more of the Big 3 Investors: ')\n",
    "print(len(top_companies_list))\n",
    "\n",
    "print('Companies')\n",
    "print(top_companies_list)"
   ]
  },
  {
   "cell_type": "markdown",
   "id": "833636d7",
   "metadata": {
    "id": "bMsZykuiZDWW"
   },
   "source": [
    "**Question: Do the top three investors invest in the same unicorn companies? If so, how often?**\n",
    "\n",
    "There are 18 companies invested in by two of three unicorn investment firms at any given time: SHEIN, Getir, and Razorpay."
   ]
  },
  {
   "cell_type": "markdown",
   "id": "3a540f01",
   "metadata": {
    "id": "c77e7f0f-d2b9-4464-8a7c-9575d1e1ef9f"
   },
   "source": [
    "## Conclusion\n",
    "\n",
    "**What are some key takeaways that you learned during this lab?**\n",
    "\n",
    "* Input validation is essential for ensuring data is high quality and error-free.\n",
    "* In practice, input validation requires trial and error to identify issues and determine the best way to fix them.\n",
    "* There are benefits and disadvantages to both label encoding and one hot encoding.\n",
    "* The decision to use label encoding versus one hot encoding needs to be made on a case-by-case basis.\n",
    "\n",
    "**What summary would you provide to stakeholders? Consider industries represented, locations, speed to unicorn status, simultaneous investments, and overall value.**\n",
    "\n",
    "* Sequoia Capital, Tiger Global Management, and Accel invest in several industries, but the majority of investments are in internet software and services, fintech, and e-commerce and direct-to-consumer companies.\n",
    "* Sequoia Capital has a stronger focus on unicorn companies in Asia than the other top unicorn investors. The majority of unicorns invested in by Tiger Global Management and Accel are in North America.\n",
    "* The companies invested in by Sequoia Capital reached unicorn status faster than those invested in by Tiger Global Management and Accel, at an average of 6.6 years between founding and reaching unicorn status.\n",
    "* There are 18 companies invested in simultaneously by two of the top three unicorn investment firms.\n",
    "* The highest-valued unicorns invested in by Sequoia Capital are Bytedance, SHEIN, and Klarna. The highest-valued unicorns invested in by Tiger Global Management are SHEIN, Checkout.com, and JUUL Labs. The highest-valued unicorns invested in by Accel are Miro, goPuff, and Celonis.\n",
    " \n",
    "\n"
   ]
  },
  {
   "cell_type": "markdown",
   "id": "85fad5ef",
   "metadata": {
    "id": "R9sAADZgr-YI"
   },
   "source": [
    "**Reference**\n",
    "\n",
    "[Bhat, M.A. *Unicorn Companies*](https://www.kaggle.com/datasets/mysarahmadbhat/unicorn-companies)\n",
    "\n"
   ]
  }
 ],
 "metadata": {
  "colab": {
   "collapsed_sections": [],
   "provenance": []
  },
  "kernelspec": {
   "display_name": "Python 3 (ipykernel)",
   "language": "python",
   "name": "python3"
  },
  "language_info": {
   "codemirror_mode": {
    "name": "ipython",
    "version": 3
   },
   "file_extension": ".py",
   "mimetype": "text/x-python",
   "name": "python",
   "nbconvert_exporter": "python",
   "pygments_lexer": "ipython3",
   "version": "3.9.12"
  },
  "toc-autonumbering": false,
  "toc-showtags": false
 },
 "nbformat": 4,
 "nbformat_minor": 5
}
