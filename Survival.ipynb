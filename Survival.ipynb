{
  "cells": [
    {
      "cell_type": "markdown",
      "metadata": {
        "run_control": {
          "marked": true
        },
        "id": "IKJK-h5Jpz3j"
      },
      "source": [
        "# **Survival Analysis of Customer Churn: Estimating Time-to-Event with Kaplan-Meier and Cox Proportional Hazards Models**\n",
        "\n",
        "## Survival Modeling"
      ]
    },
    {
      "cell_type": "markdown",
      "source": [
        "## Introduction: Survival Analysis for Customer Churn Modeling\n",
        "\n",
        "Customer retention has emerged as a central focus in modern business strategy, particularly in subscription-based and service-oriented industries where long-term engagement is directly tied to revenue continuity and profitability. While traditional churn prediction methods often approach the problem as a binary classification task, this paradigm fails to capture the temporal dimension of churn the duration until a customer leaves. Survival analysis provides a robust statistical framework for modeling such time-to-event outcomes, explicitly incorporating the effect of censored observations and offering tools to estimate hazard and survival functions.\n",
        "\n",
        "Survival models are particularly well-suited for settings where not all events are observed within the study period. In the context of customer churn, censoring occurs when a customer remains active at the time of data collection, rendering their true churn time unknown. Ignoring this censoring can introduce significant bias in churn prediction models. By using survival analysis, we can derive meaningful inferences about both the likelihood and timing of churn, as well as the influence of explanatory variables on these outcomes.\n",
        "\n",
        "This project adopts a survival analysis approach to investigate customer longevity using a structured customer dataset comprising tenure information (`months`), churn status (`churn_value`), and several service and demographic features. The analysis proceeds in two main stages:\n",
        "\n",
        "1. **Non-parametric estimation using the Kaplan-Meier method**:\n",
        "\n",
        "   The Kaplan-Meier estimator provides an empirical estimate of the survival function, representing the probability that a customer will remain subscribed beyond a given duration. This technique does not assume any specific functional form for the hazard rate, making it suitable for exploratory data analysis. We visualize and compare Kaplan-Meier curves across subgroups, such as customers with single versus multiple service subscriptions, to identify retention disparities.\n",
        "\n",
        "2. **Semi-parametric modeling using the Cox Proportional Hazards model**:\n",
        "\n",
        "   The Cox model extends the analysis by quantifying the effect of covariates on the hazard function. It assumes proportional hazards that is, the hazard ratio between any two individuals is constant over time allowing us to interpret the influence of individual features while preserving flexibility in the baseline hazard. Covariates such as number of services, contract type, and monthly charges are incorporated to assess their relationship with the risk of churn. Model diagnostics are conducted to evaluate the proportional hazards assumption and detect potential interactions or non-linear effects.\n",
        "\n",
        "Through this framework, we address key analytical objectives:\n",
        "\n",
        "(i) estimating the expected tenure of customers\n",
        "\n",
        "(ii) identifying segments with elevated churn risk\n",
        "\n",
        "(iii) quantifying the marginal effect of behavioral and service-related features on churn propensity. This study not only facilitates a deeper understanding of temporal churn dynamics but also provides actionable insights for designing targeted retention strategies, improving customer lifetime value estimation, and enhancing overall customer experience management.\n",
        "\n",
        "By adopting a survival analysis methodology, we bridge the gap between predictive modeling and time-to-event forecasting in customer analytics. This project thus contributes both methodologically and practically to the field of customer retention modeling in data-driven businesses.\n",
        "\n"
      ],
      "metadata": {
        "id": "l7BlyIAktgSm"
      }
    },
    {
      "cell_type": "markdown",
      "metadata": {
        "nbpresent": {
          "id": "3ed72d58-7719-40d6-a229-73778f445d4a"
        },
        "id": "9vBM6plBpz3k"
      },
      "source": [
        "## Learning Outcomes\n",
        "\n",
        "You should walk away from this demonstration with:\n",
        "\n",
        "1. An understanding of how to approach Survival Analysis.\n",
        "2. Knowing how to prepare Kaplan-Meier curves for various subgroups.\n",
        "3. Run a basic Cox survival regression\n",
        "\n",
        "__Installation notes:__\n",
        "This demo uses Python's [lifelines](https://lifelines.readthedocs.io/en/latest/) package. It can be installed using the following command:\n",
        "\n",
        "```conda install -c conda-forge lifelines```\n",
        "\n"
      ]
    },
    {
      "cell_type": "code",
      "execution_count": null,
      "metadata": {
        "id": "i1W98L7rpz3k"
      },
      "outputs": [],
      "source": [
        "# Setup\n",
        "import pandas as pd\n",
        "import matplotlib.pyplot as plt\n",
        "import seaborn as sns\n",
        "from lifelines import KaplanMeierFitter, CoxPHFitter\n",
        "import warnings\n",
        "import os\n",
        "os.chdir('data')\n",
        "from colorsetup import colors, palette\n",
        "sns.set_palette(palette)"
      ]
    },
    {
      "cell_type": "markdown",
      "metadata": {
        "id": "6utrBXYTpz3l"
      },
      "source": [
        "---"
      ]
    },
    {
      "cell_type": "markdown",
      "metadata": {
        "id": "ovsmTSkmpz3l"
      },
      "source": [
        "# Section 1: Import and Explore Relevant Data\n",
        "\n",
        "We will use the Churn Dataset described in the lecture for this demonstration. Let's start by reading in the data:"
      ]
    },
    {
      "cell_type": "code",
      "execution_count": null,
      "metadata": {
        "nbpresent": {
          "id": "d2e075c0-fccd-4d2c-ba33-1ca65629bd24"
        },
        "id": "dDEhT4b6pz3l",
        "outputId": "d16ffebb-e676-41e7-a964-6375b6251125"
      },
      "outputs": [
        {
          "data": {
            "text/html": [
              "<div>\n",
              "<style scoped>\n",
              "    .dataframe tbody tr th:only-of-type {\n",
              "        vertical-align: middle;\n",
              "    }\n",
              "\n",
              "    .dataframe tbody tr th {\n",
              "        vertical-align: top;\n",
              "    }\n",
              "\n",
              "    .dataframe thead th {\n",
              "        text-align: right;\n",
              "    }\n",
              "</style>\n",
              "<table border=\"1\" class=\"dataframe\">\n",
              "  <thead>\n",
              "    <tr style=\"text-align: right;\">\n",
              "      <th></th>\n",
              "      <th>id</th>\n",
              "      <th>months</th>\n",
              "      <th>offer</th>\n",
              "      <th>phone</th>\n",
              "      <th>multiple</th>\n",
              "      <th>internet_type</th>\n",
              "      <th>gb_mon</th>\n",
              "      <th>security</th>\n",
              "      <th>backup</th>\n",
              "      <th>protection</th>\n",
              "      <th>...</th>\n",
              "      <th>unlimited</th>\n",
              "      <th>contract</th>\n",
              "      <th>paperless</th>\n",
              "      <th>payment</th>\n",
              "      <th>monthly</th>\n",
              "      <th>total_revenue</th>\n",
              "      <th>satisfaction</th>\n",
              "      <th>churn_value</th>\n",
              "      <th>churn_score</th>\n",
              "      <th>cltv</th>\n",
              "    </tr>\n",
              "  </thead>\n",
              "  <tbody>\n",
              "    <tr>\n",
              "      <th>0</th>\n",
              "      <td>8779-QRDMV</td>\n",
              "      <td>1</td>\n",
              "      <td>None</td>\n",
              "      <td>No</td>\n",
              "      <td>No</td>\n",
              "      <td>DSL</td>\n",
              "      <td>8</td>\n",
              "      <td>No</td>\n",
              "      <td>No</td>\n",
              "      <td>Yes</td>\n",
              "      <td>...</td>\n",
              "      <td>No</td>\n",
              "      <td>Month-to-Month</td>\n",
              "      <td>Yes</td>\n",
              "      <td>Bank Withdrawal</td>\n",
              "      <td>39.65</td>\n",
              "      <td>59.65</td>\n",
              "      <td>3</td>\n",
              "      <td>1</td>\n",
              "      <td>91</td>\n",
              "      <td>5433</td>\n",
              "    </tr>\n",
              "    <tr>\n",
              "      <th>1</th>\n",
              "      <td>7495-OOKFY</td>\n",
              "      <td>8</td>\n",
              "      <td>Offer E</td>\n",
              "      <td>Yes</td>\n",
              "      <td>Yes</td>\n",
              "      <td>Fiber Optic</td>\n",
              "      <td>17</td>\n",
              "      <td>No</td>\n",
              "      <td>Yes</td>\n",
              "      <td>No</td>\n",
              "      <td>...</td>\n",
              "      <td>Yes</td>\n",
              "      <td>Month-to-Month</td>\n",
              "      <td>Yes</td>\n",
              "      <td>Credit Card</td>\n",
              "      <td>80.65</td>\n",
              "      <td>1024.10</td>\n",
              "      <td>3</td>\n",
              "      <td>1</td>\n",
              "      <td>69</td>\n",
              "      <td>5302</td>\n",
              "    </tr>\n",
              "    <tr>\n",
              "      <th>2</th>\n",
              "      <td>1658-BYGOY</td>\n",
              "      <td>18</td>\n",
              "      <td>Offer D</td>\n",
              "      <td>Yes</td>\n",
              "      <td>Yes</td>\n",
              "      <td>Fiber Optic</td>\n",
              "      <td>52</td>\n",
              "      <td>No</td>\n",
              "      <td>No</td>\n",
              "      <td>No</td>\n",
              "      <td>...</td>\n",
              "      <td>Yes</td>\n",
              "      <td>Month-to-Month</td>\n",
              "      <td>Yes</td>\n",
              "      <td>Bank Withdrawal</td>\n",
              "      <td>95.45</td>\n",
              "      <td>1910.88</td>\n",
              "      <td>2</td>\n",
              "      <td>1</td>\n",
              "      <td>81</td>\n",
              "      <td>3179</td>\n",
              "    </tr>\n",
              "    <tr>\n",
              "      <th>3</th>\n",
              "      <td>4598-XLKNJ</td>\n",
              "      <td>25</td>\n",
              "      <td>Offer C</td>\n",
              "      <td>Yes</td>\n",
              "      <td>No</td>\n",
              "      <td>Fiber Optic</td>\n",
              "      <td>12</td>\n",
              "      <td>No</td>\n",
              "      <td>Yes</td>\n",
              "      <td>Yes</td>\n",
              "      <td>...</td>\n",
              "      <td>Yes</td>\n",
              "      <td>Month-to-Month</td>\n",
              "      <td>Yes</td>\n",
              "      <td>Bank Withdrawal</td>\n",
              "      <td>98.50</td>\n",
              "      <td>2995.07</td>\n",
              "      <td>2</td>\n",
              "      <td>1</td>\n",
              "      <td>88</td>\n",
              "      <td>5337</td>\n",
              "    </tr>\n",
              "    <tr>\n",
              "      <th>4</th>\n",
              "      <td>4846-WHAFZ</td>\n",
              "      <td>37</td>\n",
              "      <td>Offer C</td>\n",
              "      <td>Yes</td>\n",
              "      <td>Yes</td>\n",
              "      <td>Fiber Optic</td>\n",
              "      <td>14</td>\n",
              "      <td>No</td>\n",
              "      <td>No</td>\n",
              "      <td>No</td>\n",
              "      <td>...</td>\n",
              "      <td>Yes</td>\n",
              "      <td>Month-to-Month</td>\n",
              "      <td>Yes</td>\n",
              "      <td>Bank Withdrawal</td>\n",
              "      <td>76.50</td>\n",
              "      <td>3102.36</td>\n",
              "      <td>2</td>\n",
              "      <td>1</td>\n",
              "      <td>67</td>\n",
              "      <td>2793</td>\n",
              "    </tr>\n",
              "    <tr>\n",
              "      <th>...</th>\n",
              "      <td>...</td>\n",
              "      <td>...</td>\n",
              "      <td>...</td>\n",
              "      <td>...</td>\n",
              "      <td>...</td>\n",
              "      <td>...</td>\n",
              "      <td>...</td>\n",
              "      <td>...</td>\n",
              "      <td>...</td>\n",
              "      <td>...</td>\n",
              "      <td>...</td>\n",
              "      <td>...</td>\n",
              "      <td>...</td>\n",
              "      <td>...</td>\n",
              "      <td>...</td>\n",
              "      <td>...</td>\n",
              "      <td>...</td>\n",
              "      <td>...</td>\n",
              "      <td>...</td>\n",
              "      <td>...</td>\n",
              "      <td>...</td>\n",
              "    </tr>\n",
              "    <tr>\n",
              "      <th>7038</th>\n",
              "      <td>2569-WGERO</td>\n",
              "      <td>72</td>\n",
              "      <td>None</td>\n",
              "      <td>Yes</td>\n",
              "      <td>No</td>\n",
              "      <td>None</td>\n",
              "      <td>0</td>\n",
              "      <td>No</td>\n",
              "      <td>No</td>\n",
              "      <td>No</td>\n",
              "      <td>...</td>\n",
              "      <td>No</td>\n",
              "      <td>Two Year</td>\n",
              "      <td>Yes</td>\n",
              "      <td>Bank Withdrawal</td>\n",
              "      <td>21.15</td>\n",
              "      <td>3039.53</td>\n",
              "      <td>5</td>\n",
              "      <td>0</td>\n",
              "      <td>45</td>\n",
              "      <td>5306</td>\n",
              "    </tr>\n",
              "    <tr>\n",
              "      <th>7039</th>\n",
              "      <td>6840-RESVB</td>\n",
              "      <td>24</td>\n",
              "      <td>Offer C</td>\n",
              "      <td>Yes</td>\n",
              "      <td>Yes</td>\n",
              "      <td>Cable</td>\n",
              "      <td>24</td>\n",
              "      <td>Yes</td>\n",
              "      <td>No</td>\n",
              "      <td>Yes</td>\n",
              "      <td>...</td>\n",
              "      <td>Yes</td>\n",
              "      <td>One Year</td>\n",
              "      <td>Yes</td>\n",
              "      <td>Mailed Check</td>\n",
              "      <td>84.80</td>\n",
              "      <td>2807.47</td>\n",
              "      <td>3</td>\n",
              "      <td>0</td>\n",
              "      <td>59</td>\n",
              "      <td>2140</td>\n",
              "    </tr>\n",
              "    <tr>\n",
              "      <th>7040</th>\n",
              "      <td>2234-XADUH</td>\n",
              "      <td>72</td>\n",
              "      <td>None</td>\n",
              "      <td>Yes</td>\n",
              "      <td>Yes</td>\n",
              "      <td>Fiber Optic</td>\n",
              "      <td>59</td>\n",
              "      <td>No</td>\n",
              "      <td>Yes</td>\n",
              "      <td>Yes</td>\n",
              "      <td>...</td>\n",
              "      <td>Yes</td>\n",
              "      <td>One Year</td>\n",
              "      <td>Yes</td>\n",
              "      <td>Credit Card</td>\n",
              "      <td>103.20</td>\n",
              "      <td>9453.04</td>\n",
              "      <td>4</td>\n",
              "      <td>0</td>\n",
              "      <td>71</td>\n",
              "      <td>5560</td>\n",
              "    </tr>\n",
              "    <tr>\n",
              "      <th>7041</th>\n",
              "      <td>4801-JZAZL</td>\n",
              "      <td>11</td>\n",
              "      <td>None</td>\n",
              "      <td>No</td>\n",
              "      <td>No</td>\n",
              "      <td>DSL</td>\n",
              "      <td>17</td>\n",
              "      <td>Yes</td>\n",
              "      <td>No</td>\n",
              "      <td>No</td>\n",
              "      <td>...</td>\n",
              "      <td>Yes</td>\n",
              "      <td>Month-to-Month</td>\n",
              "      <td>Yes</td>\n",
              "      <td>Bank Withdrawal</td>\n",
              "      <td>29.60</td>\n",
              "      <td>319.21</td>\n",
              "      <td>4</td>\n",
              "      <td>0</td>\n",
              "      <td>59</td>\n",
              "      <td>2793</td>\n",
              "    </tr>\n",
              "    <tr>\n",
              "      <th>7042</th>\n",
              "      <td>3186-AJIEK</td>\n",
              "      <td>66</td>\n",
              "      <td>None</td>\n",
              "      <td>Yes</td>\n",
              "      <td>No</td>\n",
              "      <td>Fiber Optic</td>\n",
              "      <td>11</td>\n",
              "      <td>Yes</td>\n",
              "      <td>No</td>\n",
              "      <td>Yes</td>\n",
              "      <td>...</td>\n",
              "      <td>Yes</td>\n",
              "      <td>Two Year</td>\n",
              "      <td>Yes</td>\n",
              "      <td>Bank Withdrawal</td>\n",
              "      <td>105.65</td>\n",
              "      <td>8887.86</td>\n",
              "      <td>4</td>\n",
              "      <td>0</td>\n",
              "      <td>38</td>\n",
              "      <td>5097</td>\n",
              "    </tr>\n",
              "  </tbody>\n",
              "</table>\n",
              "<p>7043 rows × 21 columns</p>\n",
              "</div>"
            ],
            "text/plain": [
              "              id  months    offer phone multiple internet_type  gb_mon  \\\n",
              "0     8779-QRDMV       1     None    No       No           DSL       8   \n",
              "1     7495-OOKFY       8  Offer E   Yes      Yes   Fiber Optic      17   \n",
              "2     1658-BYGOY      18  Offer D   Yes      Yes   Fiber Optic      52   \n",
              "3     4598-XLKNJ      25  Offer C   Yes       No   Fiber Optic      12   \n",
              "4     4846-WHAFZ      37  Offer C   Yes      Yes   Fiber Optic      14   \n",
              "...          ...     ...      ...   ...      ...           ...     ...   \n",
              "7038  2569-WGERO      72     None   Yes       No          None       0   \n",
              "7039  6840-RESVB      24  Offer C   Yes      Yes         Cable      24   \n",
              "7040  2234-XADUH      72     None   Yes      Yes   Fiber Optic      59   \n",
              "7041  4801-JZAZL      11     None    No       No           DSL      17   \n",
              "7042  3186-AJIEK      66     None   Yes       No   Fiber Optic      11   \n",
              "\n",
              "     security backup protection  ... unlimited        contract paperless  \\\n",
              "0          No     No        Yes  ...        No  Month-to-Month       Yes   \n",
              "1          No    Yes         No  ...       Yes  Month-to-Month       Yes   \n",
              "2          No     No         No  ...       Yes  Month-to-Month       Yes   \n",
              "3          No    Yes        Yes  ...       Yes  Month-to-Month       Yes   \n",
              "4          No     No         No  ...       Yes  Month-to-Month       Yes   \n",
              "...       ...    ...        ...  ...       ...             ...       ...   \n",
              "7038       No     No         No  ...        No        Two Year       Yes   \n",
              "7039      Yes     No        Yes  ...       Yes        One Year       Yes   \n",
              "7040       No    Yes        Yes  ...       Yes        One Year       Yes   \n",
              "7041      Yes     No         No  ...       Yes  Month-to-Month       Yes   \n",
              "7042      Yes     No        Yes  ...       Yes        Two Year       Yes   \n",
              "\n",
              "              payment monthly  total_revenue  satisfaction  churn_value  \\\n",
              "0     Bank Withdrawal   39.65          59.65             3            1   \n",
              "1         Credit Card   80.65        1024.10             3            1   \n",
              "2     Bank Withdrawal   95.45        1910.88             2            1   \n",
              "3     Bank Withdrawal   98.50        2995.07             2            1   \n",
              "4     Bank Withdrawal   76.50        3102.36             2            1   \n",
              "...               ...     ...            ...           ...          ...   \n",
              "7038  Bank Withdrawal   21.15        3039.53             5            0   \n",
              "7039     Mailed Check   84.80        2807.47             3            0   \n",
              "7040      Credit Card  103.20        9453.04             4            0   \n",
              "7041  Bank Withdrawal   29.60         319.21             4            0   \n",
              "7042  Bank Withdrawal  105.65        8887.86             4            0   \n",
              "\n",
              "      churn_score  cltv  \n",
              "0              91  5433  \n",
              "1              69  5302  \n",
              "2              81  3179  \n",
              "3              88  5337  \n",
              "4              67  2793  \n",
              "...           ...   ...  \n",
              "7038           45  5306  \n",
              "7039           59  2140  \n",
              "7040           71  5560  \n",
              "7041           59  2793  \n",
              "7042           38  5097  \n",
              "\n",
              "[7043 rows x 21 columns]"
            ]
          },
          "execution_count": 2,
          "metadata": {},
          "output_type": "execute_result"
        }
      ],
      "source": [
        "df = pd.read_pickle('churndata.pkl')\n",
        "df"
      ]
    },
    {
      "cell_type": "markdown",
      "metadata": {
        "id": "HTDvzzGZpz3m"
      },
      "source": [
        "Here, we can see various categories of customer variables, as well as `churn_value` (an indicator for whether the customer has left the sample), and `months` (the time variable). Let's start with some simple EDA related to these variables:"
      ]
    },
    {
      "cell_type": "code",
      "execution_count": null,
      "metadata": {
        "id": "nDiIVwaQpz3m",
        "outputId": "f1d1c4c8-b36e-4f92-ba81-c5eabff79ddc"
      },
      "outputs": [
        {
          "data": {
            "text/plain": [
              "<matplotlib.axes._subplots.AxesSubplot at 0x7fa4724d2a50>"
            ]
          },
          "execution_count": 3,
          "metadata": {},
          "output_type": "execute_result"
        },
        {
          "data": {
            "image/png": "[encoded data removed]",
            "text/plain": [
              "<Figure size 576x576 with 1 Axes>"
            ]
          },
          "metadata": {
            "needs_background": "light"
          },
          "output_type": "display_data"
        }
      ],
      "source": [
        "plt.figure(figsize=(8,8))\n",
        "sns.barplot(data=df, x='churn_value', y='months')\n"
      ]
    },
    {
      "cell_type": "markdown",
      "metadata": {
        "id": "i7zN4TNJpz3m"
      },
      "source": [
        "Clearly the average tenure is shorter for those that have churned. As we are interested in understanding the time dimension (how long someone will remain a customer), it is important to understand that our data are censored, i.e. the number of months before churn is biased downwards for customers who have not yet churned."
      ]
    },
    {
      "cell_type": "markdown",
      "metadata": {
        "id": "QhMUfqrlpz3m"
      },
      "source": [
        "# Section 2: Plotting the Kaplan-Meier Curve\n",
        "\n",
        "The Kaplan-Meier Curve represents a simple non-parametric visualization of survival likelihood function in our data. In that sense, it can be thought of as part of the EDA process for survival analysis. Let's start by fitting a simple Kaplan-Meier Curve on our data."
      ]
    },
    {
      "cell_type": "code",
      "execution_count": null,
      "metadata": {
        "id": "Yaz_JqI9pz3n",
        "outputId": "9f81fa8b-9d86-411e-92ac-26b845c16263"
      },
      "outputs": [
        {
          "data": {
            "text/plain": [
              "Text(0, 0.5, 'Survival probability')"
            ]
          },
          "execution_count": 4,
          "metadata": {},
          "output_type": "execute_result"
        },
        {
          "data": {
            "image/png": "[encoded data removed]",
            "text/plain": [
              "<Figure size 864x432 with 1 Axes>"
            ]
          },
          "metadata": {
            "needs_background": "light"
          },
          "output_type": "display_data"
        }
      ],
      "source": [
        "kmf = KaplanMeierFitter()\n",
        "\n",
        "kmf.fit(df.months, df.churn_value, label = 'Kaplan Meier Estimate, full sample')\n",
        "\n",
        "kmf.plot(linewidth=4, figsize=(12, 6))\n",
        "plt.title('Customer Churn: Kaplan-Meier Curve')\n",
        "plt.xlabel('Months')\n",
        "plt.ylabel('Survival probability')"
      ]
    },
    {
      "cell_type": "markdown",
      "metadata": {
        "id": "zce67I_Zpz3n"
      },
      "source": [
        "# Section 3: Examining Variables\n",
        "\n",
        "As we continue to examine the survival function, we may want to relate survival risk with features, or characteristics of our customers. In this example, we will look at diffences in survival risk for customers who have only a single service, vs. customers with multiple services. We can start by plotting a simple histogram for each category, looking at differences between churned and not-churned subsamples."
      ]
    },
    {
      "cell_type": "code",
      "execution_count": null,
      "metadata": {
        "id": "8XCPwj6bpz3n",
        "outputId": "a9fc0c6b-79e1-4bae-f258-24ee61e6df0a"
      },
      "outputs": [
        {
          "data": {
            "text/plain": [
              "churn_value\n",
              "0    AxesSubplot(0.547727,0.125;0.352273x0.755)\n",
              "1    AxesSubplot(0.547727,0.125;0.352273x0.755)\n",
              "Name: months, dtype: object"
            ]
          },
          "execution_count": 5,
          "metadata": {},
          "output_type": "execute_result"
        },
        {
          "data": {
            "image/png": "[encoded data removed]",
            "text/plain": [
              "<Figure size 1152x576 with 2 Axes>"
            ]
          },
          "metadata": {
            "needs_background": "light"
          },
          "output_type": "display_data"
        }
      ],
      "source": [
        "# Let's look at the 'multiple services variable'\n",
        "df1 = df[df.multiple=='Yes']\n",
        "df2 = df[df.multiple=='No']\n",
        "fig, ax = plt.subplots(1,2, figsize=(16,8))\n",
        "df1.groupby('churn_value')['months'].plot(kind='hist', ax=ax[0], title='Customers with Multiple Services.')\n",
        "ax[0].legend(labels=['Not churned', 'Churned'])\n",
        "df2.groupby('churn_value')['months'].plot(kind='hist', ax=ax[1], title='Customers with Single Service.')\n"
      ]
    },
    {
      "cell_type": "markdown",
      "metadata": {
        "id": "x12LO2WYpz3n"
      },
      "source": [
        "We can see differences across these groups, let's examing Kaplan-Meier curves for various subsamples. This involves fitting the Kaplan Meier estimator separately for each subsample."
      ]
    },
    {
      "cell_type": "code",
      "execution_count": null,
      "metadata": {
        "id": "FSCevLabpz3n",
        "outputId": "b04d7a88-09aa-435b-ed93-885d5139ac28"
      },
      "outputs": [
        {
          "data": {
            "text/plain": [
              "Text(0, 0.5, 'Survival probability')"
            ]
          },
          "execution_count": 6,
          "metadata": {},
          "output_type": "execute_result"
        },
        {
          "data": {
            "image/png": "[encoded data removed]",
            "text/plain": [
              "<Figure size 864x432 with 1 Axes>"
            ]
          },
          "metadata": {
            "needs_background": "light"
          },
          "output_type": "display_data"
        }
      ],
      "source": [
        "kmf.fit(df1.months, df1.churn_value)\n",
        "kmf.plot(label='Multiple Services', figsize=(12, 6))\n",
        "kmf.fit(df2.months, df2.churn_value)\n",
        "kmf.plot(label='Single Service')\n",
        "plt.title('Number of Services and Churn: Kaplan-Meier Curve')\n",
        "plt.xlabel('Months')\n",
        "plt.ylabel('Survival probability')\n"
      ]
    },
    {
      "cell_type": "markdown",
      "metadata": {
        "id": "9ekorta8pz3n"
      },
      "source": [
        "# Section 4: Cox Proportional Hazards Model\n",
        "\n",
        "Having looked at our data and related Kaplan-Meier curves, we can formalize the analysis by running survival regression. There are several available models here, documented in the Python [lifelines](https://lifelines.readthedocs.io/en/latest/) module. As we discussed in the course, the Cox model estimates a baseline hazard rate, and assumes features impact this hazard rate proportionally. While this is a strong assumption (and may not be true in general), the model still provides insight into the role of features and their importance impacting survival risk. Let's begin by setting data up for the Cox survival regression."
      ]
    },
    {
      "cell_type": "code",
      "execution_count": null,
      "metadata": {
        "id": "NJFnWD2upz3n"
      },
      "outputs": [],
      "source": [
        "# Setting up the data\n",
        "dfu = df[['multiple', 'churn_value']]\n",
        "dfd = pd.get_dummies(dfu, drop_first=True)\n",
        "dfd['months'] = df.months\n",
        "dfd.rename(columns={'multiple_Yes':'Multiple Services'}, inplace=True)"
      ]
    },
    {
      "cell_type": "markdown",
      "metadata": {
        "id": "5QhexrOWpz3n"
      },
      "source": [
        "Now, let's fit a Cox proportional hazard model using the Multiple Services variable."
      ]
    },
    {
      "cell_type": "code",
      "execution_count": null,
      "metadata": {
        "id": "aU13Vg_Gpz3n",
        "outputId": "1bd1c76c-3afc-4268-9445-c78d5bb09c46"
      },
      "outputs": [
        {
          "name": "stdout",
          "output_type": "stream",
          "text": [
            "<lifelines.CoxPHFitter: fitted with 7043 total observations, 5174 right-censored observations>\n",
            "             duration col = 'months'\n",
            "                event col = 'churn_value'\n",
            "      baseline estimation = breslow\n",
            "   number of observations = 7043\n",
            "number of events observed = 1869\n",
            "   partial log-likelihood = -15641.90\n",
            "         time fit was run = 2020-06-24 00:22:44 UTC\n",
            "\n",
            "---\n",
            "                    coef  exp(coef)   se(coef)   coef lower 95%   coef upper 95%  exp(coef) lower 95%  exp(coef) upper 95%\n",
            "Multiple Services  -0.24       0.79       0.05            -0.33            -0.15                 0.72                 0.86\n",
            "\n",
            "                      z      p   -log2(p)\n",
            "Multiple Services -5.06 <0.005      21.18\n",
            "---\n",
            "Concordance = 0.55\n",
            "Partial AIC = 31285.81\n",
            "log-likelihood ratio test = 25.72 on 1 df\n",
            "-log2(p) of ll-ratio test = 21.27\n",
            "\n"
          ]
        }
      ],
      "source": [
        "cph = CoxPHFitter()\n",
        "cph.fit(dfd, duration_col='months', event_col='churn_value')\n",
        "cph.print_summary(style='ascii')"
      ]
    },
    {
      "cell_type": "markdown",
      "metadata": {
        "id": "cOoG25uKpz3n"
      },
      "source": [
        "Here, we see regression output for the estimated cox model. The Cox model objet also allows us to plot coefficient estimates to assess their significance, using the `plot` method."
      ]
    },
    {
      "cell_type": "code",
      "execution_count": null,
      "metadata": {
        "id": "CevBjnKnpz3o",
        "outputId": "4d9fd313-85a4-4be7-bfe0-d73deab6933d"
      },
      "outputs": [
        {
          "data": {
            "text/plain": [
              "<matplotlib.axes._subplots.AxesSubplot at 0x7fa47390ae50>"
            ]
          },
          "execution_count": 9,
          "metadata": {},
          "output_type": "execute_result"
        },
        {
          "data": {
            "image/png": "[encoded data removed]",
            "text/plain": [
              "<Figure size 432x288 with 1 Axes>"
            ]
          },
          "metadata": {
            "needs_background": "light"
          },
          "output_type": "display_data"
        }
      ],
      "source": [
        "cph.plot()"
      ]
    },
    {
      "cell_type": "markdown",
      "metadata": {
        "id": "LfnpWPW8pz3o"
      },
      "source": [
        "Here, we see the coefficient estimate, along with error bars used to assess statistical significance. The result is significantly different from zero, indicating a negative effect of the Multiple Services variable in our analysis."
      ]
    },
    {
      "cell_type": "markdown",
      "metadata": {
        "id": "kGhiKezzpz3o"
      },
      "source": [
        "The Cox model object also allows us to assess results visually, by plotting resulting estimates of survival risk by covariate groups, using the `plot_covariate_groups` method. This can be useful to see estimated changes in survival risk across groups."
      ]
    },
    {
      "cell_type": "code",
      "execution_count": null,
      "metadata": {
        "id": "eyhidCkNpz3o",
        "outputId": "7e129374-8f34-45f8-83b0-c5fcb9f855e2"
      },
      "outputs": [
        {
          "data": {
            "text/plain": [
              "<matplotlib.axes._subplots.AxesSubplot at 0x7fa4730de550>"
            ]
          },
          "execution_count": 10,
          "metadata": {},
          "output_type": "execute_result"
        },
        {
          "data": {
            "image/png": "[encoded data removed]",
            "text/plain": [
              "<Figure size 720x432 with 1 Axes>"
            ]
          },
          "metadata": {
            "needs_background": "light"
          },
          "output_type": "display_data"
        }
      ],
      "source": [
        "cph.plot_covariate_groups('Multiple Services', [1, 0], plot_baseline=False, figsize=(10, 6), lw=4)"
      ]
    },
    {
      "cell_type": "markdown",
      "metadata": {
        "id": "i8BwMBL5pz3o"
      },
      "source": [
        "To compare the impact across variables, let's include a few more variables: Satisfaction, Security Service, Backup Service, and Support, and re-run our analysis. We begin by setting up the data, as before."
      ]
    },
    {
      "cell_type": "code",
      "execution_count": null,
      "metadata": {
        "id": "f1-WeEr2pz3o"
      },
      "outputs": [],
      "source": [
        "# Including additional variables, data setup\n",
        "dfu = df[['churn_value', 'satisfaction', 'security', 'backup', 'support']]\n",
        "dfd = pd.get_dummies(dfu, drop_first=True)\n",
        "dfd['months'] = df.months\n",
        "#dfd.rename(columns={'multiple_Yes':'Multiple Services'}, inplace=True)\n",
        "dfd.rename(columns={'backup_Yes':'Backup Service'}, inplace=True)\n",
        "dfd.rename(columns={'security_Yes':'Security Service'}, inplace=True)\n",
        "dfd.rename(columns={'support_Yes':'Support Service'}, inplace=True)"
      ]
    },
    {
      "cell_type": "code",
      "execution_count": null,
      "metadata": {
        "id": "6UJe5AGapz3o",
        "outputId": "61707546-7074-4d4d-c93d-855bf5ac9f34"
      },
      "outputs": [
        {
          "name": "stdout",
          "output_type": "stream",
          "text": [
            "<lifelines.CoxPHFitter: fitted with 7043 total observations, 5174 right-censored observations>\n",
            "             duration col = 'months'\n",
            "                event col = 'churn_value'\n",
            "      baseline estimation = breslow\n",
            "   number of observations = 7043\n",
            "number of events observed = 1869\n",
            "   partial log-likelihood = -13308.14\n",
            "         time fit was run = 2020-06-24 00:22:45 UTC\n",
            "\n",
            "---\n",
            "                   coef  exp(coef)   se(coef)   coef lower 95%   coef upper 95%  exp(coef) lower 95%  exp(coef) upper 95%\n",
            "satisfaction      -1.30       0.27       0.02            -1.34            -1.25                 0.26                 0.29\n",
            "Security Service  -1.09       0.34       0.07            -1.22            -0.96                 0.29                 0.38\n",
            "Backup Service    -0.63       0.53       0.05            -0.73            -0.52                 0.48                 0.59\n",
            "Support Service   -0.49       0.61       0.06            -0.61            -0.36                 0.54                 0.70\n",
            "\n",
            "                      z      p   -log2(p)\n",
            "satisfaction     -55.26 <0.005        inf\n",
            "Security Service -16.46 <0.005     199.73\n",
            "Backup Service   -11.77 <0.005     103.89\n",
            "Support Service   -7.50 <0.005      43.84\n",
            "---\n",
            "Concordance = 0.90\n",
            "Partial AIC = 26624.27\n",
            "log-likelihood ratio test = 4693.25 on 4 df\n",
            "-log2(p) of ll-ratio test = inf\n",
            "\n"
          ]
        }
      ],
      "source": [
        "# Fitting Cox Proportional Model\n",
        "cph = CoxPHFitter()\n",
        "cph.fit(dfd, duration_col='months', event_col='churn_value')\n",
        "cph.print_summary(style='ascii')"
      ]
    },
    {
      "cell_type": "markdown",
      "metadata": {
        "id": "9hX8H78Apz3o"
      },
      "source": [
        "Again, we see results of regression output, denoting significance levels for each variable, as well as information about our dataset and model fit.\n",
        "As above, let's plot coefficients for different variables. This allows us to compare magnitudes and assess which variables have a larger influence on survival risk."
      ]
    },
    {
      "cell_type": "code",
      "execution_count": null,
      "metadata": {
        "id": "8Q5YfYxWpz3p",
        "outputId": "f79dc596-81d9-4b6f-f2f2-1381970fe736"
      },
      "outputs": [
        {
          "data": {
            "text/plain": [
              "<matplotlib.axes._subplots.AxesSubplot at 0x7fa473211110>"
            ]
          },
          "execution_count": 13,
          "metadata": {},
          "output_type": "execute_result"
        },
        {
          "data": {
            "image/png": "[encoded data removed]",
            "text/plain": [
              "<Figure size 432x288 with 1 Axes>"
            ]
          },
          "metadata": {
            "needs_background": "light"
          },
          "output_type": "display_data"
        }
      ],
      "source": [
        "cph.plot()"
      ]
    },
    {
      "cell_type": "markdown",
      "metadata": {
        "id": "HLQkZ-Mqpz3p"
      },
      "source": [
        "Here, we see coefficient estimates for several variables, which helps us understand both their significance, as well as their relative magnitudes. The Satisfaction variable seems to have the largest impact on survival risk.\n",
        "\n",
        "Let's look at results for the Satisfaction variable by covariate group. This allows us to plot estiamted survival rates for different values of the Satisfaction and Security variables."
      ]
    },
    {
      "cell_type": "code",
      "execution_count": null,
      "metadata": {
        "id": "rQrJFbk6pz3p",
        "outputId": "74623f1e-f368-482f-fd9d-88355a4b700d"
      },
      "outputs": [
        {
          "data": {
            "text/plain": [
              "<matplotlib.axes._subplots.AxesSubplot at 0x7fa47349a310>"
            ]
          },
          "execution_count": 14,
          "metadata": {},
          "output_type": "execute_result"
        },
        {
          "data": {
            "image/png": "[encoded data removed]",
            "text/plain": [
              "<Figure size 720x432 with 1 Axes>"
            ]
          },
          "metadata": {
            "needs_background": "light"
          },
          "output_type": "display_data"
        }
      ],
      "source": [
        "cph.plot_covariate_groups('satisfaction', [5, 4, 3, 2, 1], plot_baseline=False, figsize=(10, 6), lw=4)"
      ]
    },
    {
      "cell_type": "markdown",
      "metadata": {
        "nbpresent": {
          "id": "2f8f0b11-e363-4227-8803-df1cba7c5f93"
        },
        "id": "cKYGejSHpz3p"
      },
      "source": [
        "Our estimated survival functions differ substantially based on this variable (we knew from the previous chart that this was likely the case).\n",
        "\n",
        "# **Summary**\n",
        "In this notebook, we have covered:\n",
        "\n",
        "1. How to approach Survival Analysis.\n",
        "2. Preparing Kaplan-Meier curves for various subgroups.\n",
        "3. Runing a basic Cox survival regression."
      ]
    },
    {
      "cell_type": "markdown",
      "source": [
        "# **Conclusion: Insights from Survival Modeling**\n",
        "\n",
        "\n",
        "This project applied survival analysis techniques to understand customer churn dynamics in a time-dependent framework. By leveraging the strengths of both non-parametric and semi-parametric methods, we achieved a nuanced understanding of customer retention patterns and the covariates influencing the timing of churn.\n",
        "\n",
        "The Kaplan-Meier estimator enabled a descriptive exploration of survival probabilities over time, revealing key differences in churn behavior across subgroups. These visual and empirical survival functions highlighted the influence of product usage characteristics, such as the number of subscribed services, on customer longevity.\n",
        "\n",
        "The Cox Proportional Hazards model further enhanced our analysis by quantifying the impact of multiple features on churn risk. Importantly, this method allowed us to isolate the relative hazard contributions of individual covariates, offering interpretable and statistically grounded measures of churn risk. The model also accounted for right-censoring, an essential aspect of churn data where many customers remain active at the time of observation.\n",
        "\n",
        "Our findings confirm that survival analysis offers distinct advantages over static classification models by incorporating the temporal dimension of churn and explicitly modeling the timing of exit events. These results have practical implications for customer relationship management, enabling organizations to identify high-risk segments early and deploy personalized retention strategies with greater precision.\n",
        "\n",
        "In future work, extensions could include time-varying covariates, parametric survival models, or integration with machine learning approaches such as random survival forests. These enhancements would support even more flexible modeling of nonlinear relationships and dynamic customer behavior over time.\n",
        "\n",
        "In summary, this study demonstrates that survival analysis is a valuable tool in the customer analytics toolkit, offering both explanatory power and predictive utility in modeling churn as a time-to-event process.\n",
        "\n"
      ],
      "metadata": {
        "id": "Z46JY9N4vpTG"
      }
    }
  ],
  "metadata": {
    "anaconda-cloud": {},
    "kernelspec": {
      "display_name": "Python 3",
      "language": "python",
      "name": "python3"
    },
    "language_info": {
      "codemirror_mode": {
        "name": "ipython",
        "version": 3
      },
      "file_extension": ".py",
      "mimetype": "text/x-python",
      "name": "python",
      "nbconvert_exporter": "python",
      "pygments_lexer": "ipython3",
      "version": "3.7.6"
    },
    "toc": {
      "colors": {
        "hover_highlight": "#DAA520",
        "navigate_num": "#000000",
        "navigate_text": "#333333",
        "running_highlight": "#FF0000",
        "selected_highlight": "#FFD700",
        "sidebar_border": "#EEEEEE",
        "wrapper_background": "#FFFFFF"
      },
      "moveMenuLeft": false,
      "nav_menu": {
        "height": "311px",
        "width": "412px"
      },
      "navigate_menu": true,
      "number_sections": false,
      "sideBar": false,
      "threshold": "3",
      "toc_cell": false,
      "toc_position": {
        "height": "22px",
        "left": "1105px",
        "right": "20px",
        "top": "-1px",
        "width": "22px"
      },
      "toc_section_display": "block",
      "toc_window_display": true,
      "widenNotebook": false
    },
    "colab": {
      "provenance": []
    }
  },
  "nbformat": 4,
  "nbformat_minor": 0
}